{
 "cells": [
  {
   "cell_type": "code",
   "execution_count": 1,
   "id": "9a2f209b",
   "metadata": {},
   "outputs": [],
   "source": [
    "import numpy as np\n",
    "import pandas as pd \n",
    "import matplotlib.pyplot as plt\n",
    "import seaborn as sns\n",
    "from warnings import filterwarnings\n",
    "filterwarnings('ignore')\n",
    "from sklearn.preprocessing import MinMaxScaler,StandardScaler,RobustScaler\n",
    "from sklearn.model_selection import train_test_split\n",
    "from sklearn.tree import DecisionTreeClassifier\n",
    "from sklearn import tree\n",
    "from sklearn.model_selection import GridSearchCV\n",
    "\n",
    "from sklearn.metrics import confusion_matrix\n",
    "import statsmodels.api as sm\n",
    "\n",
    "from sklearn.preprocessing import StandardScaler \n",
    "\n",
    "from sklearn import metrics\n",
    "from sklearn.linear_model import LogisticRegression\n",
    "from sklearn.metrics import classification_report\n",
    "from sklearn.metrics import cohen_kappa_score\n",
    "from sklearn.metrics import confusion_matrix\n",
    "from sklearn.metrics import roc_curve\n",
    "from sklearn.metrics import accuracy_score\n",
    "\n",
    "import matplotlib.pyplot as plt\n",
    "from matplotlib.colors import ListedColormap\n",
    "\n",
    "from sklearn.feature_selection import RFE\n",
    "\n",
    "from sklearn.metrics import classification_report,f1_score,recall_score,precision_score,accuracy_score\n",
    "from sklearn.metrics import ConfusionMatrixDisplay \n",
    "from sklearn.linear_model import LogisticRegression\n",
    "from sklearn.metrics import f1_score\n",
    "from sklearn.neighbors import KNeighborsClassifier\n",
    "from sklearn.naive_bayes import GaussianNB,BernoulliNB,MultinomialNB\n",
    "from sklearn.ensemble import RandomForestClassifier\n",
    "from sklearn.ensemble import BaggingClassifier\n",
    "from sklearn.ensemble import AdaBoostClassifier,GradientBoostingClassifier\n",
    "from xgboost import XGBClassifier\n",
    "from sklearn.ensemble import StackingClassifier\n",
    "from imblearn.over_sampling import SMOTE\n",
    "from sklearn.metrics import precision_recall_fscore_support"
   ]
  },
  {
   "cell_type": "code",
   "execution_count": 2,
   "id": "aa75df54",
   "metadata": {},
   "outputs": [],
   "source": [
    "#pip install --upgrade joblib"
   ]
  },
  {
   "cell_type": "code",
   "execution_count": 3,
   "id": "b59103ab",
   "metadata": {},
   "outputs": [],
   "source": [
    "def plot_vimp(poss, X, Y, feature_names):\n",
    "    \n",
    "    from    sklearn.tree            import  DecisionTreeClassifier\n",
    "    from    sklearn.ensemble        import  RandomForestClassifier        \n",
    "    from    sklearn.ensemble        import  AdaBoostClassifier\n",
    "    from    xgboost                 import  XGBClassifier  \n",
    "    \n",
    "    tex     =  \" (Normalized) total reduction of the criterion brought by that feature.\"\n",
    "        \n",
    "    if poss == 0:\n",
    "        name   =   \"Decision Tree\"\n",
    "        clf    =   DecisionTreeClassifier(criterion=\"entropy\", max_depth = 4, min_impurity_decrease = 0)\n",
    "        clf.fit(X, Y)\n",
    "    elif poss == 1:\n",
    "        name   =   \"Random Forest\"        \n",
    "        clf    =   RandomForestClassifier()\n",
    "        clf.fit(X, Y)  \n",
    "    elif poss == 2:\n",
    "        name   =   \"GradientBoost\"             \n",
    "        clf    =   GradientBoostingClassifier()\n",
    "        clf.fit(X, Y)          \n",
    "    elif poss == 3:\n",
    "        name   =   \"AdaBoost\"        \n",
    "        clf    =   AdaBoostClassifier()\n",
    "        clf.fit(X, Y)\n",
    "    elif poss==4:\n",
    "        name  =     \"XGBoost\"\n",
    "        clf   =      XGBClassifier()\n",
    "        clf.fit(X, Y)\n",
    "        \n",
    "    ###\n",
    "    ### Variable importance Plot\n",
    "    ###\n",
    "    importances =  clf.feature_importances_\n",
    "    indices     =  np.argsort(importances)\n",
    "    titlex      =  'Feature Importances for '+ name\n",
    "    plt.title(titlex)\n",
    "    plt.barh(range(len(indices)), importances[indices], color='b', align='center')\n",
    "    plt.yticks(range(len(indices)), [feature_names[i] for i in indices])\n",
    "    plt.xlabel('Relative Importance :\\n' + tex)\n",
    "    plt.show"
   ]
  },
  {
   "cell_type": "code",
   "execution_count": 4,
   "id": "cec4cae1",
   "metadata": {},
   "outputs": [],
   "source": [
    "def draw_roc( actual, probs ):\n",
    "\n",
    "    import pandas            as   pd\n",
    "    import numpy             as   np\n",
    "    import seaborn           as   sns\n",
    "    import matplotlib.pyplot as   plt\n",
    "    import sklearn.metrics   as   metrics\n",
    "    import seaborn           as   sns\n",
    "    \n",
    "    fpr, tpr, thresholds = metrics.roc_curve( actual, probs,\n",
    "    drop_intermediate = False )\n",
    "    auc_score = metrics.roc_auc_score( actual, probs )\n",
    "    plt.figure(figsize=(6, 4))\n",
    "    plt.plot( fpr, tpr, label='ROC curve (area = %0.2f)' % auc_score )\n",
    "    plt.plot([0, 1], [0, 1], 'k--')\n",
    "    plt.xlim([0.0, 1.0])\n",
    "    plt.ylim([0.0, 1.05])\n",
    "    plt.xlabel('False Positive Rate or [1 - True Negative Rate]')\n",
    "    plt.ylabel('True Positive Rate')\n",
    "    plt.title('Receiver operating characteristic curve')\n",
    "    plt.legend(loc=\"lower right\")\n",
    "    plt.show()"
   ]
  },
  {
   "cell_type": "code",
   "execution_count": 5,
   "id": "391f491d",
   "metadata": {},
   "outputs": [],
   "source": [
    "feature_names         =  ['Gender', 'Customer Type', 'Type of Travel', 'Class','Inflight wifi service',\\\n",
    "                          'Departure/Arrival time convenient','Ease of Online booking', 'Online boarding',\\\n",
    "                          'Seat comfort', 'On-board service', 'Leg room service', 'Baggage handling',\\\n",
    "                          'Checkin service', 'Cleanliness', 'Inflight service']"
   ]
  },
  {
   "cell_type": "code",
   "execution_count": 6,
   "id": "9060af09",
   "metadata": {},
   "outputs": [
    {
     "data": {
      "text/html": [
       "<div>\n",
       "<style scoped>\n",
       "    .dataframe tbody tr th:only-of-type {\n",
       "        vertical-align: middle;\n",
       "    }\n",
       "\n",
       "    .dataframe tbody tr th {\n",
       "        vertical-align: top;\n",
       "    }\n",
       "\n",
       "    .dataframe thead th {\n",
       "        text-align: right;\n",
       "    }\n",
       "</style>\n",
       "<table border=\"1\" class=\"dataframe\">\n",
       "  <thead>\n",
       "    <tr style=\"text-align: right;\">\n",
       "      <th></th>\n",
       "      <th>Gender</th>\n",
       "      <th>Customer Type</th>\n",
       "      <th>Type of Travel</th>\n",
       "      <th>Class</th>\n",
       "      <th>Inflight wifi service</th>\n",
       "      <th>Departure/Arrival time convenient</th>\n",
       "      <th>Ease of Online booking</th>\n",
       "      <th>Online boarding</th>\n",
       "      <th>Seat comfort</th>\n",
       "      <th>On-board service</th>\n",
       "      <th>Leg room service</th>\n",
       "      <th>Baggage handling</th>\n",
       "      <th>Checkin service</th>\n",
       "      <th>Cleanliness</th>\n",
       "      <th>Inflight service</th>\n",
       "      <th>satisfaction</th>\n",
       "    </tr>\n",
       "  </thead>\n",
       "  <tbody>\n",
       "    <tr>\n",
       "      <th>0</th>\n",
       "      <td>1.0</td>\n",
       "      <td>0.0</td>\n",
       "      <td>1.0</td>\n",
       "      <td>1.0</td>\n",
       "      <td>3.0</td>\n",
       "      <td>5.0</td>\n",
       "      <td>3.0</td>\n",
       "      <td>3.0</td>\n",
       "      <td>3.0</td>\n",
       "      <td>4.0</td>\n",
       "      <td>2.0</td>\n",
       "      <td>3.0</td>\n",
       "      <td>3.0</td>\n",
       "      <td>3.0</td>\n",
       "      <td>5.0</td>\n",
       "      <td>0.0</td>\n",
       "    </tr>\n",
       "    <tr>\n",
       "      <th>1</th>\n",
       "      <td>1.0</td>\n",
       "      <td>1.0</td>\n",
       "      <td>0.0</td>\n",
       "      <td>1.0</td>\n",
       "      <td>3.0</td>\n",
       "      <td>2.0</td>\n",
       "      <td>2.0</td>\n",
       "      <td>2.0</td>\n",
       "      <td>3.0</td>\n",
       "      <td>2.0</td>\n",
       "      <td>1.0</td>\n",
       "      <td>0.0</td>\n",
       "      <td>2.0</td>\n",
       "      <td>3.0</td>\n",
       "      <td>1.0</td>\n",
       "      <td>0.0</td>\n",
       "    </tr>\n",
       "    <tr>\n",
       "      <th>2</th>\n",
       "      <td>0.0</td>\n",
       "      <td>0.0</td>\n",
       "      <td>0.0</td>\n",
       "      <td>0.0</td>\n",
       "      <td>3.0</td>\n",
       "      <td>4.0</td>\n",
       "      <td>4.0</td>\n",
       "      <td>3.0</td>\n",
       "      <td>3.0</td>\n",
       "      <td>3.0</td>\n",
       "      <td>3.0</td>\n",
       "      <td>2.0</td>\n",
       "      <td>1.0</td>\n",
       "      <td>3.0</td>\n",
       "      <td>4.0</td>\n",
       "      <td>0.0</td>\n",
       "    </tr>\n",
       "    <tr>\n",
       "      <th>3</th>\n",
       "      <td>0.0</td>\n",
       "      <td>0.0</td>\n",
       "      <td>0.0</td>\n",
       "      <td>0.0</td>\n",
       "      <td>1.0</td>\n",
       "      <td>4.0</td>\n",
       "      <td>4.0</td>\n",
       "      <td>4.0</td>\n",
       "      <td>3.0</td>\n",
       "      <td>1.0</td>\n",
       "      <td>1.0</td>\n",
       "      <td>0.0</td>\n",
       "      <td>3.0</td>\n",
       "      <td>1.0</td>\n",
       "      <td>1.0</td>\n",
       "      <td>0.0</td>\n",
       "    </tr>\n",
       "    <tr>\n",
       "      <th>4</th>\n",
       "      <td>0.0</td>\n",
       "      <td>0.0</td>\n",
       "      <td>0.0</td>\n",
       "      <td>1.0</td>\n",
       "      <td>4.0</td>\n",
       "      <td>3.0</td>\n",
       "      <td>2.0</td>\n",
       "      <td>4.0</td>\n",
       "      <td>4.0</td>\n",
       "      <td>4.0</td>\n",
       "      <td>5.0</td>\n",
       "      <td>2.0</td>\n",
       "      <td>1.0</td>\n",
       "      <td>4.0</td>\n",
       "      <td>4.0</td>\n",
       "      <td>0.0</td>\n",
       "    </tr>\n",
       "    <tr>\n",
       "      <th>...</th>\n",
       "      <td>...</td>\n",
       "      <td>...</td>\n",
       "      <td>...</td>\n",
       "      <td>...</td>\n",
       "      <td>...</td>\n",
       "      <td>...</td>\n",
       "      <td>...</td>\n",
       "      <td>...</td>\n",
       "      <td>...</td>\n",
       "      <td>...</td>\n",
       "      <td>...</td>\n",
       "      <td>...</td>\n",
       "      <td>...</td>\n",
       "      <td>...</td>\n",
       "      <td>...</td>\n",
       "      <td>...</td>\n",
       "    </tr>\n",
       "    <tr>\n",
       "      <th>97405</th>\n",
       "      <td>1.0</td>\n",
       "      <td>1.0</td>\n",
       "      <td>0.0</td>\n",
       "      <td>1.0</td>\n",
       "      <td>1.0</td>\n",
       "      <td>5.0</td>\n",
       "      <td>1.0</td>\n",
       "      <td>1.0</td>\n",
       "      <td>3.0</td>\n",
       "      <td>5.0</td>\n",
       "      <td>1.0</td>\n",
       "      <td>2.0</td>\n",
       "      <td>4.0</td>\n",
       "      <td>4.0</td>\n",
       "      <td>3.0</td>\n",
       "      <td>0.0</td>\n",
       "    </tr>\n",
       "    <tr>\n",
       "      <th>97406</th>\n",
       "      <td>0.0</td>\n",
       "      <td>0.0</td>\n",
       "      <td>1.0</td>\n",
       "      <td>2.0</td>\n",
       "      <td>3.0</td>\n",
       "      <td>1.0</td>\n",
       "      <td>3.0</td>\n",
       "      <td>3.0</td>\n",
       "      <td>1.0</td>\n",
       "      <td>3.0</td>\n",
       "      <td>1.0</td>\n",
       "      <td>1.0</td>\n",
       "      <td>1.0</td>\n",
       "      <td>1.0</td>\n",
       "      <td>2.0</td>\n",
       "      <td>0.0</td>\n",
       "    </tr>\n",
       "    <tr>\n",
       "      <th>97407</th>\n",
       "      <td>1.0</td>\n",
       "      <td>0.0</td>\n",
       "      <td>0.0</td>\n",
       "      <td>0.0</td>\n",
       "      <td>1.0</td>\n",
       "      <td>1.0</td>\n",
       "      <td>1.0</td>\n",
       "      <td>4.0</td>\n",
       "      <td>4.0</td>\n",
       "      <td>5.0</td>\n",
       "      <td>5.0</td>\n",
       "      <td>4.0</td>\n",
       "      <td>3.0</td>\n",
       "      <td>3.0</td>\n",
       "      <td>5.0</td>\n",
       "      <td>1.0</td>\n",
       "    </tr>\n",
       "    <tr>\n",
       "      <th>97408</th>\n",
       "      <td>0.0</td>\n",
       "      <td>1.0</td>\n",
       "      <td>0.0</td>\n",
       "      <td>0.0</td>\n",
       "      <td>3.0</td>\n",
       "      <td>3.0</td>\n",
       "      <td>3.0</td>\n",
       "      <td>3.0</td>\n",
       "      <td>3.0</td>\n",
       "      <td>5.0</td>\n",
       "      <td>5.0</td>\n",
       "      <td>4.0</td>\n",
       "      <td>4.0</td>\n",
       "      <td>3.0</td>\n",
       "      <td>4.0</td>\n",
       "      <td>0.0</td>\n",
       "    </tr>\n",
       "    <tr>\n",
       "      <th>97409</th>\n",
       "      <td>1.0</td>\n",
       "      <td>0.0</td>\n",
       "      <td>0.0</td>\n",
       "      <td>0.0</td>\n",
       "      <td>4.0</td>\n",
       "      <td>4.0</td>\n",
       "      <td>4.0</td>\n",
       "      <td>4.0</td>\n",
       "      <td>5.0</td>\n",
       "      <td>4.0</td>\n",
       "      <td>4.0</td>\n",
       "      <td>3.0</td>\n",
       "      <td>5.0</td>\n",
       "      <td>1.0</td>\n",
       "      <td>4.0</td>\n",
       "      <td>1.0</td>\n",
       "    </tr>\n",
       "  </tbody>\n",
       "</table>\n",
       "<p>97410 rows × 16 columns</p>\n",
       "</div>"
      ],
      "text/plain": [
       "       Gender  Customer Type  Type of Travel  Class  Inflight wifi service  \\\n",
       "0         1.0            0.0             1.0    1.0                    3.0   \n",
       "1         1.0            1.0             0.0    1.0                    3.0   \n",
       "2         0.0            0.0             0.0    0.0                    3.0   \n",
       "3         0.0            0.0             0.0    0.0                    1.0   \n",
       "4         0.0            0.0             0.0    1.0                    4.0   \n",
       "...       ...            ...             ...    ...                    ...   \n",
       "97405     1.0            1.0             0.0    1.0                    1.0   \n",
       "97406     0.0            0.0             1.0    2.0                    3.0   \n",
       "97407     1.0            0.0             0.0    0.0                    1.0   \n",
       "97408     0.0            1.0             0.0    0.0                    3.0   \n",
       "97409     1.0            0.0             0.0    0.0                    4.0   \n",
       "\n",
       "       Departure/Arrival time convenient  Ease of Online booking  \\\n",
       "0                                    5.0                     3.0   \n",
       "1                                    2.0                     2.0   \n",
       "2                                    4.0                     4.0   \n",
       "3                                    4.0                     4.0   \n",
       "4                                    3.0                     2.0   \n",
       "...                                  ...                     ...   \n",
       "97405                                5.0                     1.0   \n",
       "97406                                1.0                     3.0   \n",
       "97407                                1.0                     1.0   \n",
       "97408                                3.0                     3.0   \n",
       "97409                                4.0                     4.0   \n",
       "\n",
       "       Online boarding  Seat comfort  On-board service  Leg room service  \\\n",
       "0                  3.0           3.0               4.0               2.0   \n",
       "1                  2.0           3.0               2.0               1.0   \n",
       "2                  3.0           3.0               3.0               3.0   \n",
       "3                  4.0           3.0               1.0               1.0   \n",
       "4                  4.0           4.0               4.0               5.0   \n",
       "...                ...           ...               ...               ...   \n",
       "97405              1.0           3.0               5.0               1.0   \n",
       "97406              3.0           1.0               3.0               1.0   \n",
       "97407              4.0           4.0               5.0               5.0   \n",
       "97408              3.0           3.0               5.0               5.0   \n",
       "97409              4.0           5.0               4.0               4.0   \n",
       "\n",
       "       Baggage handling  Checkin service  Cleanliness  Inflight service  \\\n",
       "0                   3.0              3.0          3.0               5.0   \n",
       "1                   0.0              2.0          3.0               1.0   \n",
       "2                   2.0              1.0          3.0               4.0   \n",
       "3                   0.0              3.0          1.0               1.0   \n",
       "4                   2.0              1.0          4.0               4.0   \n",
       "...                 ...              ...          ...               ...   \n",
       "97405               2.0              4.0          4.0               3.0   \n",
       "97406               1.0              1.0          1.0               2.0   \n",
       "97407               4.0              3.0          3.0               5.0   \n",
       "97408               4.0              4.0          3.0               4.0   \n",
       "97409               3.0              5.0          1.0               4.0   \n",
       "\n",
       "       satisfaction  \n",
       "0               0.0  \n",
       "1               0.0  \n",
       "2               0.0  \n",
       "3               0.0  \n",
       "4               0.0  \n",
       "...             ...  \n",
       "97405           0.0  \n",
       "97406           0.0  \n",
       "97407           1.0  \n",
       "97408           0.0  \n",
       "97409           1.0  \n",
       "\n",
       "[97410 rows x 16 columns]"
      ]
     },
     "execution_count": 6,
     "metadata": {},
     "output_type": "execute_result"
    }
   ],
   "source": [
    "trn=pd.read_csv(r\"C:\\Users\\Vineha\\Downloads\\sneha_project\\db\\train_16_cols.csv\")\n",
    "trn"
   ]
  },
  {
   "cell_type": "code",
   "execution_count": 7,
   "id": "31294ea0",
   "metadata": {},
   "outputs": [
    {
     "data": {
      "text/html": [
       "<div>\n",
       "<style scoped>\n",
       "    .dataframe tbody tr th:only-of-type {\n",
       "        vertical-align: middle;\n",
       "    }\n",
       "\n",
       "    .dataframe tbody tr th {\n",
       "        vertical-align: top;\n",
       "    }\n",
       "\n",
       "    .dataframe thead th {\n",
       "        text-align: right;\n",
       "    }\n",
       "</style>\n",
       "<table border=\"1\" class=\"dataframe\">\n",
       "  <thead>\n",
       "    <tr style=\"text-align: right;\">\n",
       "      <th></th>\n",
       "      <th>Gender</th>\n",
       "      <th>Customer Type</th>\n",
       "      <th>Type of Travel</th>\n",
       "      <th>Class</th>\n",
       "      <th>Inflight wifi service</th>\n",
       "      <th>Departure/Arrival time convenient</th>\n",
       "      <th>Ease of Online booking</th>\n",
       "      <th>Online boarding</th>\n",
       "      <th>Seat comfort</th>\n",
       "      <th>On-board service</th>\n",
       "      <th>Leg room service</th>\n",
       "      <th>Baggage handling</th>\n",
       "      <th>Checkin service</th>\n",
       "      <th>Cleanliness</th>\n",
       "      <th>Inflight service</th>\n",
       "      <th>satisfaction</th>\n",
       "    </tr>\n",
       "  </thead>\n",
       "  <tbody>\n",
       "    <tr>\n",
       "      <th>0</th>\n",
       "      <td>0.0</td>\n",
       "      <td>0.0</td>\n",
       "      <td>0.0</td>\n",
       "      <td>0.0</td>\n",
       "      <td>3.0</td>\n",
       "      <td>3.0</td>\n",
       "      <td>1.0</td>\n",
       "      <td>4.0</td>\n",
       "      <td>5.0</td>\n",
       "      <td>4.0</td>\n",
       "      <td>4.0</td>\n",
       "      <td>3.0</td>\n",
       "      <td>5.0</td>\n",
       "      <td>5.0</td>\n",
       "      <td>4.0</td>\n",
       "      <td>1.0</td>\n",
       "    </tr>\n",
       "    <tr>\n",
       "      <th>1</th>\n",
       "      <td>1.0</td>\n",
       "      <td>1.0</td>\n",
       "      <td>0.0</td>\n",
       "      <td>1.0</td>\n",
       "      <td>2.0</td>\n",
       "      <td>2.0</td>\n",
       "      <td>2.0</td>\n",
       "      <td>4.0</td>\n",
       "      <td>4.0</td>\n",
       "      <td>1.0</td>\n",
       "      <td>3.0</td>\n",
       "      <td>2.0</td>\n",
       "      <td>4.0</td>\n",
       "      <td>4.0</td>\n",
       "      <td>3.0</td>\n",
       "      <td>0.0</td>\n",
       "    </tr>\n",
       "    <tr>\n",
       "      <th>2</th>\n",
       "      <td>1.0</td>\n",
       "      <td>1.0</td>\n",
       "      <td>0.0</td>\n",
       "      <td>1.0</td>\n",
       "      <td>2.0</td>\n",
       "      <td>4.0</td>\n",
       "      <td>2.0</td>\n",
       "      <td>2.0</td>\n",
       "      <td>3.0</td>\n",
       "      <td>5.0</td>\n",
       "      <td>1.0</td>\n",
       "      <td>2.0</td>\n",
       "      <td>2.0</td>\n",
       "      <td>3.0</td>\n",
       "      <td>5.0</td>\n",
       "      <td>0.0</td>\n",
       "    </tr>\n",
       "    <tr>\n",
       "      <th>3</th>\n",
       "      <td>1.0</td>\n",
       "      <td>0.0</td>\n",
       "      <td>0.0</td>\n",
       "      <td>0.0</td>\n",
       "      <td>3.0</td>\n",
       "      <td>3.0</td>\n",
       "      <td>3.0</td>\n",
       "      <td>2.0</td>\n",
       "      <td>3.0</td>\n",
       "      <td>3.0</td>\n",
       "      <td>3.0</td>\n",
       "      <td>2.0</td>\n",
       "      <td>3.0</td>\n",
       "      <td>1.0</td>\n",
       "      <td>3.0</td>\n",
       "      <td>0.0</td>\n",
       "    </tr>\n",
       "    <tr>\n",
       "      <th>4</th>\n",
       "      <td>1.0</td>\n",
       "      <td>0.0</td>\n",
       "      <td>1.0</td>\n",
       "      <td>1.0</td>\n",
       "      <td>1.0</td>\n",
       "      <td>5.0</td>\n",
       "      <td>1.0</td>\n",
       "      <td>1.0</td>\n",
       "      <td>1.0</td>\n",
       "      <td>2.0</td>\n",
       "      <td>5.0</td>\n",
       "      <td>1.0</td>\n",
       "      <td>3.0</td>\n",
       "      <td>1.0</td>\n",
       "      <td>4.0</td>\n",
       "      <td>0.0</td>\n",
       "    </tr>\n",
       "    <tr>\n",
       "      <th>...</th>\n",
       "      <td>...</td>\n",
       "      <td>...</td>\n",
       "      <td>...</td>\n",
       "      <td>...</td>\n",
       "      <td>...</td>\n",
       "      <td>...</td>\n",
       "      <td>...</td>\n",
       "      <td>...</td>\n",
       "      <td>...</td>\n",
       "      <td>...</td>\n",
       "      <td>...</td>\n",
       "      <td>...</td>\n",
       "      <td>...</td>\n",
       "      <td>...</td>\n",
       "      <td>...</td>\n",
       "      <td>...</td>\n",
       "    </tr>\n",
       "    <tr>\n",
       "      <th>32465</th>\n",
       "      <td>0.0</td>\n",
       "      <td>0.0</td>\n",
       "      <td>1.0</td>\n",
       "      <td>1.0</td>\n",
       "      <td>4.0</td>\n",
       "      <td>4.0</td>\n",
       "      <td>4.0</td>\n",
       "      <td>3.0</td>\n",
       "      <td>4.0</td>\n",
       "      <td>1.0</td>\n",
       "      <td>4.0</td>\n",
       "      <td>0.0</td>\n",
       "      <td>5.0</td>\n",
       "      <td>4.0</td>\n",
       "      <td>1.0</td>\n",
       "      <td>0.0</td>\n",
       "    </tr>\n",
       "    <tr>\n",
       "      <th>32466</th>\n",
       "      <td>1.0</td>\n",
       "      <td>1.0</td>\n",
       "      <td>0.0</td>\n",
       "      <td>0.0</td>\n",
       "      <td>2.0</td>\n",
       "      <td>3.0</td>\n",
       "      <td>3.0</td>\n",
       "      <td>2.0</td>\n",
       "      <td>5.0</td>\n",
       "      <td>4.0</td>\n",
       "      <td>1.0</td>\n",
       "      <td>3.0</td>\n",
       "      <td>4.0</td>\n",
       "      <td>5.0</td>\n",
       "      <td>4.0</td>\n",
       "      <td>0.0</td>\n",
       "    </tr>\n",
       "    <tr>\n",
       "      <th>32467</th>\n",
       "      <td>1.0</td>\n",
       "      <td>0.0</td>\n",
       "      <td>1.0</td>\n",
       "      <td>0.0</td>\n",
       "      <td>2.0</td>\n",
       "      <td>4.0</td>\n",
       "      <td>2.0</td>\n",
       "      <td>2.0</td>\n",
       "      <td>3.0</td>\n",
       "      <td>5.0</td>\n",
       "      <td>5.0</td>\n",
       "      <td>3.0</td>\n",
       "      <td>4.0</td>\n",
       "      <td>3.0</td>\n",
       "      <td>4.0</td>\n",
       "      <td>0.0</td>\n",
       "    </tr>\n",
       "    <tr>\n",
       "      <th>32468</th>\n",
       "      <td>0.0</td>\n",
       "      <td>0.0</td>\n",
       "      <td>1.0</td>\n",
       "      <td>1.0</td>\n",
       "      <td>5.0</td>\n",
       "      <td>5.0</td>\n",
       "      <td>5.0</td>\n",
       "      <td>5.0</td>\n",
       "      <td>5.0</td>\n",
       "      <td>1.0</td>\n",
       "      <td>1.0</td>\n",
       "      <td>4.0</td>\n",
       "      <td>2.0</td>\n",
       "      <td>5.0</td>\n",
       "      <td>2.0</td>\n",
       "      <td>1.0</td>\n",
       "    </tr>\n",
       "    <tr>\n",
       "      <th>32469</th>\n",
       "      <td>1.0</td>\n",
       "      <td>1.0</td>\n",
       "      <td>0.0</td>\n",
       "      <td>1.0</td>\n",
       "      <td>1.0</td>\n",
       "      <td>5.0</td>\n",
       "      <td>2.0</td>\n",
       "      <td>2.0</td>\n",
       "      <td>4.0</td>\n",
       "      <td>4.0</td>\n",
       "      <td>5.0</td>\n",
       "      <td>4.0</td>\n",
       "      <td>3.0</td>\n",
       "      <td>4.0</td>\n",
       "      <td>5.0</td>\n",
       "      <td>0.0</td>\n",
       "    </tr>\n",
       "  </tbody>\n",
       "</table>\n",
       "<p>32470 rows × 16 columns</p>\n",
       "</div>"
      ],
      "text/plain": [
       "       Gender  Customer Type  Type of Travel  Class  Inflight wifi service  \\\n",
       "0         0.0            0.0             0.0    0.0                    3.0   \n",
       "1         1.0            1.0             0.0    1.0                    2.0   \n",
       "2         1.0            1.0             0.0    1.0                    2.0   \n",
       "3         1.0            0.0             0.0    0.0                    3.0   \n",
       "4         1.0            0.0             1.0    1.0                    1.0   \n",
       "...       ...            ...             ...    ...                    ...   \n",
       "32465     0.0            0.0             1.0    1.0                    4.0   \n",
       "32466     1.0            1.0             0.0    0.0                    2.0   \n",
       "32467     1.0            0.0             1.0    0.0                    2.0   \n",
       "32468     0.0            0.0             1.0    1.0                    5.0   \n",
       "32469     1.0            1.0             0.0    1.0                    1.0   \n",
       "\n",
       "       Departure/Arrival time convenient  Ease of Online booking  \\\n",
       "0                                    3.0                     1.0   \n",
       "1                                    2.0                     2.0   \n",
       "2                                    4.0                     2.0   \n",
       "3                                    3.0                     3.0   \n",
       "4                                    5.0                     1.0   \n",
       "...                                  ...                     ...   \n",
       "32465                                4.0                     4.0   \n",
       "32466                                3.0                     3.0   \n",
       "32467                                4.0                     2.0   \n",
       "32468                                5.0                     5.0   \n",
       "32469                                5.0                     2.0   \n",
       "\n",
       "       Online boarding  Seat comfort  On-board service  Leg room service  \\\n",
       "0                  4.0           5.0               4.0               4.0   \n",
       "1                  4.0           4.0               1.0               3.0   \n",
       "2                  2.0           3.0               5.0               1.0   \n",
       "3                  2.0           3.0               3.0               3.0   \n",
       "4                  1.0           1.0               2.0               5.0   \n",
       "...                ...           ...               ...               ...   \n",
       "32465              3.0           4.0               1.0               4.0   \n",
       "32466              2.0           5.0               4.0               1.0   \n",
       "32467              2.0           3.0               5.0               5.0   \n",
       "32468              5.0           5.0               1.0               1.0   \n",
       "32469              2.0           4.0               4.0               5.0   \n",
       "\n",
       "       Baggage handling  Checkin service  Cleanliness  Inflight service  \\\n",
       "0                   3.0              5.0          5.0               4.0   \n",
       "1                   2.0              4.0          4.0               3.0   \n",
       "2                   2.0              2.0          3.0               5.0   \n",
       "3                   2.0              3.0          1.0               3.0   \n",
       "4                   1.0              3.0          1.0               4.0   \n",
       "...                 ...              ...          ...               ...   \n",
       "32465               0.0              5.0          4.0               1.0   \n",
       "32466               3.0              4.0          5.0               4.0   \n",
       "32467               3.0              4.0          3.0               4.0   \n",
       "32468               4.0              2.0          5.0               2.0   \n",
       "32469               4.0              3.0          4.0               5.0   \n",
       "\n",
       "       satisfaction  \n",
       "0               1.0  \n",
       "1               0.0  \n",
       "2               0.0  \n",
       "3               0.0  \n",
       "4               0.0  \n",
       "...             ...  \n",
       "32465           0.0  \n",
       "32466           0.0  \n",
       "32467           0.0  \n",
       "32468           1.0  \n",
       "32469           0.0  \n",
       "\n",
       "[32470 rows x 16 columns]"
      ]
     },
     "execution_count": 7,
     "metadata": {},
     "output_type": "execute_result"
    }
   ],
   "source": [
    "tst=pd.read_csv(r\"C:\\Users\\Vineha\\Downloads\\sneha_project\\db\\test_16_cols.csv\")\n",
    "tst"
   ]
  },
  {
   "cell_type": "code",
   "execution_count": 8,
   "id": "345c88d7",
   "metadata": {
    "scrolled": false
   },
   "outputs": [
    {
     "data": {
      "image/png": "[encoded data removed]",
      "text/plain": [
       "<Figure size 640x480 with 1 Axes>"
      ]
     },
     "metadata": {},
     "output_type": "display_data"
    }
   ],
   "source": [
    "sns.boxplot(data=trn)\n",
    "plt.xticks(rotation=90)\n",
    "plt.show()"
   ]
  },
  {
   "cell_type": "code",
   "execution_count": 9,
   "id": "ad411b93",
   "metadata": {},
   "outputs": [],
   "source": [
    "num=trn.select_dtypes(include=np.number)\n",
    "cat=trn.select_dtypes(exclude=np.number)"
   ]
  },
  {
   "cell_type": "code",
   "execution_count": null,
   "id": "35703c68",
   "metadata": {
    "scrolled": true
   },
   "outputs": [],
   "source": []
  },
  {
   "cell_type": "code",
   "execution_count": null,
   "id": "f60c89fd",
   "metadata": {
    "scrolled": true
   },
   "outputs": [],
   "source": []
  },
  {
   "cell_type": "code",
   "execution_count": 10,
   "id": "0aa7ae85",
   "metadata": {},
   "outputs": [],
   "source": [
    "x=trn.drop('satisfaction',axis=1)\n",
    "y=trn['satisfaction']\n"
   ]
  },
  {
   "cell_type": "code",
   "execution_count": 11,
   "id": "8c9c3340",
   "metadata": {},
   "outputs": [],
   "source": [
    "\n",
    "ytrain=trn['satisfaction']"
   ]
  },
  {
   "cell_type": "code",
   "execution_count": 12,
   "id": "19581f0e",
   "metadata": {},
   "outputs": [],
   "source": [
    "xtest=tst.drop('satisfaction',axis=1)\n",
    "ytest=tst['satisfaction']"
   ]
  },
  {
   "cell_type": "code",
   "execution_count": 13,
   "id": "b7454efd",
   "metadata": {},
   "outputs": [],
   "source": [
    "xtrain=x"
   ]
  },
  {
   "cell_type": "code",
   "execution_count": 14,
   "id": "7c104853",
   "metadata": {
    "scrolled": true
   },
   "outputs": [
    {
     "data": {
      "text/html": [
       "<div>\n",
       "<style scoped>\n",
       "    .dataframe tbody tr th:only-of-type {\n",
       "        vertical-align: middle;\n",
       "    }\n",
       "\n",
       "    .dataframe tbody tr th {\n",
       "        vertical-align: top;\n",
       "    }\n",
       "\n",
       "    .dataframe thead th {\n",
       "        text-align: right;\n",
       "    }\n",
       "</style>\n",
       "<table border=\"1\" class=\"dataframe\">\n",
       "  <thead>\n",
       "    <tr style=\"text-align: right;\">\n",
       "      <th></th>\n",
       "      <th>Gender</th>\n",
       "      <th>Customer Type</th>\n",
       "      <th>Type of Travel</th>\n",
       "      <th>Class</th>\n",
       "      <th>Inflight wifi service</th>\n",
       "      <th>Departure/Arrival time convenient</th>\n",
       "      <th>Ease of Online booking</th>\n",
       "      <th>Online boarding</th>\n",
       "      <th>Seat comfort</th>\n",
       "      <th>On-board service</th>\n",
       "      <th>Leg room service</th>\n",
       "      <th>Baggage handling</th>\n",
       "      <th>Checkin service</th>\n",
       "      <th>Cleanliness</th>\n",
       "      <th>Inflight service</th>\n",
       "    </tr>\n",
       "  </thead>\n",
       "  <tbody>\n",
       "    <tr>\n",
       "      <th>0</th>\n",
       "      <td>0.0</td>\n",
       "      <td>0.0</td>\n",
       "      <td>0.0</td>\n",
       "      <td>0.0</td>\n",
       "      <td>3.0</td>\n",
       "      <td>3.0</td>\n",
       "      <td>1.0</td>\n",
       "      <td>4.0</td>\n",
       "      <td>5.0</td>\n",
       "      <td>4.0</td>\n",
       "      <td>4.0</td>\n",
       "      <td>3.0</td>\n",
       "      <td>5.0</td>\n",
       "      <td>5.0</td>\n",
       "      <td>4.0</td>\n",
       "    </tr>\n",
       "    <tr>\n",
       "      <th>1</th>\n",
       "      <td>1.0</td>\n",
       "      <td>1.0</td>\n",
       "      <td>0.0</td>\n",
       "      <td>1.0</td>\n",
       "      <td>2.0</td>\n",
       "      <td>2.0</td>\n",
       "      <td>2.0</td>\n",
       "      <td>4.0</td>\n",
       "      <td>4.0</td>\n",
       "      <td>1.0</td>\n",
       "      <td>3.0</td>\n",
       "      <td>2.0</td>\n",
       "      <td>4.0</td>\n",
       "      <td>4.0</td>\n",
       "      <td>3.0</td>\n",
       "    </tr>\n",
       "    <tr>\n",
       "      <th>2</th>\n",
       "      <td>1.0</td>\n",
       "      <td>1.0</td>\n",
       "      <td>0.0</td>\n",
       "      <td>1.0</td>\n",
       "      <td>2.0</td>\n",
       "      <td>4.0</td>\n",
       "      <td>2.0</td>\n",
       "      <td>2.0</td>\n",
       "      <td>3.0</td>\n",
       "      <td>5.0</td>\n",
       "      <td>1.0</td>\n",
       "      <td>2.0</td>\n",
       "      <td>2.0</td>\n",
       "      <td>3.0</td>\n",
       "      <td>5.0</td>\n",
       "    </tr>\n",
       "    <tr>\n",
       "      <th>3</th>\n",
       "      <td>1.0</td>\n",
       "      <td>0.0</td>\n",
       "      <td>0.0</td>\n",
       "      <td>0.0</td>\n",
       "      <td>3.0</td>\n",
       "      <td>3.0</td>\n",
       "      <td>3.0</td>\n",
       "      <td>2.0</td>\n",
       "      <td>3.0</td>\n",
       "      <td>3.0</td>\n",
       "      <td>3.0</td>\n",
       "      <td>2.0</td>\n",
       "      <td>3.0</td>\n",
       "      <td>1.0</td>\n",
       "      <td>3.0</td>\n",
       "    </tr>\n",
       "    <tr>\n",
       "      <th>4</th>\n",
       "      <td>1.0</td>\n",
       "      <td>0.0</td>\n",
       "      <td>1.0</td>\n",
       "      <td>1.0</td>\n",
       "      <td>1.0</td>\n",
       "      <td>5.0</td>\n",
       "      <td>1.0</td>\n",
       "      <td>1.0</td>\n",
       "      <td>1.0</td>\n",
       "      <td>2.0</td>\n",
       "      <td>5.0</td>\n",
       "      <td>1.0</td>\n",
       "      <td>3.0</td>\n",
       "      <td>1.0</td>\n",
       "      <td>4.0</td>\n",
       "    </tr>\n",
       "    <tr>\n",
       "      <th>...</th>\n",
       "      <td>...</td>\n",
       "      <td>...</td>\n",
       "      <td>...</td>\n",
       "      <td>...</td>\n",
       "      <td>...</td>\n",
       "      <td>...</td>\n",
       "      <td>...</td>\n",
       "      <td>...</td>\n",
       "      <td>...</td>\n",
       "      <td>...</td>\n",
       "      <td>...</td>\n",
       "      <td>...</td>\n",
       "      <td>...</td>\n",
       "      <td>...</td>\n",
       "      <td>...</td>\n",
       "    </tr>\n",
       "    <tr>\n",
       "      <th>32465</th>\n",
       "      <td>0.0</td>\n",
       "      <td>0.0</td>\n",
       "      <td>1.0</td>\n",
       "      <td>1.0</td>\n",
       "      <td>4.0</td>\n",
       "      <td>4.0</td>\n",
       "      <td>4.0</td>\n",
       "      <td>3.0</td>\n",
       "      <td>4.0</td>\n",
       "      <td>1.0</td>\n",
       "      <td>4.0</td>\n",
       "      <td>0.0</td>\n",
       "      <td>5.0</td>\n",
       "      <td>4.0</td>\n",
       "      <td>1.0</td>\n",
       "    </tr>\n",
       "    <tr>\n",
       "      <th>32466</th>\n",
       "      <td>1.0</td>\n",
       "      <td>1.0</td>\n",
       "      <td>0.0</td>\n",
       "      <td>0.0</td>\n",
       "      <td>2.0</td>\n",
       "      <td>3.0</td>\n",
       "      <td>3.0</td>\n",
       "      <td>2.0</td>\n",
       "      <td>5.0</td>\n",
       "      <td>4.0</td>\n",
       "      <td>1.0</td>\n",
       "      <td>3.0</td>\n",
       "      <td>4.0</td>\n",
       "      <td>5.0</td>\n",
       "      <td>4.0</td>\n",
       "    </tr>\n",
       "    <tr>\n",
       "      <th>32467</th>\n",
       "      <td>1.0</td>\n",
       "      <td>0.0</td>\n",
       "      <td>1.0</td>\n",
       "      <td>0.0</td>\n",
       "      <td>2.0</td>\n",
       "      <td>4.0</td>\n",
       "      <td>2.0</td>\n",
       "      <td>2.0</td>\n",
       "      <td>3.0</td>\n",
       "      <td>5.0</td>\n",
       "      <td>5.0</td>\n",
       "      <td>3.0</td>\n",
       "      <td>4.0</td>\n",
       "      <td>3.0</td>\n",
       "      <td>4.0</td>\n",
       "    </tr>\n",
       "    <tr>\n",
       "      <th>32468</th>\n",
       "      <td>0.0</td>\n",
       "      <td>0.0</td>\n",
       "      <td>1.0</td>\n",
       "      <td>1.0</td>\n",
       "      <td>5.0</td>\n",
       "      <td>5.0</td>\n",
       "      <td>5.0</td>\n",
       "      <td>5.0</td>\n",
       "      <td>5.0</td>\n",
       "      <td>1.0</td>\n",
       "      <td>1.0</td>\n",
       "      <td>4.0</td>\n",
       "      <td>2.0</td>\n",
       "      <td>5.0</td>\n",
       "      <td>2.0</td>\n",
       "    </tr>\n",
       "    <tr>\n",
       "      <th>32469</th>\n",
       "      <td>1.0</td>\n",
       "      <td>1.0</td>\n",
       "      <td>0.0</td>\n",
       "      <td>1.0</td>\n",
       "      <td>1.0</td>\n",
       "      <td>5.0</td>\n",
       "      <td>2.0</td>\n",
       "      <td>2.0</td>\n",
       "      <td>4.0</td>\n",
       "      <td>4.0</td>\n",
       "      <td>5.0</td>\n",
       "      <td>4.0</td>\n",
       "      <td>3.0</td>\n",
       "      <td>4.0</td>\n",
       "      <td>5.0</td>\n",
       "    </tr>\n",
       "  </tbody>\n",
       "</table>\n",
       "<p>32470 rows × 15 columns</p>\n",
       "</div>"
      ],
      "text/plain": [
       "       Gender  Customer Type  Type of Travel  Class  Inflight wifi service  \\\n",
       "0         0.0            0.0             0.0    0.0                    3.0   \n",
       "1         1.0            1.0             0.0    1.0                    2.0   \n",
       "2         1.0            1.0             0.0    1.0                    2.0   \n",
       "3         1.0            0.0             0.0    0.0                    3.0   \n",
       "4         1.0            0.0             1.0    1.0                    1.0   \n",
       "...       ...            ...             ...    ...                    ...   \n",
       "32465     0.0            0.0             1.0    1.0                    4.0   \n",
       "32466     1.0            1.0             0.0    0.0                    2.0   \n",
       "32467     1.0            0.0             1.0    0.0                    2.0   \n",
       "32468     0.0            0.0             1.0    1.0                    5.0   \n",
       "32469     1.0            1.0             0.0    1.0                    1.0   \n",
       "\n",
       "       Departure/Arrival time convenient  Ease of Online booking  \\\n",
       "0                                    3.0                     1.0   \n",
       "1                                    2.0                     2.0   \n",
       "2                                    4.0                     2.0   \n",
       "3                                    3.0                     3.0   \n",
       "4                                    5.0                     1.0   \n",
       "...                                  ...                     ...   \n",
       "32465                                4.0                     4.0   \n",
       "32466                                3.0                     3.0   \n",
       "32467                                4.0                     2.0   \n",
       "32468                                5.0                     5.0   \n",
       "32469                                5.0                     2.0   \n",
       "\n",
       "       Online boarding  Seat comfort  On-board service  Leg room service  \\\n",
       "0                  4.0           5.0               4.0               4.0   \n",
       "1                  4.0           4.0               1.0               3.0   \n",
       "2                  2.0           3.0               5.0               1.0   \n",
       "3                  2.0           3.0               3.0               3.0   \n",
       "4                  1.0           1.0               2.0               5.0   \n",
       "...                ...           ...               ...               ...   \n",
       "32465              3.0           4.0               1.0               4.0   \n",
       "32466              2.0           5.0               4.0               1.0   \n",
       "32467              2.0           3.0               5.0               5.0   \n",
       "32468              5.0           5.0               1.0               1.0   \n",
       "32469              2.0           4.0               4.0               5.0   \n",
       "\n",
       "       Baggage handling  Checkin service  Cleanliness  Inflight service  \n",
       "0                   3.0              5.0          5.0               4.0  \n",
       "1                   2.0              4.0          4.0               3.0  \n",
       "2                   2.0              2.0          3.0               5.0  \n",
       "3                   2.0              3.0          1.0               3.0  \n",
       "4                   1.0              3.0          1.0               4.0  \n",
       "...                 ...              ...          ...               ...  \n",
       "32465               0.0              5.0          4.0               1.0  \n",
       "32466               3.0              4.0          5.0               4.0  \n",
       "32467               3.0              4.0          3.0               4.0  \n",
       "32468               4.0              2.0          5.0               2.0  \n",
       "32469               4.0              3.0          4.0               5.0  \n",
       "\n",
       "[32470 rows x 15 columns]"
      ]
     },
     "execution_count": 14,
     "metadata": {},
     "output_type": "execute_result"
    }
   ],
   "source": [
    "xtest"
   ]
  },
  {
   "cell_type": "code",
   "execution_count": 15,
   "id": "13817a60",
   "metadata": {},
   "outputs": [],
   "source": [
    "def per_measures(model,test,pred):\n",
    "    accuracy=accuracy_score(test,pred)\n",
    "    f1score=f1_score(test,pred)\n",
    "    recall=recall_score(test,pred)\n",
    "    precision=precision_score(test,pred)\n",
    "    weighted_f1score=f1_score(test, pred,average='weighted')\n",
    "    return(accuracy,recall,precision,f1score,weighted_f1score)"
   ]
  },
  {
   "cell_type": "code",
   "execution_count": 16,
   "id": "42efeeac",
   "metadata": {},
   "outputs": [],
   "source": [
    "def update_performance (name, model,test,pred):\n",
    "    # assign 'comp_perf' as global variable\n",
    "    global perf_score\n",
    "\n",
    "\n",
    "    # append the results to the dataframe 'score_card'\n",
    "    # 'ignore_index = True' do not consider the index labels\n",
    "    perf_score = perf_score.append({'Model'            : name,\n",
    "                                    'Accuracy'         : per_measures(model,test,pred)[0],\n",
    "                                    'Recall'           : per_measures(model,test,pred)[1],\n",
    "                                    'Precision'        : per_measures(model,test,pred)[2],\n",
    "                                    'F1 Score'         : per_measures(model,test,pred)[3],\n",
    "                                    'Weighted Avg F1 Score': per_measures(model,test,pred)[4]\n",
    "                                    # 'AIC'         : per_measures(model,ytest,ypred)[5],\n",
    "                                    # 'Reliability' : per_measures(model,ytest,ypred)[6]\n",
    "\n",
    "                                     },\n",
    "                                   ignore_index=True)"
   ]
  },
  {
   "cell_type": "code",
   "execution_count": 17,
   "id": "68208863",
   "metadata": {},
   "outputs": [],
   "source": [
    "def update_performances_train (name, model,train,pred):\n",
    "    # assign 'comp_perf' as global variable\n",
    "    global perf_score_training\n",
    "\n",
    "    # append the results to the dataframe 'score_card'\n",
    "    # 'ignore_index = True' do not consider the index labels\n",
    "    perf_score_training = perf_score_training.append({'Model'       : name,\n",
    "                                    'Accuracy'                      : per_measures(model,train,pred)[0],\n",
    "                                    'Recall'                        : per_measures(model,train,pred)[1],\n",
    "                                    'Precision'                     : per_measures(model,train,pred)[2],\n",
    "                                    'F1 Score'                      : per_measures(model,train,pred)[3],\n",
    "                                    'Weighted Avg F1 Score'         : per_measures(model,train,pred)[4]       \n",
    "                                    # 'AIC'         : per_measures(model,ytest,ypred)[5],\n",
    "                                    # 'Reliability' : per_measures(model,ytest,ypred)[6]\n",
    "\n",
    "                                     },\n",
    "                                   ignore_index=True)"
   ]
  },
  {
   "cell_type": "code",
   "execution_count": 18,
   "id": "324013fd",
   "metadata": {},
   "outputs": [],
   "source": [
    "perf_score=pd.DataFrame(columns=['Model','Accuracy','Recall','Precision','F1 Score','Weighted Avg F1 Score'])"
   ]
  },
  {
   "cell_type": "code",
   "execution_count": 19,
   "id": "0600c39b",
   "metadata": {},
   "outputs": [],
   "source": [
    "perf_score_training=pd.DataFrame(columns=['Model','Accuracy','Recall','Precision','F1 Score','Weighted Avg F1 Score'])"
   ]
  },
  {
   "cell_type": "markdown",
   "id": "2e0ca4fd",
   "metadata": {},
   "source": [
    "## Logistic Regression"
   ]
  },
  {
   "cell_type": "code",
   "execution_count": 19,
   "id": "27d79cfd",
   "metadata": {
    "scrolled": true
   },
   "outputs": [
    {
     "name": "stdout",
     "output_type": "stream",
     "text": [
      "[[16558  1771]\n",
      " [ 2334 11807]]\n",
      "              precision    recall  f1-score   support\n",
      "\n",
      "         0.0       0.88      0.90      0.89     18329\n",
      "         1.0       0.87      0.83      0.85     14141\n",
      "\n",
      "    accuracy                           0.87     32470\n",
      "   macro avg       0.87      0.87      0.87     32470\n",
      "weighted avg       0.87      0.87      0.87     32470\n",
      "\n"
     ]
    }
   ],
   "source": [
    "lr=LogisticRegression()\n",
    "lr.fit(xtrain,ytrain)\n",
    "ypred_lr=lr.predict(xtest)\n",
    "print(confusion_matrix(ytest,ypred_lr))\n",
    "print(classification_report(ytest,ypred_lr))"
   ]
  },
  {
   "cell_type": "code",
   "execution_count": 20,
   "id": "b767d7b5",
   "metadata": {
    "scrolled": true
   },
   "outputs": [
    {
     "data": {
      "text/plain": [
       "{'C': 1.0,\n",
       " 'class_weight': None,\n",
       " 'dual': False,\n",
       " 'fit_intercept': True,\n",
       " 'intercept_scaling': 1,\n",
       " 'l1_ratio': None,\n",
       " 'max_iter': 100,\n",
       " 'multi_class': 'auto',\n",
       " 'n_jobs': None,\n",
       " 'penalty': 'l2',\n",
       " 'random_state': None,\n",
       " 'solver': 'lbfgs',\n",
       " 'tol': 0.0001,\n",
       " 'verbose': 0,\n",
       " 'warm_start': False}"
      ]
     },
     "execution_count": 20,
     "metadata": {},
     "output_type": "execute_result"
    }
   ],
   "source": [
    "lr.get_params()"
   ]
  },
  {
   "cell_type": "code",
   "execution_count": 40,
   "id": "0d7dedff",
   "metadata": {
    "scrolled": false
   },
   "outputs": [
    {
     "name": "stdout",
     "output_type": "stream",
     "text": [
      "\n",
      "Training data\n",
      "[[49741  5382]\n",
      " [ 6964 35323]]\n",
      "f1_score:  0.8512386736070947\n",
      "              precision    recall  f1-score   support\n",
      "\n",
      "         0.0       0.88      0.90      0.89     55123\n",
      "         1.0       0.87      0.84      0.85     42287\n",
      "\n",
      "    accuracy                           0.87     97410\n",
      "   macro avg       0.87      0.87      0.87     97410\n",
      "weighted avg       0.87      0.87      0.87     97410\n",
      "\n",
      "F1 Score: 0.8732478461770414\n",
      "F1 Score_train: 0.87294587338337\n"
     ]
    }
   ],
   "source": [
    "predicted_xtrain_lr=lr.predict(xtrain)\n",
    "print('\\nTraining data')\n",
    "matrix=confusion_matrix(ytrain,predicted_xtrain_lr)\n",
    "print(matrix)\n",
    "measure_train=classification_report(ytrain,predicted_xtrain_lr)\n",
    "print('f1_score: ',metrics.f1_score(ytrain,predicted_xtrain_lr))\n",
    "print(measure_train)\n",
    "f1 = f1_score(ytest, ypred_lr, average=\"weighted\")\n",
    "print(\"F1 Score:\", f1)\n",
    "f1_train= f1_score(ytrain,predicted_xtrain_lr, average=\"weighted\")\n",
    "print(\"F1 Score_train:\", f1_train)"
   ]
  },
  {
   "cell_type": "raw",
   "id": "6467ee14",
   "metadata": {},
   "source": [
    "print('\\nTraining Data ')\n",
    "update_performances_train(name='LogisticReg-Base_train',\n",
    "                  model=lr,\n",
    "                  train=ytrain,\n",
    "                  pred=predicted_xtrain_lr)\n",
    "perf_score_training"
   ]
  },
  {
   "cell_type": "raw",
   "id": "53d31e39",
   "metadata": {},
   "source": [
    "print('\\nTesting Data')\n",
    "update_performance(name='LogisticReg-Base',\n",
    "                  model=lr,\n",
    "                  test=ytest,\n",
    "                  pred=ypred_lr)\n",
    "perf_score"
   ]
  },
  {
   "cell_type": "markdown",
   "id": "c1286d84",
   "metadata": {},
   "source": [
    "# TUNED LOGISTIC REGRESSION"
   ]
  },
  {
   "cell_type": "code",
   "execution_count": 22,
   "id": "765817ad",
   "metadata": {},
   "outputs": [
    {
     "data": {
      "text/html": [
       "<style>#sk-container-id-1 {color: black;}#sk-container-id-1 pre{padding: 0;}#sk-container-id-1 div.sk-toggleable {background-color: white;}#sk-container-id-1 label.sk-toggleable__label {cursor: pointer;display: block;width: 100%;margin-bottom: 0;padding: 0.3em;box-sizing: border-box;text-align: center;}#sk-container-id-1 label.sk-toggleable__label-arrow:before {content: \"▸\";float: left;margin-right: 0.25em;color: #696969;}#sk-container-id-1 label.sk-toggleable__label-arrow:hover:before {color: black;}#sk-container-id-1 div.sk-estimator:hover label.sk-toggleable__label-arrow:before {color: black;}#sk-container-id-1 div.sk-toggleable__content {max-height: 0;max-width: 0;overflow: hidden;text-align: left;background-color: #f0f8ff;}#sk-container-id-1 div.sk-toggleable__content pre {margin: 0.2em;color: black;border-radius: 0.25em;background-color: #f0f8ff;}#sk-container-id-1 input.sk-toggleable__control:checked~div.sk-toggleable__content {max-height: 200px;max-width: 100%;overflow: auto;}#sk-container-id-1 input.sk-toggleable__control:checked~label.sk-toggleable__label-arrow:before {content: \"▾\";}#sk-container-id-1 div.sk-estimator input.sk-toggleable__control:checked~label.sk-toggleable__label {background-color: #d4ebff;}#sk-container-id-1 div.sk-label input.sk-toggleable__control:checked~label.sk-toggleable__label {background-color: #d4ebff;}#sk-container-id-1 input.sk-hidden--visually {border: 0;clip: rect(1px 1px 1px 1px);clip: rect(1px, 1px, 1px, 1px);height: 1px;margin: -1px;overflow: hidden;padding: 0;position: absolute;width: 1px;}#sk-container-id-1 div.sk-estimator {font-family: monospace;background-color: #f0f8ff;border: 1px dotted black;border-radius: 0.25em;box-sizing: border-box;margin-bottom: 0.5em;}#sk-container-id-1 div.sk-estimator:hover {background-color: #d4ebff;}#sk-container-id-1 div.sk-parallel-item::after {content: \"\";width: 100%;border-bottom: 1px solid gray;flex-grow: 1;}#sk-container-id-1 div.sk-label:hover label.sk-toggleable__label {background-color: #d4ebff;}#sk-container-id-1 div.sk-serial::before {content: \"\";position: absolute;border-left: 1px solid gray;box-sizing: border-box;top: 0;bottom: 0;left: 50%;z-index: 0;}#sk-container-id-1 div.sk-serial {display: flex;flex-direction: column;align-items: center;background-color: white;padding-right: 0.2em;padding-left: 0.2em;position: relative;}#sk-container-id-1 div.sk-item {position: relative;z-index: 1;}#sk-container-id-1 div.sk-parallel {display: flex;align-items: stretch;justify-content: center;background-color: white;position: relative;}#sk-container-id-1 div.sk-item::before, #sk-container-id-1 div.sk-parallel-item::before {content: \"\";position: absolute;border-left: 1px solid gray;box-sizing: border-box;top: 0;bottom: 0;left: 50%;z-index: -1;}#sk-container-id-1 div.sk-parallel-item {display: flex;flex-direction: column;z-index: 1;position: relative;background-color: white;}#sk-container-id-1 div.sk-parallel-item:first-child::after {align-self: flex-end;width: 50%;}#sk-container-id-1 div.sk-parallel-item:last-child::after {align-self: flex-start;width: 50%;}#sk-container-id-1 div.sk-parallel-item:only-child::after {width: 0;}#sk-container-id-1 div.sk-dashed-wrapped {border: 1px dashed gray;margin: 0 0.4em 0.5em 0.4em;box-sizing: border-box;padding-bottom: 0.4em;background-color: white;}#sk-container-id-1 div.sk-label label {font-family: monospace;font-weight: bold;display: inline-block;line-height: 1.2em;}#sk-container-id-1 div.sk-label-container {text-align: center;}#sk-container-id-1 div.sk-container {/* jupyter's `normalize.less` sets `[hidden] { display: none; }` but bootstrap.min.css set `[hidden] { display: none !important; }` so we also need the `!important` here to be able to override the default hidden behavior on the sphinx rendered scikit-learn.org. See: https://github.com/scikit-learn/scikit-learn/issues/21755 */display: inline-block !important;position: relative;}#sk-container-id-1 div.sk-text-repr-fallback {display: none;}</style><div id=\"sk-container-id-1\" class=\"sk-top-container\"><div class=\"sk-text-repr-fallback\"><pre>GridSearchCV(cv=5, estimator=LogisticRegression(),\n",
       "             param_grid={&#x27;C&#x27;: [0.001, 0.01, 0.1, 1, 10, 100],\n",
       "                         &#x27;penalty&#x27;: [&#x27;l1&#x27;, &#x27;l2&#x27;],\n",
       "                         &#x27;solver&#x27;: [&#x27;liblinear&#x27;, &#x27;lbfgs&#x27;, &#x27;saga&#x27;]},\n",
       "             scoring=&#x27;f1_macro&#x27;)</pre><b>In a Jupyter environment, please rerun this cell to show the HTML representation or trust the notebook. <br />On GitHub, the HTML representation is unable to render, please try loading this page with nbviewer.org.</b></div><div class=\"sk-container\" hidden><div class=\"sk-item sk-dashed-wrapped\"><div class=\"sk-label-container\"><div class=\"sk-label sk-toggleable\"><input class=\"sk-toggleable__control sk-hidden--visually\" id=\"sk-estimator-id-1\" type=\"checkbox\" ><label for=\"sk-estimator-id-1\" class=\"sk-toggleable__label sk-toggleable__label-arrow\">GridSearchCV</label><div class=\"sk-toggleable__content\"><pre>GridSearchCV(cv=5, estimator=LogisticRegression(),\n",
       "             param_grid={&#x27;C&#x27;: [0.001, 0.01, 0.1, 1, 10, 100],\n",
       "                         &#x27;penalty&#x27;: [&#x27;l1&#x27;, &#x27;l2&#x27;],\n",
       "                         &#x27;solver&#x27;: [&#x27;liblinear&#x27;, &#x27;lbfgs&#x27;, &#x27;saga&#x27;]},\n",
       "             scoring=&#x27;f1_macro&#x27;)</pre></div></div></div><div class=\"sk-parallel\"><div class=\"sk-parallel-item\"><div class=\"sk-item\"><div class=\"sk-label-container\"><div class=\"sk-label sk-toggleable\"><input class=\"sk-toggleable__control sk-hidden--visually\" id=\"sk-estimator-id-2\" type=\"checkbox\" ><label for=\"sk-estimator-id-2\" class=\"sk-toggleable__label sk-toggleable__label-arrow\">estimator: LogisticRegression</label><div class=\"sk-toggleable__content\"><pre>LogisticRegression()</pre></div></div></div><div class=\"sk-serial\"><div class=\"sk-item\"><div class=\"sk-estimator sk-toggleable\"><input class=\"sk-toggleable__control sk-hidden--visually\" id=\"sk-estimator-id-3\" type=\"checkbox\" ><label for=\"sk-estimator-id-3\" class=\"sk-toggleable__label sk-toggleable__label-arrow\">LogisticRegression</label><div class=\"sk-toggleable__content\"><pre>LogisticRegression()</pre></div></div></div></div></div></div></div></div></div></div>"
      ],
      "text/plain": [
       "GridSearchCV(cv=5, estimator=LogisticRegression(),\n",
       "             param_grid={'C': [0.001, 0.01, 0.1, 1, 10, 100],\n",
       "                         'penalty': ['l1', 'l2'],\n",
       "                         'solver': ['liblinear', 'lbfgs', 'saga']},\n",
       "             scoring='f1_macro')"
      ]
     },
     "execution_count": 22,
     "metadata": {},
     "output_type": "execute_result"
    }
   ],
   "source": [
    "\n",
    "logistic_regression = LogisticRegression()\n",
    "param_grid = {\n",
    "    'C': [0.001, 0.01, 0.1, 1, 10, 100],  # Regularization strength\n",
    "    'penalty': ['l1', 'l2'],               # Regularization type\n",
    "    'solver': ['liblinear', 'lbfgs', 'saga']  # Solver type\n",
    "}\n",
    "\n",
    "# Create the GridSearchCV object\n",
    "grid_search_log = GridSearchCV(logistic_regression, param_grid, cv=5,  scoring='f1_macro')\n",
    "\n",
    "# Fit the model to the training data\n",
    "grid_search_log.fit(xtrain,ytrain)\n",
    "\n"
   ]
  },
  {
   "cell_type": "code",
   "execution_count": 23,
   "id": "7ebe82ab",
   "metadata": {},
   "outputs": [
    {
     "name": "stdout",
     "output_type": "stream",
     "text": [
      "{'C': 0.01, 'penalty': 'l1', 'solver': 'saga'} LogisticRegression(C=0.01, penalty='l1', solver='saga')\n"
     ]
    }
   ],
   "source": [
    "# Get the best parameters and the best estimator\n",
    "best_params =grid_search_log.best_params_\n",
    "best_estimator = grid_search_log.best_estimator_\n",
    "print(best_params,best_estimator)"
   ]
  },
  {
   "cell_type": "code",
   "execution_count": 26,
   "id": "2e53d6c8",
   "metadata": {},
   "outputs": [
    {
     "name": "stdout",
     "output_type": "stream",
     "text": [
      "              precision    recall  f1-score   support\n",
      "\n",
      "         0.0       0.88      0.90      0.89     18329\n",
      "         1.0       0.87      0.83      0.85     14141\n",
      "\n",
      "    accuracy                           0.87     32470\n",
      "   macro avg       0.87      0.87      0.87     32470\n",
      "weighted avg       0.87      0.87      0.87     32470\n",
      "\n",
      "F1 Score: 0.8736328707662137\n"
     ]
    }
   ],
   "source": [
    "ypred_tuned=grid_search_log.predict(xtest)\n",
    "print(classification_report(ytest,ypred_tuned))\n"
   ]
  },
  {
   "cell_type": "code",
   "execution_count": 43,
   "id": "a853ffd2",
   "metadata": {},
   "outputs": [
    {
     "name": "stdout",
     "output_type": "stream",
     "text": [
      "\n",
      "Training data\n",
      "[[49783  5340]\n",
      " [ 6967 35320]]\n",
      "f1_score:  0.8516281480945666\n",
      "              precision    recall  f1-score   support\n",
      "\n",
      "         0.0       0.88      0.90      0.89     55123\n",
      "         1.0       0.87      0.84      0.85     42287\n",
      "\n",
      "    accuracy                           0.87     97410\n",
      "   macro avg       0.87      0.87      0.87     97410\n",
      "weighted avg       0.87      0.87      0.87     97410\n",
      "\n",
      "F1 Score: 0.8745187328306693\n",
      "F1 Score_train: 0.8733373529613404\n"
     ]
    }
   ],
   "source": [
    "predicted_xtrain_logt=grid_search_log.predict(xtrain)\n",
    "print('\\nTraining data')\n",
    "matrix=confusion_matrix(ytrain,predicted_xtrain_logt)\n",
    "print(matrix)\n",
    "measure_train=classification_report(ytrain,predicted_xtrain_logt)\n",
    "print('f1_score: ',metrics.f1_score(ytrain,predicted_xtrain_logt))\n",
    "print(measure_train)\n",
    "f1 = f1_score(ytest, ypred_tuned, average=\"weighted\")\n",
    "print(\"F1 Score:\", f1)\n",
    "f1_train= f1_score(ytrain,predicted_xtrain_logt, average=\"weighted\")\n",
    "print(\"F1 Score_train:\", f1_train)"
   ]
  },
  {
   "cell_type": "markdown",
   "id": "3894d491",
   "metadata": {},
   "source": [
    "## K nearest neighbour Model "
   ]
  },
  {
   "cell_type": "code",
   "execution_count": 28,
   "id": "44d5a4c3",
   "metadata": {
    "scrolled": false
   },
   "outputs": [
    {
     "name": "stdout",
     "output_type": "stream",
     "text": [
      "              precision    recall  f1-score   support\n",
      "\n",
      "         0.0       0.93      0.96      0.94     18329\n",
      "         1.0       0.94      0.90      0.92     14141\n",
      "\n",
      "    accuracy                           0.93     32470\n",
      "   macro avg       0.94      0.93      0.93     32470\n",
      "weighted avg       0.94      0.93      0.93     32470\n",
      "\n"
     ]
    }
   ],
   "source": [
    "knn=KNeighborsClassifier()\n",
    "knn.fit(xtrain,ytrain)\n",
    "ypred_knn=knn.predict(xtest)\n",
    "print(classification_report(ytest,ypred_knn))"
   ]
  },
  {
   "cell_type": "code",
   "execution_count": 29,
   "id": "027c3aca",
   "metadata": {},
   "outputs": [
    {
     "data": {
      "text/plain": [
       "{'algorithm': 'auto',\n",
       " 'leaf_size': 30,\n",
       " 'metric': 'minkowski',\n",
       " 'metric_params': None,\n",
       " 'n_jobs': None,\n",
       " 'n_neighbors': 5,\n",
       " 'p': 2,\n",
       " 'weights': 'uniform'}"
      ]
     },
     "execution_count": 29,
     "metadata": {},
     "output_type": "execute_result"
    }
   ],
   "source": [
    "knn.get_params()"
   ]
  },
  {
   "cell_type": "code",
   "execution_count": 44,
   "id": "e9854e2e",
   "metadata": {
    "scrolled": false
   },
   "outputs": [
    {
     "name": "stdout",
     "output_type": "stream",
     "text": [
      "\n",
      "Training data\n",
      "[[53657  1466]\n",
      " [ 2988 39299]]\n",
      "              precision    recall  f1-score   support\n",
      "\n",
      "         0.0       0.95      0.97      0.96     55123\n",
      "         1.0       0.96      0.93      0.95     42287\n",
      "\n",
      "    accuracy                           0.95     97410\n",
      "   macro avg       0.96      0.95      0.95     97410\n",
      "weighted avg       0.95      0.95      0.95     97410\n",
      "\n",
      "F1 Score: 0.9347978541159505\n",
      "F1 Score_train: 0.9541680982386618\n"
     ]
    }
   ],
   "source": [
    "predicted_xtrain_knn=knn.predict(xtrain)\n",
    "print('\\nTraining data')\n",
    "matrix=confusion_matrix(ytrain,predicted_xtrain_knn)\n",
    "print(matrix)\n",
    "measure_train=classification_report(ytrain,predicted_xtrain_knn)\n",
    "print(measure_train)\n",
    "f1 = f1_score(ytest, ypred_knn, average=\"weighted\")\n",
    "print(\"F1 Score:\", f1)\n",
    "f1_train= f1_score(ytrain,predicted_xtrain_knn, average=\"weighted\")\n",
    "print(\"F1 Score_train:\", f1_train)"
   ]
  },
  {
   "cell_type": "raw",
   "id": "aeaad3fc",
   "metadata": {},
   "source": [
    "print('\\nTraining Data ')\n",
    "update_performances_train(name='KNeighborsClassifier',\n",
    "                  model=knn,\n",
    "                  train=ytrain,\n",
    "                  pred=predicted_xtrain_knn)\n",
    "perf_score_training"
   ]
  },
  {
   "cell_type": "raw",
   "id": "887b224b",
   "metadata": {},
   "source": [
    "print('\\nTesting Data ')\n",
    "update_performance(name='KNeighborsClassifier',\n",
    "                  model=knn,\n",
    "                  test=ytest,\n",
    "                  pred=ypred_knn)\n",
    "perf_score"
   ]
  },
  {
   "cell_type": "markdown",
   "id": "748800f6",
   "metadata": {},
   "source": [
    "# TUNED KNN"
   ]
  },
  {
   "cell_type": "code",
   "execution_count": null,
   "id": "693aec8c",
   "metadata": {},
   "outputs": [],
   "source": [
    "knn=KNeighborsClassifier()\n",
    "# Define the parameter grid to search\n",
    "param_grid = {\n",
    "    'n_neighbors': [3,5,7,9,311,313],\n",
    "    'weights': ['uniform', 'distance'],  # None added for weights parameter\n",
    "    'p': [1, 2],  # 1 for Manhattan distance, 2 for Euclidean distance  # None added for leaf_size parameter\n",
    "}\n",
    "\n",
    "# Create the GridSearchCV object with 'f1_macro' as the scoring metric\n",
    "grid_search_knn = GridSearchCV(knn, param_grid, cv=5, scoring='f1_macro',n_jobs=-1)\n",
    "\n",
    "# Fit the model to the training data\n",
    "grid_search_knn.fit(xtrain,ytrain)\n",
    "\n",
    "# Get the best parameters and the best estimator\n",
    "best_params = grid_search_knn.best_params_\n",
    "print(best_params)"
   ]
  },
  {
   "cell_type": "code",
   "execution_count": null,
   "id": "71e57789",
   "metadata": {},
   "outputs": [],
   "source": [
    "ypred_tuned=grid_search_knn.predict(xtest)\n",
    "print(classification_report(ytest,ypred_tuned))\n"
   ]
  },
  {
   "cell_type": "code",
   "execution_count": null,
   "id": "157b06e5",
   "metadata": {},
   "outputs": [],
   "source": [
    "ypred_tuned=grid_search_knn.predict(xtest)\n",
    "print(classification_report(ytest,ypred_tuned))\n",
    "predicted_xtrain_knnt=grid_search_knn.predict(xtrain)\n",
    "print('\\nTraining data')\n",
    "matrix=confusion_matrix(ytrain,predicted_xtrain_knnt)\n",
    "print(matrix)\n",
    "measure_train=classification_report(ytrain,predicted_xtrain_knnt)\n",
    "print('f1_score: ',metrics.f1_score(ytrain,predicted_xtrain_knnt))\n",
    "print(measure_train)"
   ]
  },
  {
   "cell_type": "markdown",
   "id": "c4b35659",
   "metadata": {},
   "source": [
    "## Gaussian Naive Bayes Model"
   ]
  },
  {
   "cell_type": "code",
   "execution_count": 31,
   "id": "01c9cf0a",
   "metadata": {
    "scrolled": false
   },
   "outputs": [
    {
     "name": "stdout",
     "output_type": "stream",
     "text": [
      "              precision    recall  f1-score   support\n",
      "\n",
      "         0.0       0.87      0.92      0.89     18329\n",
      "         1.0       0.88      0.82      0.85     14141\n",
      "\n",
      "    accuracy                           0.88     32470\n",
      "   macro avg       0.88      0.87      0.87     32470\n",
      "weighted avg       0.88      0.88      0.87     32470\n",
      "\n"
     ]
    }
   ],
   "source": [
    "gnb=GaussianNB()\n",
    "gnb_model=gnb.fit(xtrain,ytrain)\n",
    "ypred_gnb=gnb_model.predict(xtest)\n",
    "print(classification_report(ytest,ypred_gnb))"
   ]
  },
  {
   "cell_type": "code",
   "execution_count": 32,
   "id": "c2d8ad9f",
   "metadata": {},
   "outputs": [
    {
     "data": {
      "text/plain": [
       "{'priors': None, 'var_smoothing': 1e-09}"
      ]
     },
     "execution_count": 32,
     "metadata": {},
     "output_type": "execute_result"
    }
   ],
   "source": [
    "gnb.get_params()"
   ]
  },
  {
   "cell_type": "code",
   "execution_count": 47,
   "id": "45cc7245",
   "metadata": {
    "scrolled": true
   },
   "outputs": [
    {
     "name": "stdout",
     "output_type": "stream",
     "text": [
      "\n",
      "Training data\n",
      "[[50470  4653]\n",
      " [ 7417 34870]]\n",
      "f1_score:  0.8524630240801858\n",
      "              precision    recall  f1-score   support\n",
      "\n",
      "         0.0       0.87      0.92      0.89     55123\n",
      "         1.0       0.88      0.82      0.85     42287\n",
      "\n",
      "    accuracy                           0.88     97410\n",
      "   macro avg       0.88      0.87      0.87     97410\n",
      "weighted avg       0.88      0.88      0.88     97410\n",
      "\n",
      "F1 Score avg: 0.8745187328306693\n",
      "F1 Score_train: 0.8755128632081938\n"
     ]
    }
   ],
   "source": [
    "predicted_xtrain_gnb=gnb_model.predict(xtrain)\n",
    "print('\\nTraining data')\n",
    "matrix=confusion_matrix(ytrain,predicted_xtrain_gnb)\n",
    "print(matrix)\n",
    "measure_train=classification_report(ytrain,predicted_xtrain_gnb)\n",
    "print('f1_score: ',metrics.f1_score(ytrain,predicted_xtrain_gnb))\n",
    "print(measure_train)\n",
    "f1 = f1_score(ytest, ypred_gnb, average=\"weighted\")\n",
    "print(\"F1 Score avg:\", f1)\n",
    "f1_train= f1_score(ytrain,predicted_xtrain_gnb, average=\"weighted\")\n",
    "print(\"F1 Score_train:\", f1_train)"
   ]
  },
  {
   "cell_type": "raw",
   "id": "7da055da",
   "metadata": {},
   "source": [
    "print('\\nTraining Data ')\n",
    "update_performances_train(name='Gaussian Naive Bayes',\n",
    "                  model=gnb,\n",
    "                  train=ytrain,\n",
    "                  pred=predicted_xtrain_gnb)\n",
    "perf_score_training"
   ]
  },
  {
   "cell_type": "raw",
   "id": "9c3829f0",
   "metadata": {},
   "source": [
    "print('\\nTesting Data ')\n",
    "update_performance(name='Gaussian Naive Bayes',\n",
    "                  model=gnb,\n",
    "                  test=ytest,\n",
    "                  pred=ypred_gnb)\n",
    "perf_score"
   ]
  },
  {
   "cell_type": "markdown",
   "id": "95979b71",
   "metadata": {},
   "source": [
    "# TUNED GAUSSIN"
   ]
  },
  {
   "cell_type": "code",
   "execution_count": 34,
   "id": "6ec1b593",
   "metadata": {},
   "outputs": [
    {
     "name": "stdout",
     "output_type": "stream",
     "text": [
      "Best Parameters: {'priors': None, 'var_smoothing': 1e-09}\n",
      "Best Estimator: GaussianNB()\n"
     ]
    }
   ],
   "source": [
    "gnb = GaussianNB()\n",
    "\n",
    "# Define the parameter grid to search\n",
    "param_grid = {\n",
    "    'var_smoothing': [1e-9, 1e-8, 1e-7, 1e-6, 1e-5],\n",
    "    'priors': [None, [0.3, 0.4, 0.3], [0.2, 0.5, 0.3]]\n",
    "}\n",
    "\n",
    "# Create the GridSearchCV object with 'f1_macro' as the scoring metric\n",
    "grid_search_gnb = GridSearchCV(gnb, param_grid, cv=5, scoring='f1_macro')\n",
    "\n",
    "# Fit the model to the training data\n",
    "grid_search_gnb.fit(xtrain,ytrain)\n",
    "\n",
    "# Get the best parameters and the best estimator\n",
    "best_params = grid_search_gnb.best_params_\n",
    "best_estimator = grid_search_gnb.best_estimator_\n",
    "\n",
    "print(\"Best Parameters:\", best_params)\n",
    "print(\"Best Estimator:\", best_estimator)"
   ]
  },
  {
   "cell_type": "code",
   "execution_count": 48,
   "id": "c2bb98fa",
   "metadata": {},
   "outputs": [
    {
     "name": "stdout",
     "output_type": "stream",
     "text": [
      "              precision    recall  f1-score   support\n",
      "\n",
      "         0.0       0.87      0.92      0.89     18329\n",
      "         1.0       0.88      0.82      0.85     14141\n",
      "\n",
      "    accuracy                           0.88     32470\n",
      "   macro avg       0.88      0.87      0.87     32470\n",
      "weighted avg       0.88      0.88      0.87     32470\n",
      "\n",
      "\n",
      "Training data\n",
      "[[50470  4653]\n",
      " [ 7417 34870]]\n",
      "f1_score:  0.8524630240801858\n",
      "              precision    recall  f1-score   support\n",
      "\n",
      "         0.0       0.87      0.92      0.89     55123\n",
      "         1.0       0.88      0.82      0.85     42287\n",
      "\n",
      "    accuracy                           0.88     97410\n",
      "   macro avg       0.88      0.87      0.87     97410\n",
      "weighted avg       0.88      0.88      0.88     97410\n",
      "\n",
      "F1 Score_avg: 0.8745187328306693\n",
      "F1 Score_train: 0.8755128632081938\n"
     ]
    }
   ],
   "source": [
    "ypred_tuned=grid_search_gnb.predict(xtest)\n",
    "print(classification_report(ytest,ypred_tuned))\n",
    "predicted_xtrain_gnb=grid_search_gnb.predict(xtrain)\n",
    "print('\\nTraining data')\n",
    "matrix=confusion_matrix(ytrain,predicted_xtrain_gnb)\n",
    "print(matrix)\n",
    "measure_train=classification_report(ytrain,predicted_xtrain_gnb)\n",
    "print('f1_score: ',metrics.f1_score(ytrain,predicted_xtrain_gnb))\n",
    "print(measure_train)\n",
    "f1 = f1_score(ytest, ypred_tuned, average=\"weighted\")\n",
    "print(\"F1 Score_avg:\", f1)\n",
    "f1_train= f1_score(ytrain,predicted_xtrain_gnb, average=\"weighted\")\n",
    "print(\"F1 Score_train:\", f1_train)"
   ]
  },
  {
   "cell_type": "markdown",
   "id": "cf9c4696",
   "metadata": {},
   "source": [
    "## Bernoulli Naive Bayes Model"
   ]
  },
  {
   "cell_type": "code",
   "execution_count": 36,
   "id": "d76940ee",
   "metadata": {
    "scrolled": true
   },
   "outputs": [
    {
     "name": "stdout",
     "output_type": "stream",
     "text": [
      "              precision    recall  f1-score   support\n",
      "\n",
      "         0.0       0.82      0.77      0.80     18329\n",
      "         1.0       0.73      0.79      0.76     14141\n",
      "\n",
      "    accuracy                           0.78     32470\n",
      "   macro avg       0.78      0.78      0.78     32470\n",
      "weighted avg       0.78      0.78      0.78     32470\n",
      "\n"
     ]
    }
   ],
   "source": [
    "bnb=BernoulliNB()\n",
    "bnb_model=bnb.fit(xtrain,ytrain)\n",
    "ypred_bnb=bnb_model.predict(xtest)\n",
    "print(classification_report(ytest,ypred_bnb))"
   ]
  },
  {
   "cell_type": "code",
   "execution_count": 39,
   "id": "1b2cfe59",
   "metadata": {
    "scrolled": false
   },
   "outputs": [
    {
     "name": "stdout",
     "output_type": "stream",
     "text": [
      "\n",
      "Training data\n",
      "[[42598 12525]\n",
      " [ 9113 33174]]\n",
      "f1_score:  0.7540745118541585\n",
      "              precision    recall  f1-score   support\n",
      "\n",
      "         0.0       0.82      0.77      0.80     55123\n",
      "         1.0       0.73      0.78      0.75     42287\n",
      "\n",
      "    accuracy                           0.78     97410\n",
      "   macro avg       0.77      0.78      0.78     97410\n",
      "weighted avg       0.78      0.78      0.78     97410\n",
      "\n",
      "F1 Score: 0.779584100936175\n",
      "F1 Score_train: 0.7786266109391231\n"
     ]
    }
   ],
   "source": [
    "predicted_xtrain_bnb=bnb.predict(xtrain)\n",
    "print('\\nTraining data')\n",
    "matrix=confusion_matrix(ytrain,predicted_xtrain_bnb)\n",
    "print(matrix)\n",
    "measure_train=classification_report(ytrain,predicted_xtrain_bnb)\n",
    "print('f1_score: ',metrics.f1_score(ytrain,predicted_xtrain_bnb))\n",
    "print(measure_train)\n",
    "f1 = f1_score(ytest, ypred_bnb, average=\"weighted\")\n",
    "print(\"F1 Score:\", f1)\n",
    "f1_train= f1_score(ytrain,predicted_xtrain_bnb, average=\"weighted\")\n",
    "print(\"F1 Score_train:\", f1_train)"
   ]
  },
  {
   "cell_type": "raw",
   "id": "07cb64d0",
   "metadata": {},
   "source": [
    "print('\\nTraining Data ')\n",
    "update_performances_train(name='Bernoulli Naive Bayes',\n",
    "                  model=bnb,\n",
    "                  train=ytrain,\n",
    "                  pred=predicted_xtrain_bnb)\n",
    "perf_score_training"
   ]
  },
  {
   "cell_type": "raw",
   "id": "94740018",
   "metadata": {},
   "source": [
    "print('\\nTesting Data ')\n",
    "update_performance(name='Bernoulli Naive Bayes',\n",
    "                  model=bnb,\n",
    "                  test=ytest,\n",
    "                  pred=ypred_bnb)\n",
    "perf_score"
   ]
  },
  {
   "cell_type": "markdown",
   "id": "dde2cc8d",
   "metadata": {},
   "source": [
    "# TUNNING BERNOULLI "
   ]
  },
  {
   "cell_type": "code",
   "execution_count": 49,
   "id": "942addcb",
   "metadata": {},
   "outputs": [
    {
     "name": "stdout",
     "output_type": "stream",
     "text": [
      "Best Parameters: {'alpha': 0.1, 'binarize': 0.1, 'fit_prior': True}\n",
      "Best Estimator: BernoulliNB(alpha=0.1, binarize=0.1)\n"
     ]
    }
   ],
   "source": [
    "bnb = BernoulliNB()\n",
    "\n",
    "# Define the parameter grid to search\n",
    "param_grid = {\n",
    "    'alpha': [0.1, 0.5, 1.0],  # Smoothing parameter\n",
    "    'binarize': [None, 0.1, 0.5],  # Binarization threshold\n",
    "    'fit_prior': [True, False]  # Whether to learn class prior probabilities\n",
    "}\n",
    "\n",
    "# Create the GridSearchCV object with 'f1_macro' as the scoring metric\n",
    "grid_search_bnb = GridSearchCV(bnb, param_grid, cv=5, scoring='f1_macro')\n",
    "\n",
    "# Fit the model to the training data\n",
    "grid_search_bnb.fit(xtrain,ytrain)\n",
    "\n",
    "# Get the best parameters and the best estimator\n",
    "best_params = grid_search_bnb.best_params_\n",
    "best_estimator = grid_search_bnb.best_estimator_\n",
    "\n",
    "print(\"Best Parameters:\", best_params)\n",
    "print(\"Best Estimator:\", best_estimator)"
   ]
  },
  {
   "cell_type": "code",
   "execution_count": 50,
   "id": "4c7f9665",
   "metadata": {},
   "outputs": [
    {
     "name": "stdout",
     "output_type": "stream",
     "text": [
      "              precision    recall  f1-score   support\n",
      "\n",
      "         0.0       0.82      0.77      0.80     18329\n",
      "         1.0       0.73      0.79      0.76     14141\n",
      "\n",
      "    accuracy                           0.78     32470\n",
      "   macro avg       0.78      0.78      0.78     32470\n",
      "weighted avg       0.78      0.78      0.78     32470\n",
      "\n",
      "\n",
      "Training data\n",
      "[[50470  4653]\n",
      " [ 7417 34870]]\n",
      "f1_score:  0.8524630240801858\n",
      "              precision    recall  f1-score   support\n",
      "\n",
      "         0.0       0.87      0.92      0.89     55123\n",
      "         1.0       0.88      0.82      0.85     42287\n",
      "\n",
      "    accuracy                           0.88     97410\n",
      "   macro avg       0.88      0.87      0.87     97410\n",
      "weighted avg       0.88      0.88      0.88     97410\n",
      "\n",
      "F1 Score: 0.779584100936175\n",
      "F1 Score_train: 0.8755128632081938\n"
     ]
    }
   ],
   "source": [
    "ypred_tuned=grid_search_bnb.predict(xtest)\n",
    "print(classification_report(ytest,ypred_tuned))\n",
    "predicted_xtrain_bnb=grid_search_gnb.predict(xtrain)\n",
    "print('\\nTraining data')\n",
    "matrix=confusion_matrix(ytrain,predicted_xtrain_bnb)\n",
    "print(matrix)\n",
    "measure_train=classification_report(ytrain,predicted_xtrain_bnb)\n",
    "print('f1_score: ',metrics.f1_score(ytrain,predicted_xtrain_bnb))\n",
    "print(measure_train)\n",
    "f1 = f1_score(ytest, ypred_tuned, average=\"weighted\")\n",
    "print(\"F1 Score:\", f1)\n",
    "f1_train= f1_score(ytrain,predicted_xtrain_bnb, average=\"weighted\")\n",
    "print(\"F1 Score_train:\", f1_train)"
   ]
  },
  {
   "cell_type": "markdown",
   "id": "25d39852",
   "metadata": {},
   "source": [
    "## Decision Tree"
   ]
  },
  {
   "cell_type": "code",
   "execution_count": 34,
   "id": "c6e17df9",
   "metadata": {
    "scrolled": false
   },
   "outputs": [
    {
     "name": "stdout",
     "output_type": "stream",
     "text": [
      "[[17437   892]\n",
      " [  918 13223]]\n",
      "              precision    recall  f1-score   support\n",
      "\n",
      "         0.0       0.95      0.95      0.95     18329\n",
      "         1.0       0.94      0.94      0.94     14141\n",
      "\n",
      "    accuracy                           0.94     32470\n",
      "   macro avg       0.94      0.94      0.94     32470\n",
      "weighted avg       0.94      0.94      0.94     32470\n",
      "\n"
     ]
    }
   ],
   "source": [
    "dt=DecisionTreeClassifier()\n",
    "dt_model=dt.fit(xtrain,ytrain)\n",
    "ypred_dt=dt_model.predict(xtest)\n",
    "print(confusion_matrix(ytest,ypred_dt))\n",
    "print(classification_report(ytest,ypred_dt))"
   ]
  },
  {
   "cell_type": "code",
   "execution_count": 35,
   "id": "ee82369c",
   "metadata": {},
   "outputs": [
    {
     "data": {
      "text/plain": [
       "{'ccp_alpha': 0.0,\n",
       " 'class_weight': None,\n",
       " 'criterion': 'gini',\n",
       " 'max_depth': None,\n",
       " 'max_features': None,\n",
       " 'max_leaf_nodes': None,\n",
       " 'min_impurity_decrease': 0.0,\n",
       " 'min_samples_leaf': 1,\n",
       " 'min_samples_split': 2,\n",
       " 'min_weight_fraction_leaf': 0.0,\n",
       " 'random_state': None,\n",
       " 'splitter': 'best'}"
      ]
     },
     "execution_count": 35,
     "metadata": {},
     "output_type": "execute_result"
    }
   ],
   "source": [
    "dt.get_params()"
   ]
  },
  {
   "cell_type": "code",
   "execution_count": 53,
   "id": "a6da2602",
   "metadata": {},
   "outputs": [
    {
     "name": "stdout",
     "output_type": "stream",
     "text": [
      "\n",
      "Training data\n",
      "[[55104    19]\n",
      " [  291 41996]]\n",
      "f1_score:  0.9963227444188749\n",
      "              precision    recall  f1-score   support\n",
      "\n",
      "         0.0       0.99      1.00      1.00     55123\n",
      "         1.0       1.00      0.99      1.00     42287\n",
      "\n",
      "    accuracy                           1.00     97410\n",
      "   macro avg       1.00      1.00      1.00     97410\n",
      "weighted avg       1.00      1.00      1.00     97410\n",
      "\n",
      "F1 Score: 0.9445637650327771\n",
      "F1 Score_train: 0.9968163573510067\n"
     ]
    }
   ],
   "source": [
    "predicted_xtrain_dt=dt.predict(xtrain)\n",
    "print('\\nTraining data')\n",
    "matrix=confusion_matrix(ytrain,predicted_xtrain_dt)\n",
    "print(matrix)\n",
    "measure_train=classification_report(ytrain,predicted_xtrain_dt)\n",
    "print('f1_score: ',metrics.f1_score(ytrain,predicted_xtrain_dt))\n",
    "print(measure_train)\n",
    "f1 = f1_score(ytest, ypred_dt, average=\"weighted\")\n",
    "print(\"F1 Score:\", f1)\n",
    "f1_train= f1_score(ytrain,predicted_xtrain_dt, average=\"weighted\")\n",
    "print(\"F1 Score_train:\", f1_train)"
   ]
  },
  {
   "cell_type": "raw",
   "id": "1270f945",
   "metadata": {},
   "source": [
    "print('\\nTraining Data ')\n",
    "update_performances_train(name='Decision Tress ',\n",
    "                  model=dt,\n",
    "                  train=ytrain,\n",
    "                  pred=predicted_xtrain_dt)\n",
    "perf_score_training"
   ]
  },
  {
   "cell_type": "raw",
   "id": "653b5562",
   "metadata": {},
   "source": [
    "print('\\nTesting Data ')\n",
    "update_performance(name='Decision Tress ',\n",
    "                  model=dt,\n",
    "                  test=ytest,\n",
    "                  pred=ypred_dt)\n",
    "perf_score"
   ]
  },
  {
   "cell_type": "markdown",
   "id": "26ac9359",
   "metadata": {},
   "source": [
    "## Tuned Decision Tree "
   ]
  },
  {
   "cell_type": "code",
   "execution_count": 54,
   "id": "0b647c0f",
   "metadata": {},
   "outputs": [
    {
     "name": "stdout",
     "output_type": "stream",
     "text": [
      "Best Parameters: {'criterion': 'entropy', 'max_depth': None, 'max_features': None, 'min_samples_leaf': 2, 'min_samples_split': 10}\n",
      "Best Estimator: DecisionTreeClassifier(criterion='entropy', min_samples_leaf=2,\n",
      "                       min_samples_split=10)\n"
     ]
    }
   ],
   "source": [
    "\n",
    "\n",
    "# Create a Decision Tree classifier\n",
    "dt_classifier = DecisionTreeClassifier()\n",
    "\n",
    "# Define the parameter grid to search\n",
    "param_grid = {\n",
    "    'max_depth': [None, 5, 10, 15],\n",
    "    'min_samples_split': [2, 5, 10],\n",
    "    'min_samples_leaf': [1, 2, 4],\n",
    "    'criterion': ['gini', 'entropy'],\n",
    "      'max_features': [None, 'sqrt', 'log2'] \n",
    "}\n",
    "\n",
    "# Create the GridSearchCV object with a scoring metric (e.g., accuracy)\n",
    "grid_search_dt = GridSearchCV(dt_classifier, param_grid, cv=5,scoring='f1_macro')\n",
    "\n",
    "# Fit the model to the training data\n",
    "grid_search_dt.fit(xtrain,ytrain)\n",
    "\n",
    "# Get the best parameters and the best estimator\n",
    "best_params = grid_search_dt.best_params_\n",
    "best_estimator = grid_search_dt.best_estimator_\n",
    "\n",
    "print(\"Best Parameters:\", best_params)\n",
    "print(\"Best Estimator:\", best_estimator)"
   ]
  },
  {
   "cell_type": "code",
   "execution_count": 55,
   "id": "aa34196a",
   "metadata": {},
   "outputs": [
    {
     "name": "stdout",
     "output_type": "stream",
     "text": [
      "              precision    recall  f1-score   support\n",
      "\n",
      "         0.0       0.95      0.96      0.96     18329\n",
      "         1.0       0.95      0.93      0.94     14141\n",
      "\n",
      "    accuracy                           0.95     32470\n",
      "   macro avg       0.95      0.95      0.95     32470\n",
      "weighted avg       0.95      0.95      0.95     32470\n",
      "\n",
      "\n",
      "Training data\n",
      "[[54340   783]\n",
      " [ 1613 40674]]\n",
      "f1_score:  0.97138899503248\n",
      "              precision    recall  f1-score   support\n",
      "\n",
      "         0.0       0.97      0.99      0.98     55123\n",
      "         1.0       0.98      0.96      0.97     42287\n",
      "\n",
      "    accuracy                           0.98     97410\n",
      "   macro avg       0.98      0.97      0.97     97410\n",
      "weighted avg       0.98      0.98      0.98     97410\n",
      "\n",
      "F1 Score: 0.9506961114853165\n",
      "F1 Score_train: 0.9753729424261918\n"
     ]
    }
   ],
   "source": [
    "ypred_tuned=grid_search_dt.predict(xtest)\n",
    "print(classification_report(ytest,ypred_tuned))\n",
    "predicted_xtrain_dt=grid_search_dt.predict(xtrain)\n",
    "print('\\nTraining data')\n",
    "matrix=confusion_matrix(ytrain,predicted_xtrain_dt)\n",
    "print(matrix)\n",
    "measure_train=classification_report(ytrain,predicted_xtrain_dt)\n",
    "print('f1_score: ',metrics.f1_score(ytrain,predicted_xtrain_dt))\n",
    "print(measure_train)\n",
    "f1 = f1_score(ytest, ypred_tuned, average=\"weighted\")\n",
    "print(\"F1 Score:\", f1)\n",
    "f1_train= f1_score(ytrain,predicted_xtrain_dt, average=\"weighted\")\n",
    "print(\"F1 Score_train:\", f1_train)"
   ]
  },
  {
   "cell_type": "code",
   "execution_count": null,
   "id": "e4d83f2e",
   "metadata": {
    "scrolled": true
   },
   "outputs": [],
   "source": []
  },
  {
   "cell_type": "raw",
   "id": "0268d9fc",
   "metadata": {},
   "source": [
    "print('\\nTraining Data ')\n",
    "update_performances_train(name='Tuned Decision Tress ',\n",
    "                  model=dt2,\n",
    "                  train=ytrain,\n",
    "                  pred=predicted_xtrain_dt2)\n",
    "perf_score_training"
   ]
  },
  {
   "cell_type": "raw",
   "id": "6ddc341e",
   "metadata": {},
   "source": [
    "print('\\nTesting Data ')\n",
    "update_performance(name='Tuned Decision Tress ',\n",
    "                  model=dt2,\n",
    "                  test=ytest,\n",
    "                  pred=ypred_dt2)\n",
    "perf_score"
   ]
  },
  {
   "cell_type": "markdown",
   "id": "03bab5c7",
   "metadata": {},
   "source": [
    "## Random Forest Model "
   ]
  },
  {
   "cell_type": "code",
   "execution_count": 25,
   "id": "b9693ee3",
   "metadata": {
    "scrolled": false
   },
   "outputs": [
    {
     "name": "stdout",
     "output_type": "stream",
     "text": [
      "              precision    recall  f1-score   support\n",
      "\n",
      "         0.0       0.95      0.98      0.96     18329\n",
      "         1.0       0.97      0.94      0.95     14141\n",
      "\n",
      "    accuracy                           0.96     32470\n",
      "   macro avg       0.96      0.96      0.96     32470\n",
      "weighted avg       0.96      0.96      0.96     32470\n",
      "\n"
     ]
    }
   ],
   "source": [
    "rf=RandomForestClassifier()\n",
    "rf.fit(xtrain,ytrain)\n",
    "ypred_rf=rf.predict(xtest)\n",
    "print(classification_report(ytest,ypred_rf))"
   ]
  },
  {
   "cell_type": "code",
   "execution_count": 26,
   "id": "345e9050",
   "metadata": {},
   "outputs": [
    {
     "data": {
      "text/plain": [
       "{'bootstrap': True,\n",
       " 'ccp_alpha': 0.0,\n",
       " 'class_weight': None,\n",
       " 'criterion': 'gini',\n",
       " 'max_depth': None,\n",
       " 'max_features': 'sqrt',\n",
       " 'max_leaf_nodes': None,\n",
       " 'max_samples': None,\n",
       " 'min_impurity_decrease': 0.0,\n",
       " 'min_samples_leaf': 1,\n",
       " 'min_samples_split': 2,\n",
       " 'min_weight_fraction_leaf': 0.0,\n",
       " 'n_estimators': 100,\n",
       " 'n_jobs': None,\n",
       " 'oob_score': False,\n",
       " 'random_state': None,\n",
       " 'verbose': 0,\n",
       " 'warm_start': False}"
      ]
     },
     "execution_count": 26,
     "metadata": {},
     "output_type": "execute_result"
    }
   ],
   "source": [
    "rf.get_params()"
   ]
  },
  {
   "cell_type": "code",
   "execution_count": 58,
   "id": "f8011214",
   "metadata": {
    "scrolled": true
   },
   "outputs": [
    {
     "name": "stdout",
     "output_type": "stream",
     "text": [
      "\n",
      "Training data\n",
      "[[55012   111]\n",
      " [  199 42088]]\n",
      "f1_score:  0.9963307530241696\n",
      "              precision    recall  f1-score   support\n",
      "\n",
      "         0.0       1.00      1.00      1.00     55123\n",
      "         1.0       1.00      1.00      1.00     42287\n",
      "\n",
      "    accuracy                           1.00     97410\n",
      "   macro avg       1.00      1.00      1.00     97410\n",
      "weighted avg       1.00      1.00      1.00     97410\n",
      "\n",
      "F1 Score: 0.9579087602499876\n",
      "F1 Score_train: 0.9968171869188353\n"
     ]
    }
   ],
   "source": [
    "predicted_xtrain_rf=rf.predict(xtrain)\n",
    "print('\\nTraining data')\n",
    "matrix=confusion_matrix(ytrain,predicted_xtrain_rf)\n",
    "print(matrix)\n",
    "measure_train=classification_report(ytrain,predicted_xtrain_rf)\n",
    "print('f1_score: ',metrics.f1_score(ytrain,predicted_xtrain_rf))\n",
    "print(measure_train)\n",
    "f1 = f1_score(ytest, ypred_rf, average=\"weighted\")\n",
    "print(\"F1 Score:\", f1)\n",
    "f1_train= f1_score(ytrain,predicted_xtrain_rf, average=\"weighted\")\n",
    "print(\"F1 Score_train:\", f1_train)"
   ]
  },
  {
   "cell_type": "raw",
   "id": "06485137",
   "metadata": {},
   "source": [
    "print('\\nTraining Data ')\n",
    "update_performances_train(name='Random Forest ',\n",
    "                  model=rf,\n",
    "                  train=ytrain,\n",
    "                  pred=predicted_xtrain_rf)\n",
    "perf_score_training"
   ]
  },
  {
   "cell_type": "raw",
   "id": "1027f1fd",
   "metadata": {},
   "source": [
    "print('\\nTesting Data ')\n",
    "update_performance(name='Random Forest',\n",
    "                  model=rf,\n",
    "                  test=ytest,\n",
    "                  pred=ypred_rf)\n",
    "perf_score"
   ]
  },
  {
   "cell_type": "markdown",
   "id": "c494cdcf",
   "metadata": {},
   "source": [
    "## Tuned Random Forest"
   ]
  },
  {
   "cell_type": "code",
   "execution_count": null,
   "id": "f949f62b",
   "metadata": {},
   "outputs": [],
   "source": []
  },
  {
   "cell_type": "code",
   "execution_count": 21,
   "id": "0460c0ee",
   "metadata": {},
   "outputs": [
    {
     "ename": "KeyboardInterrupt",
     "evalue": "",
     "output_type": "error",
     "traceback": [
      "\u001b[1;31m---------------------------------------------------------------------------\u001b[0m",
      "\u001b[1;31mKeyboardInterrupt\u001b[0m                         Traceback (most recent call last)",
      "Cell \u001b[1;32mIn[21], line 15\u001b[0m\n\u001b[0;32m     11\u001b[0m grid_search_rf \u001b[38;5;241m=\u001b[39m GridSearchCV(rf_classifier, param_dist, cv\u001b[38;5;241m=\u001b[39m\u001b[38;5;241m5\u001b[39m, scoring\u001b[38;5;241m=\u001b[39m\u001b[38;5;124m'\u001b[39m\u001b[38;5;124mf1_macro\u001b[39m\u001b[38;5;124m'\u001b[39m, n_jobs\u001b[38;5;241m=\u001b[39m\u001b[38;5;241m2\u001b[39m)\n\u001b[0;32m     14\u001b[0m \u001b[38;5;66;03m# Fit the model to the training data\u001b[39;00m\n\u001b[1;32m---> 15\u001b[0m grid_search_rf\u001b[38;5;241m.\u001b[39mfit(xtrain,ytrain)\n\u001b[0;32m     17\u001b[0m \u001b[38;5;66;03m# Get the best parameters and the best estimator\u001b[39;00m\n\u001b[0;32m     18\u001b[0m best_params \u001b[38;5;241m=\u001b[39m grid_search_rf\u001b[38;5;241m.\u001b[39mbest_params_\n",
      "File \u001b[1;32m~\\AppData\\Roaming\\Python\\Python311\\site-packages\\sklearn\\base.py:1152\u001b[0m, in \u001b[0;36m_fit_context.<locals>.decorator.<locals>.wrapper\u001b[1;34m(estimator, *args, **kwargs)\u001b[0m\n\u001b[0;32m   1145\u001b[0m     estimator\u001b[38;5;241m.\u001b[39m_validate_params()\n\u001b[0;32m   1147\u001b[0m \u001b[38;5;28;01mwith\u001b[39;00m config_context(\n\u001b[0;32m   1148\u001b[0m     skip_parameter_validation\u001b[38;5;241m=\u001b[39m(\n\u001b[0;32m   1149\u001b[0m         prefer_skip_nested_validation \u001b[38;5;129;01mor\u001b[39;00m global_skip_validation\n\u001b[0;32m   1150\u001b[0m     )\n\u001b[0;32m   1151\u001b[0m ):\n\u001b[1;32m-> 1152\u001b[0m     \u001b[38;5;28;01mreturn\u001b[39;00m fit_method(estimator, \u001b[38;5;241m*\u001b[39margs, \u001b[38;5;241m*\u001b[39m\u001b[38;5;241m*\u001b[39mkwargs)\n",
      "File \u001b[1;32m~\\AppData\\Roaming\\Python\\Python311\\site-packages\\sklearn\\model_selection\\_search.py:898\u001b[0m, in \u001b[0;36mBaseSearchCV.fit\u001b[1;34m(self, X, y, groups, **fit_params)\u001b[0m\n\u001b[0;32m    892\u001b[0m     results \u001b[38;5;241m=\u001b[39m \u001b[38;5;28mself\u001b[39m\u001b[38;5;241m.\u001b[39m_format_results(\n\u001b[0;32m    893\u001b[0m         all_candidate_params, n_splits, all_out, all_more_results\n\u001b[0;32m    894\u001b[0m     )\n\u001b[0;32m    896\u001b[0m     \u001b[38;5;28;01mreturn\u001b[39;00m results\n\u001b[1;32m--> 898\u001b[0m \u001b[38;5;28mself\u001b[39m\u001b[38;5;241m.\u001b[39m_run_search(evaluate_candidates)\n\u001b[0;32m    900\u001b[0m \u001b[38;5;66;03m# multimetric is determined here because in the case of a callable\u001b[39;00m\n\u001b[0;32m    901\u001b[0m \u001b[38;5;66;03m# self.scoring the return type is only known after calling\u001b[39;00m\n\u001b[0;32m    902\u001b[0m first_test_score \u001b[38;5;241m=\u001b[39m all_out[\u001b[38;5;241m0\u001b[39m][\u001b[38;5;124m\"\u001b[39m\u001b[38;5;124mtest_scores\u001b[39m\u001b[38;5;124m\"\u001b[39m]\n",
      "File \u001b[1;32m~\\AppData\\Roaming\\Python\\Python311\\site-packages\\sklearn\\model_selection\\_search.py:1422\u001b[0m, in \u001b[0;36mGridSearchCV._run_search\u001b[1;34m(self, evaluate_candidates)\u001b[0m\n\u001b[0;32m   1420\u001b[0m \u001b[38;5;28;01mdef\u001b[39;00m \u001b[38;5;21m_run_search\u001b[39m(\u001b[38;5;28mself\u001b[39m, evaluate_candidates):\n\u001b[0;32m   1421\u001b[0m \u001b[38;5;250m    \u001b[39m\u001b[38;5;124;03m\"\"\"Search all candidates in param_grid\"\"\"\u001b[39;00m\n\u001b[1;32m-> 1422\u001b[0m     evaluate_candidates(ParameterGrid(\u001b[38;5;28mself\u001b[39m\u001b[38;5;241m.\u001b[39mparam_grid))\n",
      "File \u001b[1;32m~\\AppData\\Roaming\\Python\\Python311\\site-packages\\sklearn\\model_selection\\_search.py:845\u001b[0m, in \u001b[0;36mBaseSearchCV.fit.<locals>.evaluate_candidates\u001b[1;34m(candidate_params, cv, more_results)\u001b[0m\n\u001b[0;32m    837\u001b[0m \u001b[38;5;28;01mif\u001b[39;00m \u001b[38;5;28mself\u001b[39m\u001b[38;5;241m.\u001b[39mverbose \u001b[38;5;241m>\u001b[39m \u001b[38;5;241m0\u001b[39m:\n\u001b[0;32m    838\u001b[0m     \u001b[38;5;28mprint\u001b[39m(\n\u001b[0;32m    839\u001b[0m         \u001b[38;5;124m\"\u001b[39m\u001b[38;5;124mFitting \u001b[39m\u001b[38;5;132;01m{0}\u001b[39;00m\u001b[38;5;124m folds for each of \u001b[39m\u001b[38;5;132;01m{1}\u001b[39;00m\u001b[38;5;124m candidates,\u001b[39m\u001b[38;5;124m\"\u001b[39m\n\u001b[0;32m    840\u001b[0m         \u001b[38;5;124m\"\u001b[39m\u001b[38;5;124m totalling \u001b[39m\u001b[38;5;132;01m{2}\u001b[39;00m\u001b[38;5;124m fits\u001b[39m\u001b[38;5;124m\"\u001b[39m\u001b[38;5;241m.\u001b[39mformat(\n\u001b[0;32m    841\u001b[0m             n_splits, n_candidates, n_candidates \u001b[38;5;241m*\u001b[39m n_splits\n\u001b[0;32m    842\u001b[0m         )\n\u001b[0;32m    843\u001b[0m     )\n\u001b[1;32m--> 845\u001b[0m out \u001b[38;5;241m=\u001b[39m parallel(\n\u001b[0;32m    846\u001b[0m     delayed(_fit_and_score)(\n\u001b[0;32m    847\u001b[0m         clone(base_estimator),\n\u001b[0;32m    848\u001b[0m         X,\n\u001b[0;32m    849\u001b[0m         y,\n\u001b[0;32m    850\u001b[0m         train\u001b[38;5;241m=\u001b[39mtrain,\n\u001b[0;32m    851\u001b[0m         test\u001b[38;5;241m=\u001b[39mtest,\n\u001b[0;32m    852\u001b[0m         parameters\u001b[38;5;241m=\u001b[39mparameters,\n\u001b[0;32m    853\u001b[0m         split_progress\u001b[38;5;241m=\u001b[39m(split_idx, n_splits),\n\u001b[0;32m    854\u001b[0m         candidate_progress\u001b[38;5;241m=\u001b[39m(cand_idx, n_candidates),\n\u001b[0;32m    855\u001b[0m         \u001b[38;5;241m*\u001b[39m\u001b[38;5;241m*\u001b[39mfit_and_score_kwargs,\n\u001b[0;32m    856\u001b[0m     )\n\u001b[0;32m    857\u001b[0m     \u001b[38;5;28;01mfor\u001b[39;00m (cand_idx, parameters), (split_idx, (train, test)) \u001b[38;5;129;01min\u001b[39;00m product(\n\u001b[0;32m    858\u001b[0m         \u001b[38;5;28menumerate\u001b[39m(candidate_params), \u001b[38;5;28menumerate\u001b[39m(cv\u001b[38;5;241m.\u001b[39msplit(X, y, groups))\n\u001b[0;32m    859\u001b[0m     )\n\u001b[0;32m    860\u001b[0m )\n\u001b[0;32m    862\u001b[0m \u001b[38;5;28;01mif\u001b[39;00m \u001b[38;5;28mlen\u001b[39m(out) \u001b[38;5;241m<\u001b[39m \u001b[38;5;241m1\u001b[39m:\n\u001b[0;32m    863\u001b[0m     \u001b[38;5;28;01mraise\u001b[39;00m \u001b[38;5;167;01mValueError\u001b[39;00m(\n\u001b[0;32m    864\u001b[0m         \u001b[38;5;124m\"\u001b[39m\u001b[38;5;124mNo fits were performed. \u001b[39m\u001b[38;5;124m\"\u001b[39m\n\u001b[0;32m    865\u001b[0m         \u001b[38;5;124m\"\u001b[39m\u001b[38;5;124mWas the CV iterator empty? \u001b[39m\u001b[38;5;124m\"\u001b[39m\n\u001b[0;32m    866\u001b[0m         \u001b[38;5;124m\"\u001b[39m\u001b[38;5;124mWere there no candidates?\u001b[39m\u001b[38;5;124m\"\u001b[39m\n\u001b[0;32m    867\u001b[0m     )\n",
      "File \u001b[1;32m~\\AppData\\Roaming\\Python\\Python311\\site-packages\\sklearn\\utils\\parallel.py:65\u001b[0m, in \u001b[0;36mParallel.__call__\u001b[1;34m(self, iterable)\u001b[0m\n\u001b[0;32m     60\u001b[0m config \u001b[38;5;241m=\u001b[39m get_config()\n\u001b[0;32m     61\u001b[0m iterable_with_config \u001b[38;5;241m=\u001b[39m (\n\u001b[0;32m     62\u001b[0m     (_with_config(delayed_func, config), args, kwargs)\n\u001b[0;32m     63\u001b[0m     \u001b[38;5;28;01mfor\u001b[39;00m delayed_func, args, kwargs \u001b[38;5;129;01min\u001b[39;00m iterable\n\u001b[0;32m     64\u001b[0m )\n\u001b[1;32m---> 65\u001b[0m \u001b[38;5;28;01mreturn\u001b[39;00m \u001b[38;5;28msuper\u001b[39m()\u001b[38;5;241m.\u001b[39m\u001b[38;5;21m__call__\u001b[39m(iterable_with_config)\n",
      "File \u001b[1;32m~\\AppData\\Roaming\\Python\\Python311\\site-packages\\joblib\\parallel.py:1952\u001b[0m, in \u001b[0;36mParallel.__call__\u001b[1;34m(self, iterable)\u001b[0m\n\u001b[0;32m   1946\u001b[0m \u001b[38;5;66;03m# The first item from the output is blank, but it makes the interpreter\u001b[39;00m\n\u001b[0;32m   1947\u001b[0m \u001b[38;5;66;03m# progress until it enters the Try/Except block of the generator and\u001b[39;00m\n\u001b[0;32m   1948\u001b[0m \u001b[38;5;66;03m# reach the first `yield` statement. This starts the aynchronous\u001b[39;00m\n\u001b[0;32m   1949\u001b[0m \u001b[38;5;66;03m# dispatch of the tasks to the workers.\u001b[39;00m\n\u001b[0;32m   1950\u001b[0m \u001b[38;5;28mnext\u001b[39m(output)\n\u001b[1;32m-> 1952\u001b[0m \u001b[38;5;28;01mreturn\u001b[39;00m output \u001b[38;5;28;01mif\u001b[39;00m \u001b[38;5;28mself\u001b[39m\u001b[38;5;241m.\u001b[39mreturn_generator \u001b[38;5;28;01melse\u001b[39;00m \u001b[38;5;28mlist\u001b[39m(output)\n",
      "File \u001b[1;32m~\\AppData\\Roaming\\Python\\Python311\\site-packages\\joblib\\parallel.py:1595\u001b[0m, in \u001b[0;36mParallel._get_outputs\u001b[1;34m(self, iterator, pre_dispatch)\u001b[0m\n\u001b[0;32m   1592\u001b[0m     \u001b[38;5;28;01myield\u001b[39;00m\n\u001b[0;32m   1594\u001b[0m     \u001b[38;5;28;01mwith\u001b[39;00m \u001b[38;5;28mself\u001b[39m\u001b[38;5;241m.\u001b[39m_backend\u001b[38;5;241m.\u001b[39mretrieval_context():\n\u001b[1;32m-> 1595\u001b[0m         \u001b[38;5;28;01myield from\u001b[39;00m \u001b[38;5;28mself\u001b[39m\u001b[38;5;241m.\u001b[39m_retrieve()\n\u001b[0;32m   1597\u001b[0m \u001b[38;5;28;01mexcept\u001b[39;00m \u001b[38;5;167;01mGeneratorExit\u001b[39;00m:\n\u001b[0;32m   1598\u001b[0m     \u001b[38;5;66;03m# The generator has been garbage collected before being fully\u001b[39;00m\n\u001b[0;32m   1599\u001b[0m     \u001b[38;5;66;03m# consumed. This aborts the remaining tasks if possible and warn\u001b[39;00m\n\u001b[0;32m   1600\u001b[0m     \u001b[38;5;66;03m# the user if necessary.\u001b[39;00m\n\u001b[0;32m   1601\u001b[0m     \u001b[38;5;28mself\u001b[39m\u001b[38;5;241m.\u001b[39m_exception \u001b[38;5;241m=\u001b[39m \u001b[38;5;28;01mTrue\u001b[39;00m\n",
      "File \u001b[1;32m~\\AppData\\Roaming\\Python\\Python311\\site-packages\\joblib\\parallel.py:1707\u001b[0m, in \u001b[0;36mParallel._retrieve\u001b[1;34m(self)\u001b[0m\n\u001b[0;32m   1702\u001b[0m \u001b[38;5;66;03m# If the next job is not ready for retrieval yet, we just wait for\u001b[39;00m\n\u001b[0;32m   1703\u001b[0m \u001b[38;5;66;03m# async callbacks to progress.\u001b[39;00m\n\u001b[0;32m   1704\u001b[0m \u001b[38;5;28;01mif\u001b[39;00m ((\u001b[38;5;28mlen\u001b[39m(\u001b[38;5;28mself\u001b[39m\u001b[38;5;241m.\u001b[39m_jobs) \u001b[38;5;241m==\u001b[39m \u001b[38;5;241m0\u001b[39m) \u001b[38;5;129;01mor\u001b[39;00m\n\u001b[0;32m   1705\u001b[0m     (\u001b[38;5;28mself\u001b[39m\u001b[38;5;241m.\u001b[39m_jobs[\u001b[38;5;241m0\u001b[39m]\u001b[38;5;241m.\u001b[39mget_status(\n\u001b[0;32m   1706\u001b[0m         timeout\u001b[38;5;241m=\u001b[39m\u001b[38;5;28mself\u001b[39m\u001b[38;5;241m.\u001b[39mtimeout) \u001b[38;5;241m==\u001b[39m TASK_PENDING)):\n\u001b[1;32m-> 1707\u001b[0m     time\u001b[38;5;241m.\u001b[39msleep(\u001b[38;5;241m0.01\u001b[39m)\n\u001b[0;32m   1708\u001b[0m     \u001b[38;5;28;01mcontinue\u001b[39;00m\n\u001b[0;32m   1710\u001b[0m \u001b[38;5;66;03m# We need to be careful: the job list can be filling up as\u001b[39;00m\n\u001b[0;32m   1711\u001b[0m \u001b[38;5;66;03m# we empty it and Python list are not thread-safe by\u001b[39;00m\n\u001b[0;32m   1712\u001b[0m \u001b[38;5;66;03m# default hence the use of the lock\u001b[39;00m\n",
      "\u001b[1;31mKeyboardInterrupt\u001b[0m: "
     ]
    }
   ],
   "source": [
    "\n",
    "rf_classifier = RandomForestClassifier()\n",
    "\n",
    "param_dist ={     'n_estimators': [50, 100],\n",
    "    'max_depth': [None, 10],\n",
    "    'min_samples_split': [2, 5],\n",
    "    'min_samples_leaf': [1, 2],\n",
    "    'bootstrap': [True, False]\n",
    "}\n",
    "\n",
    "# Create the GridSearchCV object with a scoring metric (e.g., accuracy)\n",
    "grid_search_rf = GridSearchCV(rf_classifier, param_dist, cv=5, scoring='f1_macro', n_jobs=2)\n",
    "\n",
    "\n",
    "# Fit the model to the training data\n",
    "grid_search_rf.fit(xtrain,ytrain)\n",
    "\n",
    "# Get the best parameters and the best estimator\n",
    "best_params = grid_search_rf.best_params_\n",
    "\n",
    "\n",
    "print(\"Best Parameters:\", best_params)"
   ]
  },
  {
   "cell_type": "code",
   "execution_count": null,
   "id": "997d5907",
   "metadata": {},
   "outputs": [],
   "source": [
    "ypred_tuned=grid_search_rf.predict(xtest)\n",
    "print(classification_report(ytest,ypred_tuned))\n",
    "predicted_xtrain_rf=grid_search_rf.predict(xtrain)\n",
    "print('\\nTraining data')\n",
    "matrix=confusion_matrix(ytrain,predicted_xtrain_rf)\n",
    "print(matrix)\n",
    "measure_train=classification_report(ytrain,predicted_xtrain_rf)\n",
    "print('f1_score: ',metrics.f1_score(ytrain,predicted_xtrain_rf))\n",
    "print(measure_train)\n",
    "f1 = f1_score(ytest, ypred_tuned, average=\"weighted\")\n",
    "print(\"F1 Score:\", f1)\n",
    "f1_train= f1_score(ytrain,predicted_xtrain_rf, average=\"weighted\")\n",
    "print(\"F1 Score_train:\", f1_train)"
   ]
  },
  {
   "cell_type": "markdown",
   "id": "babd5ed4",
   "metadata": {},
   "source": [
    "## Random Forest with Out of Bag"
   ]
  },
  {
   "cell_type": "code",
   "execution_count": 31,
   "id": "58f37c3b",
   "metadata": {},
   "outputs": [
    {
     "ename": "NameError",
     "evalue": "name 'grid_search_rf' is not defined",
     "output_type": "error",
     "traceback": [
      "\u001b[1;31m---------------------------------------------------------------------------\u001b[0m",
      "\u001b[1;31mNameError\u001b[0m                                 Traceback (most recent call last)",
      "Cell \u001b[1;32mIn[31], line 1\u001b[0m\n\u001b[1;32m----> 1\u001b[0m best_params \u001b[38;5;241m=\u001b[39m grid_search_rf\u001b[38;5;241m.\u001b[39mbest_params_\n\u001b[0;32m      2\u001b[0m rfoob \u001b[38;5;241m=\u001b[39m RandomForestClassifier(\u001b[38;5;241m*\u001b[39m\u001b[38;5;241m*\u001b[39mbest_params, oob_score\u001b[38;5;241m=\u001b[39m\u001b[38;5;28;01mTrue\u001b[39;00m, random_state\u001b[38;5;241m=\u001b[39m\u001b[38;5;241m10\u001b[39m)\n\u001b[0;32m      3\u001b[0m rfoob\u001b[38;5;241m.\u001b[39mfit(xtrain, ytrain)\n",
      "\u001b[1;31mNameError\u001b[0m: name 'grid_search_rf' is not defined"
     ]
    }
   ],
   "source": [
    "best_params = grid_search_rf.best_params_\n",
    "rfoob = RandomForestClassifier(**best_params, oob_score=True, random_state=10)\n",
    "rfoob.fit(xtrain, ytrain)\n",
    "ypred_rfoob = rfoob.predict(xtest)\n",
    "f1 = f1_score(ytest, ypred_rfoob)\n",
    "print(\"F1 Score:\", f1)\n",
    "print(classification_report(ytest, ypred_rfoob))\n"
   ]
  },
  {
   "cell_type": "code",
   "execution_count": null,
   "id": "c361d8c0",
   "metadata": {},
   "outputs": [],
   "source": [
    "predicted_xtrain_rfoob=rfoob.predict(xtrain)\n",
    "print('\\nTraining data')\n",
    "matrix=confusion_matrix(ytrain,predicted_xtrain_rfoob)\n",
    "print(matrix)\n",
    "measure_train=classification_report(ytrain,predicted_xtrain_rfoob)\n",
    "print('f1_score: ',metrics.f1_score(ytrain,predicted_xtrain_rfoob))\n",
    "print(measure_train)"
   ]
  },
  {
   "cell_type": "code",
   "execution_count": null,
   "id": "1df5fb82",
   "metadata": {},
   "outputs": [],
   "source": [
    "print('\\nTraining Data ')\n",
    "update_performances_train(name='Random Forest with out of bag',\n",
    "                  model=rfoob,\n",
    "                  train=ytrain,\n",
    "                  pred=predicted_xtrain_rfoob)\n",
    "perf_score_training"
   ]
  },
  {
   "cell_type": "code",
   "execution_count": null,
   "id": "40b13d64",
   "metadata": {},
   "outputs": [],
   "source": [
    "print('\\nTesting Data ')\n",
    "update_performance(name='Random Forest with out of bag',\n",
    "                  model=rfoob,\n",
    "                  test=ytest,\n",
    "                  pred=ypred_rfoob)\n",
    "perf_score"
   ]
  },
  {
   "cell_type": "markdown",
   "id": "2c56a00f",
   "metadata": {},
   "source": [
    "## Tunned Knn"
   ]
  },
  {
   "cell_type": "code",
   "execution_count": null,
   "id": "c352bb3b",
   "metadata": {},
   "outputs": [],
   "source": [
    "knn=KNeighborsClassifier(n_neighbors=311)\n",
    "bc_knn=BaggingClassifier(base_estimator=knn,random_state=10)\n",
    "knn_model=bc_knn.fit(xtrain,ytrain)\n",
    "ypred_bc_knn=knn_model.predict(xtest)\n",
    "print(classification_report(ytest,ypred_bc_knn))"
   ]
  },
  {
   "cell_type": "code",
   "execution_count": null,
   "id": "11b057cb",
   "metadata": {},
   "outputs": [],
   "source": [
    "predicted_xtrain_bc_knn=knn_model.predict(xtrain)\n",
    "print('\\nTraining data')\n",
    "matrix=confusion_matrix(ytrain,predicted_xtrain_bc_knn)\n",
    "print(matrix)\n",
    "measure_train=classification_report(ytrain,predicted_xtrain_bc_knn)\n",
    "print('f1_score: ',metrics.f1_score(ytrain,predicted_xtrain_bc_knn))\n",
    "print(measure_train)"
   ]
  },
  {
   "cell_type": "code",
   "execution_count": null,
   "id": "04fca50b",
   "metadata": {},
   "outputs": [],
   "source": [
    "print('\\nTraining Data ')\n",
    "update_performances_train(name='Tunned knn',\n",
    "                  model=knn,\n",
    "                  train=ytrain,\n",
    "                  pred=predicted_xtrain_bc_knn)\n",
    "perf_score_training"
   ]
  },
  {
   "cell_type": "code",
   "execution_count": null,
   "id": "c72e7f52",
   "metadata": {},
   "outputs": [],
   "source": [
    "print('\\nTesting Data ')\n",
    "update_performance(name='Tunned knn',\n",
    "                  model=knn,\n",
    "                  test=ytest,\n",
    "                  pred=ypred_bc_knn)\n",
    "perf_score"
   ]
  },
  {
   "cell_type": "markdown",
   "id": "d073425a",
   "metadata": {},
   "source": [
    "## Ada Boosting "
   ]
  },
  {
   "cell_type": "code",
   "execution_count": 36,
   "id": "6883551f",
   "metadata": {
    "scrolled": true
   },
   "outputs": [
    {
     "name": "stdout",
     "output_type": "stream",
     "text": [
      "              precision    recall  f1-score   support\n",
      "\n",
      "         0.0       0.95      0.96      0.96     18329\n",
      "         1.0       0.95      0.94      0.94     14141\n",
      "\n",
      "    accuracy                           0.95     32470\n",
      "   macro avg       0.95      0.95      0.95     32470\n",
      "weighted avg       0.95      0.95      0.95     32470\n",
      "\n"
     ]
    }
   ],
   "source": [
    "ada=AdaBoostClassifier(dt,random_state=10)\n",
    "ada.fit(xtrain,ytrain)\n",
    "ypred_ada=ada.predict(xtest)\n",
    "print(classification_report(ytest,ypred_ada))"
   ]
  },
  {
   "cell_type": "code",
   "execution_count": 37,
   "id": "1f9cdaf3",
   "metadata": {},
   "outputs": [
    {
     "data": {
      "text/plain": [
       "{'algorithm': 'SAMME.R',\n",
       " 'base_estimator': 'deprecated',\n",
       " 'estimator__ccp_alpha': 0.0,\n",
       " 'estimator__class_weight': None,\n",
       " 'estimator__criterion': 'gini',\n",
       " 'estimator__max_depth': None,\n",
       " 'estimator__max_features': None,\n",
       " 'estimator__max_leaf_nodes': None,\n",
       " 'estimator__min_impurity_decrease': 0.0,\n",
       " 'estimator__min_samples_leaf': 1,\n",
       " 'estimator__min_samples_split': 2,\n",
       " 'estimator__min_weight_fraction_leaf': 0.0,\n",
       " 'estimator__random_state': None,\n",
       " 'estimator__splitter': 'best',\n",
       " 'estimator': DecisionTreeClassifier(),\n",
       " 'learning_rate': 1.0,\n",
       " 'n_estimators': 50,\n",
       " 'random_state': 10}"
      ]
     },
     "execution_count": 37,
     "metadata": {},
     "output_type": "execute_result"
    }
   ],
   "source": [
    "ada.get_params()"
   ]
  },
  {
   "cell_type": "code",
   "execution_count": 38,
   "id": "d8748ede",
   "metadata": {},
   "outputs": [
    {
     "name": "stdout",
     "output_type": "stream",
     "text": [
      "\n",
      "Training data\n",
      "[[55010   113]\n",
      " [  197 42090]]\n",
      "f1_score:  0.996330926736892\n",
      "              precision    recall  f1-score   support\n",
      "\n",
      "         0.0       1.00      1.00      1.00     55123\n",
      "         1.0       1.00      1.00      1.00     42287\n",
      "\n",
      "    accuracy                           1.00     97410\n",
      "   macro avg       1.00      1.00      1.00     97410\n",
      "weighted avg       1.00      1.00      1.00     97410\n",
      "\n",
      "F1 Score: 0.9500548454006937\n",
      "F1 Score_train: 0.9968172046866901\n"
     ]
    }
   ],
   "source": [
    "predicted_xtrain_ada=ada.predict(xtrain)\n",
    "print('\\nTraining data')\n",
    "matrix=confusion_matrix(ytrain,predicted_xtrain_ada)\n",
    "print(matrix)\n",
    "measure_train=classification_report(ytrain,predicted_xtrain_ada)\n",
    "print('f1_score: ',metrics.f1_score(ytrain,predicted_xtrain_ada))\n",
    "print(measure_train)\n",
    "f1 = f1_score(ytest, ypred_ada, average=\"weighted\")\n",
    "print(\"F1 Score:\", f1)\n",
    "f1_train= f1_score(ytrain,predicted_xtrain_ada, average=\"weighted\")\n",
    "print(\"F1 Score_train:\", f1_train)"
   ]
  },
  {
   "cell_type": "code",
   "execution_count": null,
   "id": "cbdc8636",
   "metadata": {},
   "outputs": [],
   "source": [
    "print('\\nTraining Data ')\n",
    "update_performances_train(name='Adaboost Classifier',\n",
    "                  model=ada,\n",
    "                  train=ytrain,\n",
    "                  pred=predicted_xtrain_ada)\n",
    "perf_score_training"
   ]
  },
  {
   "cell_type": "code",
   "execution_count": null,
   "id": "17435cc1",
   "metadata": {},
   "outputs": [],
   "source": [
    "print('\\nTesting Data ')\n",
    "update_performance(name='Adaboost Classifier',\n",
    "                  model=ada,\n",
    "                  test=ytest,\n",
    "                  pred=ypred_ada)\n",
    "perf_score"
   ]
  },
  {
   "cell_type": "markdown",
   "id": "f7774eb6",
   "metadata": {},
   "source": [
    "# TUNED ADA BOOST"
   ]
  },
  {
   "cell_type": "code",
   "execution_count": 41,
   "id": "3a66c1ee",
   "metadata": {},
   "outputs": [
    {
     "name": "stdout",
     "output_type": "stream",
     "text": [
      "Best Parameters: {'learning_rate': 1.0, 'n_estimators': 200}\n",
      "Accuracy on Test Set: 0.9269171542962735\n"
     ]
    }
   ],
   "source": [
    "param_grid = {\n",
    "    'n_estimators': [50, 100, 200],\n",
    "    'learning_rate': [0.01, 0.1, 1.0]\n",
    "}\n",
    "\n",
    "# Create the AdaBoostClassifier\n",
    "adaboost_classifier = AdaBoostClassifier()\n",
    "\n",
    "# Create the GridSearchCV object\n",
    "grid_search_adaboost = GridSearchCV(adaboost_classifier, param_grid, cv=5, scoring='f1_macro', n_jobs=-1)\n",
    "\n",
    "# Fit the model to the training data\n",
    "grid_search_adaboost.fit(xtrain, ytrain)\n",
    "\n",
    "# Get the best parameters\n",
    "best_params_adaboost = grid_search_adaboost.best_params_\n",
    "\n",
    "# Create the AdaBoostClassifier with the best parameters\n",
    "adaboost_best = AdaBoostClassifier(**best_params_adaboost)\n",
    "\n",
    "# Fit the best model to the training data\n",
    "adaboost_best.fit(xtrain, ytrain)\n",
    "\n",
    "# Make predictions on the test set\n",
    "ypred_adaboost = adaboost_best.predict(xtest)\n",
    "\n",
    "# Evaluate the performance\n",
    "accuracy = accuracy_score(ytest, ypred_adaboost)\n",
    "print(\"Best Parameters:\", best_params_adaboost)\n",
    "print(\"Accuracy on Test Set:\", accuracy)"
   ]
  },
  {
   "cell_type": "code",
   "execution_count": 42,
   "id": "7d3d259b",
   "metadata": {},
   "outputs": [
    {
     "name": "stdout",
     "output_type": "stream",
     "text": [
      "              precision    recall  f1-score   support\n",
      "\n",
      "         0.0       0.93      0.94      0.94     18329\n",
      "         1.0       0.93      0.90      0.92     14141\n",
      "\n",
      "    accuracy                           0.93     32470\n",
      "   macro avg       0.93      0.92      0.93     32470\n",
      "weighted avg       0.93      0.93      0.93     32470\n",
      "\n"
     ]
    }
   ],
   "source": [
    "ypred_ada=adaboost_best.predict(xtest)\n",
    "print(classification_report(ytest,ypred_ada))"
   ]
  },
  {
   "cell_type": "code",
   "execution_count": 43,
   "id": "bfcf84e9",
   "metadata": {},
   "outputs": [
    {
     "name": "stdout",
     "output_type": "stream",
     "text": [
      "\n",
      "Training data\n",
      "[[51898  3225]\n",
      " [ 3974 38313]]\n",
      "f1_score:  0.9141186996719356\n",
      "              precision    recall  f1-score   support\n",
      "\n",
      "         0.0       0.93      0.94      0.94     55123\n",
      "         1.0       0.92      0.91      0.91     42287\n",
      "\n",
      "    accuracy                           0.93     97410\n",
      "   macro avg       0.93      0.92      0.92     97410\n",
      "weighted avg       0.93      0.93      0.93     97410\n",
      "\n",
      "F1 Score: 0.9268086651973835\n",
      "F1 Score_train: 0.9260150607244825\n"
     ]
    }
   ],
   "source": [
    "predicted_xtrain_ada=adaboost_best.predict(xtrain)\n",
    "print('\\nTraining data')\n",
    "matrix=confusion_matrix(ytrain,predicted_xtrain_ada)\n",
    "print(matrix)\n",
    "measure_train=classification_report(ytrain,predicted_xtrain_ada)\n",
    "print('f1_score: ',metrics.f1_score(ytrain,predicted_xtrain_ada))\n",
    "print(measure_train)\n",
    "f1 = f1_score(ytest, ypred_ada, average=\"weighted\")\n",
    "print(\"F1 Score:\", f1)\n",
    "f1_train= f1_score(ytrain,predicted_xtrain_ada, average=\"weighted\")\n",
    "print(\"F1 Score_train:\", f1_train)"
   ]
  },
  {
   "cell_type": "markdown",
   "id": "5dd039b3",
   "metadata": {},
   "source": [
    "## Gradient Boost Classifier "
   ]
  },
  {
   "cell_type": "code",
   "execution_count": 44,
   "id": "243f214b",
   "metadata": {
    "scrolled": true
   },
   "outputs": [
    {
     "name": "stdout",
     "output_type": "stream",
     "text": [
      "              precision    recall  f1-score   support\n",
      "\n",
      "         0.0       0.95      0.98      0.96     18329\n",
      "         1.0       0.97      0.94      0.95     14141\n",
      "\n",
      "    accuracy                           0.96     32470\n",
      "   macro avg       0.96      0.96      0.96     32470\n",
      "weighted avg       0.96      0.96      0.96     32470\n",
      "\n"
     ]
    }
   ],
   "source": [
    "gbc=GradientBoostingClassifier()\n",
    "gbc.fit(xtrain,ytrain)\n",
    "ypred_gbc=rf.predict(xtest)\n",
    "print(classification_report(ytest,ypred_gbc))"
   ]
  },
  {
   "cell_type": "code",
   "execution_count": 45,
   "id": "4861e4cd",
   "metadata": {},
   "outputs": [
    {
     "data": {
      "text/plain": [
       "{'ccp_alpha': 0.0,\n",
       " 'criterion': 'friedman_mse',\n",
       " 'init': None,\n",
       " 'learning_rate': 0.1,\n",
       " 'loss': 'log_loss',\n",
       " 'max_depth': 3,\n",
       " 'max_features': None,\n",
       " 'max_leaf_nodes': None,\n",
       " 'min_impurity_decrease': 0.0,\n",
       " 'min_samples_leaf': 1,\n",
       " 'min_samples_split': 2,\n",
       " 'min_weight_fraction_leaf': 0.0,\n",
       " 'n_estimators': 100,\n",
       " 'n_iter_no_change': None,\n",
       " 'random_state': None,\n",
       " 'subsample': 1.0,\n",
       " 'tol': 0.0001,\n",
       " 'validation_fraction': 0.1,\n",
       " 'verbose': 0,\n",
       " 'warm_start': False}"
      ]
     },
     "execution_count": 45,
     "metadata": {},
     "output_type": "execute_result"
    }
   ],
   "source": [
    "gbc.get_params()"
   ]
  },
  {
   "cell_type": "code",
   "execution_count": 47,
   "id": "62207a56",
   "metadata": {},
   "outputs": [
    {
     "name": "stdout",
     "output_type": "stream",
     "text": [
      "\n",
      "Training data\n",
      "[[52946  2177]\n",
      " [ 3447 38840]]\n",
      "f1_score:  0.9324882358590224\n",
      "              precision    recall  f1-score   support\n",
      "\n",
      "         0.0       0.94      0.96      0.95     55123\n",
      "         1.0       0.95      0.92      0.93     42287\n",
      "\n",
      "    accuracy                           0.94     97410\n",
      "   macro avg       0.94      0.94      0.94     97410\n",
      "weighted avg       0.94      0.94      0.94     97410\n",
      "\n",
      "F1 Score: 0.958648554349541\n",
      "F1 Score_train: 0.9421533158056444\n"
     ]
    }
   ],
   "source": [
    "predicted_xtrain_gbc=gbc.predict(xtrain)\n",
    "print('\\nTraining data')\n",
    "matrix=confusion_matrix(ytrain,predicted_xtrain_gbc)\n",
    "print(matrix)\n",
    "measure_train=classification_report(ytrain,predicted_xtrain_gbc)\n",
    "print('f1_score: ',metrics.f1_score(ytrain,predicted_xtrain_gbc))\n",
    "print(measure_train)\n",
    "f1 = f1_score(ytest, ypred_gbc, average=\"weighted\")\n",
    "print(\"F1 Score:\", f1)\n",
    "f1_train= f1_score(ytrain,predicted_xtrain_gbc, average=\"weighted\")\n",
    "print(\"F1 Score_train:\", f1_train)"
   ]
  },
  {
   "cell_type": "raw",
   "id": "b1b01beb",
   "metadata": {},
   "source": [
    "print('\\nTraining Data ')\n",
    "update_performances_train(name='Gradient Boost Classifier',\n",
    "                  model=gbc,\n",
    "                  train=ytrain,\n",
    "                  pred=predicted_xtrain_gbc)\n",
    "perf_score_training"
   ]
  },
  {
   "cell_type": "raw",
   "id": "d5f9954e",
   "metadata": {},
   "source": [
    "print('\\nTesting Data ')\n",
    "update_performance(name='Gradient Boost Classifier',\n",
    "                  model=gbc,\n",
    "                  test=ytest,\n",
    "                  pred=ypred_gbc)\n",
    "perf_score"
   ]
  },
  {
   "cell_type": "markdown",
   "id": "8f54b0c8",
   "metadata": {},
   "source": [
    "# TUNNING GRADIANT BOOST"
   ]
  },
  {
   "cell_type": "code",
   "execution_count": 51,
   "id": "2106290b",
   "metadata": {},
   "outputs": [
    {
     "name": "stdout",
     "output_type": "stream",
     "text": [
      "Best Parameters: {'learning_rate': 0.1, 'max_depth': 5, 'n_estimators': 200}\n",
      "Accuracy on Test Set: 0.9597782568524792\n",
      "              precision    recall  f1-score   support\n",
      "\n",
      "         0.0       0.95      0.98      0.96     18329\n",
      "         1.0       0.97      0.94      0.95     14141\n",
      "\n",
      "    accuracy                           0.96     32470\n",
      "   macro avg       0.96      0.96      0.96     32470\n",
      "weighted avg       0.96      0.96      0.96     32470\n",
      "\n"
     ]
    }
   ],
   "source": [
    "# Define the parameter grid for GradientBoostingClassifier\n",
    "param_grid = {\n",
    "    'n_estimators': [50, 100, 200],\n",
    "    'learning_rate': [0.01, 0.1, 1.0],\n",
    "    'max_depth': [3, 4, 5]\n",
    "}\n",
    "\n",
    "# Create the GradientBoostingClassifier\n",
    "gradient_boost_classifier = GradientBoostingClassifier()\n",
    "\n",
    "# Create the GridSearchCV object\n",
    "grid_search_gradient_boost = GridSearchCV(gradient_boost_classifier, param_grid, cv=5, scoring='f1_macro', n_jobs=-1)\n",
    "\n",
    "# Fit the model to the training data\n",
    "grid_search_gradient_boost.fit(xtrain, ytrain)\n",
    "\n",
    "# Get the best parameters\n",
    "best_params_gradient_boost = grid_search_gradient_boost.best_params_\n",
    "\n",
    "# Create the GradientBoostingClassifier with the best parameters\n",
    "gradient_boost_best = GradientBoostingClassifier(**best_params_gradient_boost)\n",
    "\n",
    "# Fit the best model to the training data\n",
    "gradient_boost_best.fit(xtrain, ytrain)\n",
    "\n",
    "# Make predictions on the test set\n",
    "ypred_gradient_boost = gradient_boost_best.predict(xtest)\n",
    "\n",
    "# Evaluate the performance\n",
    "accuracy = accuracy_score(ytest, ypred_gradient_boost)\n",
    "print(\"Best Parameters:\", best_params_gradient_boost)\n",
    "print(\"Accuracy on Test Set:\", accuracy)\n",
    "print(classification_report(ytest,ypred_gradient_boost))"
   ]
  },
  {
   "cell_type": "code",
   "execution_count": 52,
   "id": "8d413775",
   "metadata": {},
   "outputs": [
    {
     "name": "stdout",
     "output_type": "stream",
     "text": [
      "\n",
      "Training data\n",
      "[[51898  3225]\n",
      " [ 3974 38313]]\n",
      "f1_score:  0.9567962738436792\n",
      "              precision    recall  f1-score   support\n",
      "\n",
      "         0.0       0.96      0.98      0.97     55123\n",
      "         1.0       0.97      0.94      0.96     42287\n",
      "\n",
      "    accuracy                           0.96     97410\n",
      "   macro avg       0.96      0.96      0.96     97410\n",
      "weighted avg       0.96      0.96      0.96     97410\n",
      "\n",
      "F1 Score: 0.9268086651973835\n",
      "F1 Score_train: 0.9629817635880128\n"
     ]
    }
   ],
   "source": [
    "predicted_xtrain_gra=gradient_boost_best.predict(xtrain)\n",
    "print('\\nTraining data')\n",
    "matrix=confusion_matrix(ytrain,predicted_xtrain_ada)\n",
    "print(matrix)\n",
    "measure_train=classification_report(ytrain,predicted_xtrain_gra)\n",
    "print('f1_score: ',metrics.f1_score(ytrain,predicted_xtrain_gra))\n",
    "print(measure_train)\n",
    "f1 = f1_score(ytest, ypred_ada, average=\"weighted\")\n",
    "print(\"F1 Score:\", f1)\n",
    "f1_train= f1_score(ytrain,predicted_xtrain_gra, average=\"weighted\")\n",
    "print(\"F1 Score_train:\", f1_train)"
   ]
  },
  {
   "cell_type": "markdown",
   "id": "bf764d85",
   "metadata": {},
   "source": [
    "## XG Boost Classifier "
   ]
  },
  {
   "cell_type": "code",
   "execution_count": 53,
   "id": "ca6b16cb",
   "metadata": {
    "scrolled": true
   },
   "outputs": [
    {
     "name": "stdout",
     "output_type": "stream",
     "text": [
      "              precision    recall  f1-score   support\n",
      "\n",
      "         0.0       0.96      0.98      0.97     18329\n",
      "         1.0       0.97      0.94      0.95     14141\n",
      "\n",
      "    accuracy                           0.96     32470\n",
      "   macro avg       0.96      0.96      0.96     32470\n",
      "weighted avg       0.96      0.96      0.96     32470\n",
      "\n"
     ]
    }
   ],
   "source": [
    "xg=XGBClassifier()\n",
    "xg.fit(xtrain,ytrain)\n",
    "ypred_xg=xg.predict(xtest)\n",
    "print(classification_report(ytest,ypred_xg))"
   ]
  },
  {
   "cell_type": "code",
   "execution_count": 54,
   "id": "132b94a8",
   "metadata": {},
   "outputs": [
    {
     "data": {
      "text/plain": [
       "{'objective': 'binary:logistic',\n",
       " 'base_score': None,\n",
       " 'booster': None,\n",
       " 'callbacks': None,\n",
       " 'colsample_bylevel': None,\n",
       " 'colsample_bynode': None,\n",
       " 'colsample_bytree': None,\n",
       " 'device': None,\n",
       " 'early_stopping_rounds': None,\n",
       " 'enable_categorical': False,\n",
       " 'eval_metric': None,\n",
       " 'feature_types': None,\n",
       " 'gamma': None,\n",
       " 'grow_policy': None,\n",
       " 'importance_type': None,\n",
       " 'interaction_constraints': None,\n",
       " 'learning_rate': None,\n",
       " 'max_bin': None,\n",
       " 'max_cat_threshold': None,\n",
       " 'max_cat_to_onehot': None,\n",
       " 'max_delta_step': None,\n",
       " 'max_depth': None,\n",
       " 'max_leaves': None,\n",
       " 'min_child_weight': None,\n",
       " 'missing': nan,\n",
       " 'monotone_constraints': None,\n",
       " 'multi_strategy': None,\n",
       " 'n_estimators': None,\n",
       " 'n_jobs': None,\n",
       " 'num_parallel_tree': None,\n",
       " 'random_state': None,\n",
       " 'reg_alpha': None,\n",
       " 'reg_lambda': None,\n",
       " 'sampling_method': None,\n",
       " 'scale_pos_weight': None,\n",
       " 'subsample': None,\n",
       " 'tree_method': None,\n",
       " 'validate_parameters': None,\n",
       " 'verbosity': None}"
      ]
     },
     "execution_count": 54,
     "metadata": {},
     "output_type": "execute_result"
    }
   ],
   "source": [
    "xg.get_params()"
   ]
  },
  {
   "cell_type": "code",
   "execution_count": 55,
   "id": "acff8702",
   "metadata": {},
   "outputs": [
    {
     "name": "stdout",
     "output_type": "stream",
     "text": [
      "\n",
      "Training data\n",
      "[[54191   932]\n",
      " [ 2114 40173]]\n",
      "f1_score:  0.9634737145049885\n",
      "              precision    recall  f1-score   support\n",
      "\n",
      "         0.0       0.96      0.98      0.97     55123\n",
      "         1.0       0.98      0.95      0.96     42287\n",
      "\n",
      "    accuracy                           0.97     97410\n",
      "   macro avg       0.97      0.97      0.97     97410\n",
      "weighted avg       0.97      0.97      0.97     97410\n",
      "\n",
      "F1 Score: 0.9610067452848605\n",
      "F1 Score_train: 0.9686743513346299\n"
     ]
    }
   ],
   "source": [
    "predicted_xtrain_xg=xg.predict(xtrain)\n",
    "print('\\nTraining data')\n",
    "matrix=confusion_matrix(ytrain,predicted_xtrain_xg)\n",
    "print(matrix)\n",
    "measure_train=classification_report(ytrain,predicted_xtrain_xg)\n",
    "print('f1_score: ',metrics.f1_score(ytrain,predicted_xtrain_xg))\n",
    "print(measure_train)\n",
    "f1 = f1_score(ytest, ypred_xg, average=\"weighted\")\n",
    "print(\"F1 Score:\", f1)\n",
    "f1_train= f1_score(ytrain,predicted_xtrain_xg, average=\"weighted\")\n",
    "print(\"F1 Score_train:\", f1_train)"
   ]
  },
  {
   "cell_type": "code",
   "execution_count": null,
   "id": "3fc5172f",
   "metadata": {},
   "outputs": [],
   "source": [
    "print('\\nTraining Data ')\n",
    "update_performances_train(name='XGBoost Classifier',\n",
    "                  model=xg,\n",
    "                  train=ytrain,\n",
    "                  pred=predicted_xtrain_xg)\n",
    "perf_score_training"
   ]
  },
  {
   "cell_type": "code",
   "execution_count": null,
   "id": "a0d093bd",
   "metadata": {},
   "outputs": [],
   "source": [
    "print('\\nTesting Data')\n",
    "update_performance(name='XGBoost Classifier',\n",
    "                  model=xg,\n",
    "                  test=ytest,\n",
    "                  pred=ypred_xg)\n",
    "perf_score"
   ]
  },
  {
   "cell_type": "markdown",
   "id": "4030f792",
   "metadata": {},
   "source": [
    "# TUNNING XG BOOST"
   ]
  },
  {
   "cell_type": "code",
   "execution_count": 60,
   "id": "d3d34dbb",
   "metadata": {
    "scrolled": true
   },
   "outputs": [
    {
     "name": "stdout",
     "output_type": "stream",
     "text": [
      "Best Parameters: {'colsample_bytree': 1.0, 'gamma': 0.1, 'learning_rate': 0.1, 'max_depth': 4, 'n_estimators': 100, 'subsample': 0.8}\n",
      "Accuracy on Test Set: 0.9516784724360948\n",
      "              precision    recall  f1-score   support\n",
      "\n",
      "         0.0       0.94      0.97      0.96     18329\n",
      "         1.0       0.96      0.93      0.94     14141\n",
      "\n",
      "    accuracy                           0.95     32470\n",
      "   macro avg       0.95      0.95      0.95     32470\n",
      "weighted avg       0.95      0.95      0.95     32470\n",
      "\n"
     ]
    }
   ],
   "source": [
    "import xgboost as xgb\n",
    "# Define the parameter grid for XGBoost\n",
    "param_grid = {\n",
    "    'learning_rate': [0.01, 0.1],\n",
    "    'n_estimators': [50, 100],\n",
    "    'max_depth': [3, 4],\n",
    "    'subsample': [0.8, 1.0],\n",
    "    'colsample_bytree': [0.8, 1.0],\n",
    "    'gamma': [0, 0.1]\n",
    "}\n",
    "\n",
    "# Create the XGBoost classifier\n",
    "xgb_classifier = xgb.XGBClassifier()\n",
    "\n",
    "# Create the GridSearchCV object\n",
    "grid_search_xgb = GridSearchCV(xgb_classifier, param_grid, cv=5, scoring='f1_macro', n_jobs=-1)\n",
    "\n",
    "# Fit the model to the training data\n",
    "grid_search_xgb.fit(xtrain, ytrain)\n",
    "\n",
    "# Get the best parameters\n",
    "best_params_xgb = grid_search_xgb.best_params_\n",
    "\n",
    "# Create the XGBoost classifier with the best parameters\n",
    "xgb_best = xgb.XGBClassifier(**best_params_xgb)\n",
    "\n",
    "# Fit the best model to the training data\n",
    "xgb_best.fit(xtrain, ytrain)\n",
    "\n",
    "# Make predictions on the test set\n",
    "ypred_xgb = xgb_best.predict(xtest)\n",
    "\n",
    "# Evaluate the performance\n",
    "accuracy = accuracy_score(ytest, ypred_xgb)\n",
    "print(\"Best Parameters:\", best_params_xgb)\n",
    "print(\"Accuracy on Test Set:\", accuracy)\n",
    "print(classification_report(ytest,ypred_xgb))"
   ]
  },
  {
   "cell_type": "code",
   "execution_count": 61,
   "id": "e3bde2f3",
   "metadata": {},
   "outputs": [
    {
     "name": "stdout",
     "output_type": "stream",
     "text": [
      "\n",
      "Training data\n",
      "[[53542  1581]\n",
      " [ 3060 39227]]\n",
      "f1_score:  0.9441482640351405\n",
      "              precision    recall  f1-score   support\n",
      "\n",
      "         0.0       0.95      0.97      0.96     55123\n",
      "         1.0       0.96      0.93      0.94     42287\n",
      "\n",
      "    accuracy                           0.95     97410\n",
      "   macro avg       0.95      0.95      0.95     97410\n",
      "weighted avg       0.95      0.95      0.95     97410\n",
      "\n",
      "F1 Score: 0.9610067452848605\n",
      "F1 Score_train: 0.9522473677988339\n"
     ]
    }
   ],
   "source": [
    "predicted_xtrain_xg=xgb_best.predict(xtrain)\n",
    "print('\\nTraining data')\n",
    "matrix=confusion_matrix(ytrain,predicted_xtrain_xg)\n",
    "print(matrix)\n",
    "measure_train=classification_report(ytrain,predicted_xtrain_xg)\n",
    "print('f1_score: ',metrics.f1_score(ytrain,predicted_xtrain_xg))\n",
    "print(measure_train)\n",
    "f1 = f1_score(ytest, ypred_xg, average=\"weighted\")\n",
    "print(\"F1 Score:\", f1)\n",
    "f1_train= f1_score(ytrain,predicted_xtrain_xg, average=\"weighted\")\n",
    "print(\"F1 Score_train:\", f1_train)"
   ]
  },
  {
   "cell_type": "markdown",
   "id": "b8e61ebd",
   "metadata": {},
   "source": [
    "## Stacking "
   ]
  },
  {
   "cell_type": "code",
   "execution_count": 62,
   "id": "aca1931d",
   "metadata": {},
   "outputs": [
    {
     "name": "stdout",
     "output_type": "stream",
     "text": [
      "              precision    recall  f1-score   support\n",
      "\n",
      "         0.0       0.95      0.95      0.95     18329\n",
      "         1.0       0.93      0.94      0.94     14141\n",
      "\n",
      "    accuracy                           0.95     32470\n",
      "   macro avg       0.94      0.95      0.94     32470\n",
      "weighted avg       0.95      0.95      0.95     32470\n",
      "\n"
     ]
    }
   ],
   "source": [
    "lr=LogisticRegression()\n",
    "knn=KNeighborsClassifier()\n",
    "dt=DecisionTreeClassifier()\n",
    "base_learner=[('lr_model', lr ),('knn_model', knn),('dt_model', dt)]\n",
    "stack=StackingClassifier(estimators=base_learner, final_estimator=GaussianNB())\n",
    "stack.fit(xtrain,ytrain)\n",
    "ypred_stack=stack.predict(xtest)\n",
    "print(classification_report(ytest,ypred_stack))"
   ]
  },
  {
   "cell_type": "code",
   "execution_count": 64,
   "id": "9262cf36",
   "metadata": {},
   "outputs": [
    {
     "name": "stdout",
     "output_type": "stream",
     "text": [
      "\n",
      "Training data\n",
      "[[54543   580]\n",
      " [  167 42120]]\n",
      "f1_score:  0.9912104204172402\n",
      "              precision    recall  f1-score   support\n",
      "\n",
      "         0.0       1.00      0.99      0.99     55123\n",
      "         1.0       0.99      1.00      0.99     42287\n",
      "\n",
      "    accuracy                           0.99     97410\n",
      "   macro avg       0.99      0.99      0.99     97410\n",
      "weighted avg       0.99      0.99      0.99     97410\n",
      "\n",
      "F1 Score: 0.945513370766888\n",
      "F1 Score_train: 0.9923355979184745\n"
     ]
    }
   ],
   "source": [
    "predicted_xtrain_stack=stack.predict(xtrain)\n",
    "print('\\nTraining data')\n",
    "matrix=confusion_matrix(ytrain,predicted_xtrain_stack)\n",
    "print(matrix)\n",
    "measure_train=classification_report(ytrain,predicted_xtrain_stack)\n",
    "print('f1_score: ',metrics.f1_score(ytrain,predicted_xtrain_stack))\n",
    "print(measure_train)\n",
    "f1 = f1_score(ytest, ypred_stack, average=\"weighted\")\n",
    "print(\"F1 Score:\", f1)\n",
    "f1_train= f1_score(ytrain,predicted_xtrain_stack, average=\"weighted\")\n",
    "print(\"F1 Score_train:\", f1_train)"
   ]
  },
  {
   "cell_type": "raw",
   "id": "adefc68a",
   "metadata": {},
   "source": [
    "print('\\nTraining Data ')\n",
    "update_performances_train(name='Stacking',\n",
    "                  model=stack,\n",
    "                  train=ytrain,\n",
    "                  pred=predicted_xtrain_stack)\n",
    "perf_score_training"
   ]
  },
  {
   "cell_type": "raw",
   "id": "75c1c754",
   "metadata": {},
   "source": [
    "print('\\nTesting Data')\n",
    "update_performance(name='Stacking',\n",
    "                  model=stack,\n",
    "                  test=ytest,\n",
    "                  pred=ypred_stack)\n",
    "perf_score"
   ]
  },
  {
   "cell_type": "code",
   "execution_count": null,
   "id": "76aefa20",
   "metadata": {},
   "outputs": [],
   "source": [
    "# here random forest and xg boost is giving better model "
   ]
  },
  {
   "cell_type": "markdown",
   "id": "b0095faa",
   "metadata": {},
   "source": [
    "## Variable Importance plot of decision Tree"
   ]
  },
  {
   "cell_type": "code",
   "execution_count": null,
   "id": "992a5de6",
   "metadata": {},
   "outputs": [],
   "source": [
    "plot_vimp(0, x, y, feature_names)"
   ]
  },
  {
   "cell_type": "markdown",
   "id": "72c7dbb4",
   "metadata": {},
   "source": [
    "## Variable Importance plot of Random Forest"
   ]
  },
  {
   "cell_type": "code",
   "execution_count": null,
   "id": "90af5752",
   "metadata": {},
   "outputs": [],
   "source": [
    "plot_vimp(1,x,y,feature_names)"
   ]
  },
  {
   "cell_type": "markdown",
   "id": "b5d80636",
   "metadata": {},
   "source": [
    "## Variable Importance plot of GradientBoost"
   ]
  },
  {
   "cell_type": "code",
   "execution_count": null,
   "id": "751d1ef3",
   "metadata": {},
   "outputs": [],
   "source": [
    "plot_vimp(2,x,y,feature_names)"
   ]
  },
  {
   "cell_type": "markdown",
   "id": "77cd8421",
   "metadata": {},
   "source": [
    "## Variable Importance plot of AdaBoost"
   ]
  },
  {
   "cell_type": "code",
   "execution_count": null,
   "id": "53b6745b",
   "metadata": {},
   "outputs": [],
   "source": [
    "plot_vimp(3,x,y,feature_names)"
   ]
  },
  {
   "cell_type": "markdown",
   "id": "e15a8f6d",
   "metadata": {},
   "source": [
    "## Variable Importance plot of XGBoost"
   ]
  },
  {
   "cell_type": "code",
   "execution_count": null,
   "id": "b9491963",
   "metadata": {
    "scrolled": false
   },
   "outputs": [],
   "source": [
    "plot_vimp(4,x,y,feature_names)"
   ]
  },
  {
   "cell_type": "markdown",
   "id": "445e099f",
   "metadata": {},
   "source": [
    "## Confusion Matrix and ROC curve of Logistic Regression"
   ]
  },
  {
   "cell_type": "code",
   "execution_count": null,
   "id": "d1bec98c",
   "metadata": {
    "scrolled": false
   },
   "outputs": [],
   "source": [
    "con_lr=confusion_matrix(ytest,ypred_lr)\n",
    "conf_matrix = pd.DataFrame(data = con_lr,columns = ['Predicted:0','Predicted:1'], index = ['Actual:0','Actual:1'])\n",
    "sns.heatmap(conf_matrix, annot = True, fmt = 'd', cmap = ListedColormap(['lightskyblue']), cbar = False, \n",
    "            linewidths = 0.1, annot_kws = {'size':25})\n",
    "# set the font size of x-axis ticks using 'fontsize'\n",
    "plt.xticks(fontsize = 10)\n",
    "# set the font size of y-axis ticks using 'fontsize'\n",
    "plt.yticks(fontsize = 10)\n",
    "# display the plot\n",
    "plt.show()\n",
    "draw_roc(ytest,ypred_lr)"
   ]
  },
  {
   "cell_type": "markdown",
   "id": "40cc2404",
   "metadata": {},
   "source": [
    "## Confusion Matrix and ROC curve of KNeighbour "
   ]
  },
  {
   "cell_type": "code",
   "execution_count": null,
   "id": "05476db0",
   "metadata": {
    "scrolled": false
   },
   "outputs": [],
   "source": [
    "con_knn=confusion_matrix(ytest,ypred_knn)\n",
    "conf_matrix = pd.DataFrame(data = con_knn,columns = ['Predicted:0','Predicted:1'], index = ['Actual:0','Actual:1'])\n",
    "sns.heatmap(conf_matrix, annot = True, fmt = 'd', cmap = ListedColormap(['lightskyblue']), cbar = False, \n",
    "            linewidths = 0.1, annot_kws = {'size':25})\n",
    "# set the font size of x-axis ticks using 'fontsize'\n",
    "plt.xticks(fontsize = 10)\n",
    "# set the font size of y-axis ticks using 'fontsize'\n",
    "plt.yticks(fontsize = 10)\n",
    "# display the plot\n",
    "plt.show()\n",
    "draw_roc(ytest,ypred_knn)"
   ]
  },
  {
   "cell_type": "markdown",
   "id": "3a01499e",
   "metadata": {},
   "source": [
    "## Confusion Matrix and ROC curve of Gaussian Naive Bayes"
   ]
  },
  {
   "cell_type": "code",
   "execution_count": null,
   "id": "576fdb16",
   "metadata": {
    "scrolled": false
   },
   "outputs": [],
   "source": [
    "con_knn=confusion_matrix(ytest,ypred_gnb)\n",
    "conf_matrix = pd.DataFrame(data = con_knn,columns = ['Predicted:0','Predicted:1'], index = ['Actual:0','Actual:1'])\n",
    "sns.heatmap(conf_matrix, annot = True, fmt = 'd', cmap = ListedColormap(['lightskyblue']), cbar = False, \n",
    "            linewidths = 0.1, annot_kws = {'size':25})\n",
    "# set the font size of x-axis ticks using 'fontsize'\n",
    "plt.xticks(fontsize = 10)\n",
    "# set the font size of y-axis ticks using 'fontsize'\n",
    "plt.yticks(fontsize = 10)\n",
    "# display the plot\n",
    "plt.show()\n",
    "draw_roc(ytest,ypred_gnb)"
   ]
  },
  {
   "cell_type": "markdown",
   "id": "444b6b55",
   "metadata": {},
   "source": [
    "## Confusion Matrix and ROC curve of Decision Tree"
   ]
  },
  {
   "cell_type": "code",
   "execution_count": null,
   "id": "318e7360",
   "metadata": {
    "scrolled": false
   },
   "outputs": [],
   "source": [
    "con_knn=confusion_matrix(ytest,ypred_dt)\n",
    "conf_matrix = pd.DataFrame(data = con_knn,columns = ['Predicted:0','Predicted:1'], index = ['Actual:0','Actual:1'])\n",
    "sns.heatmap(conf_matrix, annot = True, fmt = 'd', cmap = ListedColormap(['lightskyblue']), cbar = False, \n",
    "            linewidths = 0.1, annot_kws = {'size':25})\n",
    "# set the font size of x-axis ticks using 'fontsize'\n",
    "plt.xticks(fontsize = 10)\n",
    "# set the font size of y-axis ticks using 'fontsize'\n",
    "plt.yticks(fontsize = 10)\n",
    "# display the plot\n",
    "plt.show()\n",
    "draw_roc(ytest,ypred_dt)"
   ]
  },
  {
   "cell_type": "markdown",
   "id": "cb054e25",
   "metadata": {},
   "source": [
    "## Confusion Matrix and ROC curve of Random Forest"
   ]
  },
  {
   "cell_type": "code",
   "execution_count": null,
   "id": "098e2d12",
   "metadata": {
    "scrolled": false
   },
   "outputs": [],
   "source": [
    "con_knn=confusion_matrix(ytest,ypred_rf)\n",
    "conf_matrix = pd.DataFrame(data = con_knn,columns = ['Predicted:0','Predicted:1'], index = ['Actual:0','Actual:1'])\n",
    "sns.heatmap(conf_matrix, annot = True, fmt = 'd', cmap = ListedColormap(['lightskyblue']), cbar = False, \n",
    "            linewidths = 0.1, annot_kws = {'size':25})\n",
    "# set the font size of x-axis ticks using 'fontsize'\n",
    "plt.xticks(fontsize = 10)\n",
    "# set the font size of y-axis ticks using 'fontsize'\n",
    "plt.yticks(fontsize = 10)\n",
    "# display the plot\n",
    "plt.show()\n",
    "draw_roc(ytest,ypred_rf)"
   ]
  },
  {
   "cell_type": "markdown",
   "id": "1026140f",
   "metadata": {},
   "source": [
    "## Confusion Matrix and ROC curve of Gradient Boost"
   ]
  },
  {
   "cell_type": "code",
   "execution_count": null,
   "id": "611de783",
   "metadata": {
    "scrolled": false
   },
   "outputs": [],
   "source": [
    "con_knn=confusion_matrix(ytest,ypred_gbc)\n",
    "conf_matrix = pd.DataFrame(data = con_knn,columns = ['Predicted:0','Predicted:1'], index = ['Actual:0','Actual:1'])\n",
    "sns.heatmap(conf_matrix, annot = True, fmt = 'd', cmap = ListedColormap(['lightskyblue']), cbar = False, \n",
    "            linewidths = 0.1, annot_kws = {'size':25})\n",
    "# set the font size of x-axis ticks using 'fontsize'\n",
    "plt.xticks(fontsize = 10)\n",
    "# set the font size of y-axis ticks using 'fontsize'\n",
    "plt.yticks(fontsize = 10)\n",
    "# display the plot\n",
    "plt.show()\n",
    "draw_roc(ytest,ypred_gbc)"
   ]
  },
  {
   "cell_type": "markdown",
   "id": "a2c27795",
   "metadata": {},
   "source": [
    "## Confusion Matrix and ROC curve of AdaBoost"
   ]
  },
  {
   "cell_type": "code",
   "execution_count": null,
   "id": "b87c38b5",
   "metadata": {
    "scrolled": false
   },
   "outputs": [],
   "source": [
    "con_knn=confusion_matrix(ytest,ypred_ada)\n",
    "conf_matrix = pd.DataFrame(data = con_knn,columns = ['Predicted:0','Predicted:1'], index = ['Actual:0','Actual:1'])\n",
    "sns.heatmap(conf_matrix, annot = True, fmt = 'd', cmap = ListedColormap(['lightskyblue']), cbar = False, \n",
    "            linewidths = 0.1, annot_kws = {'size':25})\n",
    "# set the font size of x-axis ticks using 'fontsize'\n",
    "plt.xticks(fontsize = 10)\n",
    "# set the font size of y-axis ticks using 'fontsize'\n",
    "plt.yticks(fontsize = 10)\n",
    "# display the plot\n",
    "plt.show()\n",
    "draw_roc(ytest,ypred_ada)"
   ]
  },
  {
   "cell_type": "markdown",
   "id": "1b3ed0fd",
   "metadata": {},
   "source": [
    "## Confusion Matrix and ROC curve of XGBoost"
   ]
  },
  {
   "cell_type": "code",
   "execution_count": null,
   "id": "a0872ed7",
   "metadata": {},
   "outputs": [],
   "source": [
    "con_knn=confusion_matrix(ytest,ypred_xg)\n",
    "conf_matrix = pd.DataFrame(data = con_knn,columns = ['Predicted:0','Predicted:1'], index = ['Actual:0','Actual:1'])\n",
    "sns.heatmap(conf_matrix, annot = True, fmt = 'd', cmap = ListedColormap(['lightskyblue']), cbar = False, \n",
    "            linewidths = 0.1, annot_kws = {'size':25})\n",
    "# set the font size of x-axis ticks using 'fontsize'\n",
    "plt.xticks(fontsize = 10)\n",
    "# set the font size of y-axis ticks using 'fontsize'\n",
    "plt.yticks(fontsize = 10)\n",
    "# display the plot\n",
    "plt.show()\n",
    "draw_roc(ytest,ypred_xg)"
   ]
  },
  {
   "cell_type": "markdown",
   "id": "26ef1338",
   "metadata": {},
   "source": [
    "## Tuning Random Forest by changing max_depth"
   ]
  },
  {
   "cell_type": "code",
   "execution_count": null,
   "id": "212b2212",
   "metadata": {
    "scrolled": true
   },
   "outputs": [],
   "source": [
    "rf=RandomForestClassifier(max_depth=8, min_samples_split=4)\n",
    "rf.fit(xtrain,ytrain)\n",
    "ypred_rf=rf.predict(xtest)\n",
    "print(classification_report(ytest,ypred_rf))"
   ]
  },
  {
   "cell_type": "code",
   "execution_count": null,
   "id": "e5c6552e",
   "metadata": {
    "scrolled": true
   },
   "outputs": [],
   "source": [
    "predicted_xtrain_rf=rf.predict(xtrain)\n",
    "print('\\nTraining data')\n",
    "matrix=confusion_matrix(ytrain,predicted_xtrain_rf)\n",
    "print(matrix)\n",
    "measure_train=classification_report(ytrain,predicted_xtrain_rf)\n",
    "print('f1_score: ',metrics.f1_score(ytrain,predicted_xtrain_rf))\n",
    "print(measure_train)"
   ]
  },
  {
   "cell_type": "code",
   "execution_count": null,
   "id": "6ee9cf96",
   "metadata": {},
   "outputs": [],
   "source": []
  },
  {
   "cell_type": "raw",
   "id": "b03ea9f3",
   "metadata": {},
   "source": [
    "The weighted avg f1-score is Reduced to 0.94 from 0.96 because we have changed the parameters (max_depth=8, min_samples_split=4)compared to the Random Forest model which has been built by Default  parameters(max_depth=none, min_samples_split=2)"
   ]
  },
  {
   "cell_type": "code",
   "execution_count": null,
   "id": "44632d58",
   "metadata": {},
   "outputs": [],
   "source": [
    "rf=RandomForestClassifier(max_depth=15, min_samples_split=10)\n",
    "rf.fit(xtrain,ytrain)\n",
    "ypred_rf=rf.predict(xtest)\n",
    "print(classification_report(ytest,ypred_rf))"
   ]
  },
  {
   "cell_type": "code",
   "execution_count": null,
   "id": "f2fcaeb8",
   "metadata": {
    "scrolled": true
   },
   "outputs": [],
   "source": [
    "predicted_xtrain_rf=rf.predict(xtrain)\n",
    "print('\\nTraining data')\n",
    "matrix=confusion_matrix(ytrain,predicted_xtrain_rf)\n",
    "print(matrix)\n",
    "measure_train=classification_report(ytrain,predicted_xtrain_rf)\n",
    "print('f1_score: ',metrics.f1_score(ytrain,predicted_xtrain_rf))\n",
    "print(measure_train)"
   ]
  },
  {
   "cell_type": "code",
   "execution_count": null,
   "id": "ff62fa19",
   "metadata": {},
   "outputs": [],
   "source": []
  },
  {
   "cell_type": "raw",
   "id": "eb777cbf",
   "metadata": {},
   "source": [
    "The weighted avg f1-score is same as 0.96 even the parameters are changed\n",
    "Default parameter(max_depth=none, min_samples_split=2)\n",
    "Changed Parameters (max_depth=15, min_samples_split=10)"
   ]
  },
  {
   "cell_type": "code",
   "execution_count": null,
   "id": "d06ead74",
   "metadata": {
    "scrolled": true
   },
   "outputs": [],
   "source": [
    "rf=RandomForestClassifier(max_depth=20, min_samples_split=15)\n",
    "rf.fit(xtrain,ytrain)\n",
    "ypred_rf=rf.predict(xtest)\n",
    "print(classification_report(ytest,ypred_rf))"
   ]
  },
  {
   "cell_type": "code",
   "execution_count": null,
   "id": "78c97efa",
   "metadata": {
    "scrolled": false
   },
   "outputs": [],
   "source": [
    "predicted_xtrain_rf=rf.predict(xtrain)\n",
    "print('\\nTraining data')\n",
    "matrix=confusion_matrix(ytrain,predicted_xtrain_rf)\n",
    "print(matrix)\n",
    "measure_train=classification_report(ytrain,predicted_xtrain_rf)\n",
    "print('f1_score: ',metrics.f1_score(ytrain,predicted_xtrain_rf))\n",
    "print(measure_train)"
   ]
  },
  {
   "cell_type": "code",
   "execution_count": null,
   "id": "a4f3a47a",
   "metadata": {},
   "outputs": [],
   "source": []
  },
  {
   "cell_type": "raw",
   "id": "78b8e9e5",
   "metadata": {},
   "source": [
    "The weighted avg f1-score is same as 0.96 even the parameters are changed\n",
    "Default parameter(max_depth=none, min_samples_split=2)\n",
    "Changed Parameters (max_depth=20, min_samples_split=15)"
   ]
  },
  {
   "cell_type": "code",
   "execution_count": null,
   "id": "3053bccf",
   "metadata": {},
   "outputs": [],
   "source": [
    "rf=RandomForestClassifier(max_depth=19, min_samples_split=16)\n",
    "rf.fit(xtrain,ytrain)\n",
    "ypred_rf=rf.predict(xtest)\n",
    "print(classification_report(ytest,ypred_rf))"
   ]
  },
  {
   "cell_type": "code",
   "execution_count": null,
   "id": "078ab0c5",
   "metadata": {
    "scrolled": true
   },
   "outputs": [],
   "source": [
    "predicted_xtrain_rf=rf.predict(xtrain)\n",
    "print('\\nTraining data')\n",
    "matrix=confusion_matrix(ytrain,predicted_xtrain_rf)\n",
    "print(matrix)\n",
    "measure_train=classification_report(ytrain,predicted_xtrain_rf)\n",
    "print('f1_score: ',metrics.f1_score(ytrain,predicted_xtrain_rf))\n",
    "print(measure_train)"
   ]
  },
  {
   "cell_type": "code",
   "execution_count": null,
   "id": "d8773b18",
   "metadata": {},
   "outputs": [],
   "source": []
  },
  {
   "cell_type": "raw",
   "id": "8c23ad94",
   "metadata": {},
   "source": [
    "The weighted avg f1-score is same as 0.96 even the parameters are changed\n",
    "Default parameter(max_depth=none, min_samples_split=2)\n",
    "Changed Parameters (max_depth=19, min_samples_split=16)"
   ]
  },
  {
   "cell_type": "code",
   "execution_count": null,
   "id": "6a7062ff",
   "metadata": {},
   "outputs": [],
   "source": [
    "rf=RandomForestClassifier(max_depth=5, min_samples_split=3)\n",
    "rf.fit(xtrain,ytrain)\n",
    "ypred_rf=rf.predict(xtest)\n",
    "print(classification_report(ytest,ypred_rf))"
   ]
  },
  {
   "cell_type": "code",
   "execution_count": null,
   "id": "85db5021",
   "metadata": {
    "scrolled": true
   },
   "outputs": [],
   "source": [
    "predicted_xtrain_rf=rf.predict(xtrain)\n",
    "print('\\nTraining data')\n",
    "matrix=confusion_matrix(ytrain,predicted_xtrain_rf)\n",
    "print(matrix)\n",
    "measure_train=classification_report(ytrain,predicted_xtrain_rf)\n",
    "print('f1_score: ',metrics.f1_score(ytrain,predicted_xtrain_rf))\n",
    "print(measure_train)"
   ]
  },
  {
   "cell_type": "code",
   "execution_count": null,
   "id": "936477f0",
   "metadata": {},
   "outputs": [],
   "source": []
  },
  {
   "cell_type": "raw",
   "id": "79638391",
   "metadata": {},
   "source": [
    "The weighted avg f1-score is Reduced to 0.92 from 0.96 because we have changed the parameters (max_depth=5, min_samples_split=3)compared to the Random Forest model which has been built by Default  parameters(max_depth=none, min_samples_split=2)"
   ]
  },
  {
   "cell_type": "code",
   "execution_count": null,
   "id": "09cd7b4b",
   "metadata": {},
   "outputs": [],
   "source": []
  }
 ],
 "metadata": {
  "kernelspec": {
   "display_name": "Python 3 (ipykernel)",
   "language": "python",
   "name": "python3"
  },
  "language_info": {
   "codemirror_mode": {
    "name": "ipython",
    "version": 3
   },
   "file_extension": ".py",
   "mimetype": "text/x-python",
   "name": "python",
   "nbconvert_exporter": "python",
   "pygments_lexer": "ipython3",
   "version": "3.11.5"
  }
 },
 "nbformat": 4,
 "nbformat_minor": 5
}
