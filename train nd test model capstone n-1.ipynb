{
 "cells": [
  {
   "cell_type": "code",
   "execution_count": 1,
   "id": "9a2f209b",
   "metadata": {
    "scrolled": true
   },
   "outputs": [],
   "source": [
    "\n",
    "import numpy as np\n",
    "import pandas as pd \n",
    "import matplotlib.pyplot as plt\n",
    "import seaborn as sns\n",
    "from warnings import filterwarnings\n",
    "filterwarnings('ignore')\n",
    "from sklearn.preprocessing import MinMaxScaler,StandardScaler,RobustScaler\n",
    "from sklearn.model_selection import train_test_split\n",
    "from sklearn.tree import DecisionTreeClassifier\n",
    "from sklearn import tree\n",
    "from sklearn.model_selection import GridSearchCV\n",
    "\n",
    "from sklearn.metrics import confusion_matrix\n",
    "import statsmodels.api as sm\n",
    "\n",
    "from sklearn.preprocessing import StandardScaler \n",
    "\n",
    "from sklearn import metrics\n",
    "from sklearn.linear_model import LogisticRegression\n",
    "from sklearn.metrics import classification_report\n",
    "from sklearn.metrics import cohen_kappa_score\n",
    "from sklearn.metrics import confusion_matrix\n",
    "from sklearn.metrics import roc_curve\n",
    "from sklearn.metrics import accuracy_score\n",
    "\n",
    "import matplotlib.pyplot as plt\n",
    "from matplotlib.colors import ListedColormap\n",
    "\n",
    "from sklearn.feature_selection import RFE\n",
    "\n",
    "from sklearn.metrics import classification_report,f1_score,recall_score,precision_score,accuracy_score\n",
    "from sklearn.metrics import ConfusionMatrixDisplay \n",
    "from sklearn.linear_model import LogisticRegression\n",
    "from sklearn.metrics import f1_score\n",
    "from sklearn.neighbors import KNeighborsClassifier\n",
    "from sklearn.naive_bayes import GaussianNB,BernoulliNB,MultinomialNB\n",
    "from sklearn.ensemble import RandomForestClassifier\n",
    "from sklearn.ensemble import BaggingClassifier\n",
    "from sklearn.ensemble import AdaBoostClassifier,GradientBoostingClassifier\n",
    "from sklearn.ensemble import StackingClassifier\n",
    "from imblearn.over_sampling import SMOTE"
   ]
  },
  {
   "cell_type": "code",
   "execution_count": 2,
   "id": "b59103ab",
   "metadata": {},
   "outputs": [],
   "source": [
    "def plot_vimp(poss, X, Y, feature_names):\n",
    "    \n",
    "    from    sklearn.tree            import  DecisionTreeClassifier\n",
    "    from    sklearn.ensemble        import  RandomForestClassifier        \n",
    "    from    sklearn.ensemble        import  AdaBoostClassifier\n",
    "    from    xgboost                 import  XGBClassifier  \n",
    "    \n",
    "    tex     =  \" (Normalized) total reduction of the criterion brought by that feature.\"\n",
    "        \n",
    "    if poss == 0:\n",
    "        name   =   \"Decision Tree\"\n",
    "        clf    =   DecisionTreeClassifier(criterion=\"entropy\", max_depth = 4, min_impurity_decrease = 0)\n",
    "        clf.fit(X, Y)\n",
    "    elif poss == 1:\n",
    "        name   =   \"Random Forest\"        \n",
    "        clf    =   RandomForestClassifier()\n",
    "        clf.fit(X, Y)  \n",
    "    elif poss == 2:\n",
    "        name   =   \"GradientBoost\"             \n",
    "        clf    =   GradientBoostingClassifier()\n",
    "        clf.fit(X, Y)          \n",
    "    elif poss == 3:\n",
    "        name   =   \"AdaBoost\"        \n",
    "        clf    =   AdaBoostClassifier()\n",
    "        clf.fit(X, Y)\n",
    "    elif poss==4:\n",
    "        name  =     \"XGBoost\"\n",
    "        clf   =      XGBClassifier()\n",
    "        clf.fit(X, Y)\n",
    "        \n",
    "    ###\n",
    "    ### Variable importance Plot\n",
    "    ###\n",
    "    importances =  clf.feature_importances_\n",
    "    indices     =  np.argsort(importances)\n",
    "    titlex      =  'Feature Importances for '+ name\n",
    "    plt.title(titlex)\n",
    "    plt.barh(range(len(indices)), importances[indices], color='b', align='center')\n",
    "    plt.yticks(range(len(indices)), [feature_names[i] for i in indices])\n",
    "    plt.xlabel('Relative Importance :\\n' + tex)\n",
    "    plt.show"
   ]
  },
  {
   "cell_type": "code",
   "execution_count": 3,
   "id": "cec4cae1",
   "metadata": {},
   "outputs": [],
   "source": [
    "def draw_roc( actual, probs ):\n",
    "\n",
    "    import pandas            as   pd\n",
    "    import numpy             as   np\n",
    "    import seaborn           as   sns\n",
    "    import matplotlib.pyplot as   plt\n",
    "    import sklearn.metrics   as   metrics\n",
    "    import seaborn           as   sns\n",
    "    \n",
    "    fpr, tpr, thresholds = metrics.roc_curve( actual, probs,\n",
    "    drop_intermediate = False )\n",
    "    auc_score = metrics.roc_auc_score( actual, probs )\n",
    "    plt.figure(figsize=(6, 4))\n",
    "    plt.plot( fpr, tpr, label='ROC curve (area = %0.2f)' % auc_score )\n",
    "    plt.plot([0, 1], [0, 1], 'k--')\n",
    "    plt.xlim([0.0, 1.0])\n",
    "    plt.ylim([0.0, 1.05])\n",
    "    plt.xlabel('False Positive Rate or [1 - True Negative Rate]')\n",
    "    plt.ylabel('True Positive Rate')\n",
    "    plt.title('Receiver operating characteristic curve')\n",
    "    plt.legend(loc=\"lower right\")\n",
    "    plt.show()"
   ]
  },
  {
   "cell_type": "code",
   "execution_count": 4,
   "id": "391f491d",
   "metadata": {},
   "outputs": [],
   "source": [
    "feature_names         =  ['Gender', 'Customer Type', 'Type of Travel', 'Class','Inflight wifi service',\\\n",
    "                          'Departure/Arrival time convenient','Ease of Online booking', 'Online boarding',\\\n",
    "                          'Seat comfort', 'On-board service', 'Leg room service', 'Baggage handling',\\\n",
    "                          'Checkin service', 'Cleanliness', 'Inflight service']"
   ]
  },
  {
   "cell_type": "code",
   "execution_count": 5,
   "id": "9060af09",
   "metadata": {},
   "outputs": [
    {
     "data": {
      "text/html": [
       "<div>\n",
       "<style scoped>\n",
       "    .dataframe tbody tr th:only-of-type {\n",
       "        vertical-align: middle;\n",
       "    }\n",
       "\n",
       "    .dataframe tbody tr th {\n",
       "        vertical-align: top;\n",
       "    }\n",
       "\n",
       "    .dataframe thead th {\n",
       "        text-align: right;\n",
       "    }\n",
       "</style>\n",
       "<table border=\"1\" class=\"dataframe\">\n",
       "  <thead>\n",
       "    <tr style=\"text-align: right;\">\n",
       "      <th></th>\n",
       "      <th>Gender</th>\n",
       "      <th>Customer Type</th>\n",
       "      <th>Type of Travel</th>\n",
       "      <th>Class</th>\n",
       "      <th>Inflight wifi service</th>\n",
       "      <th>Departure/Arrival time convenient</th>\n",
       "      <th>Ease of Online booking</th>\n",
       "      <th>Online boarding</th>\n",
       "      <th>Seat comfort</th>\n",
       "      <th>On-board service</th>\n",
       "      <th>Leg room service</th>\n",
       "      <th>Baggage handling</th>\n",
       "      <th>Checkin service</th>\n",
       "      <th>Cleanliness</th>\n",
       "      <th>Inflight service</th>\n",
       "      <th>satisfaction</th>\n",
       "    </tr>\n",
       "  </thead>\n",
       "  <tbody>\n",
       "    <tr>\n",
       "      <th>0</th>\n",
       "      <td>1.0</td>\n",
       "      <td>0.0</td>\n",
       "      <td>1.0</td>\n",
       "      <td>1.0</td>\n",
       "      <td>3.0</td>\n",
       "      <td>5.0</td>\n",
       "      <td>3.0</td>\n",
       "      <td>3.0</td>\n",
       "      <td>3.0</td>\n",
       "      <td>4.0</td>\n",
       "      <td>2.0</td>\n",
       "      <td>3.0</td>\n",
       "      <td>3.0</td>\n",
       "      <td>3.0</td>\n",
       "      <td>5.0</td>\n",
       "      <td>0.0</td>\n",
       "    </tr>\n",
       "    <tr>\n",
       "      <th>1</th>\n",
       "      <td>1.0</td>\n",
       "      <td>1.0</td>\n",
       "      <td>0.0</td>\n",
       "      <td>1.0</td>\n",
       "      <td>3.0</td>\n",
       "      <td>2.0</td>\n",
       "      <td>2.0</td>\n",
       "      <td>2.0</td>\n",
       "      <td>3.0</td>\n",
       "      <td>2.0</td>\n",
       "      <td>1.0</td>\n",
       "      <td>0.0</td>\n",
       "      <td>2.0</td>\n",
       "      <td>3.0</td>\n",
       "      <td>1.0</td>\n",
       "      <td>0.0</td>\n",
       "    </tr>\n",
       "    <tr>\n",
       "      <th>2</th>\n",
       "      <td>0.0</td>\n",
       "      <td>0.0</td>\n",
       "      <td>0.0</td>\n",
       "      <td>0.0</td>\n",
       "      <td>3.0</td>\n",
       "      <td>4.0</td>\n",
       "      <td>4.0</td>\n",
       "      <td>3.0</td>\n",
       "      <td>3.0</td>\n",
       "      <td>3.0</td>\n",
       "      <td>3.0</td>\n",
       "      <td>2.0</td>\n",
       "      <td>1.0</td>\n",
       "      <td>3.0</td>\n",
       "      <td>4.0</td>\n",
       "      <td>0.0</td>\n",
       "    </tr>\n",
       "    <tr>\n",
       "      <th>3</th>\n",
       "      <td>0.0</td>\n",
       "      <td>0.0</td>\n",
       "      <td>0.0</td>\n",
       "      <td>0.0</td>\n",
       "      <td>1.0</td>\n",
       "      <td>4.0</td>\n",
       "      <td>4.0</td>\n",
       "      <td>4.0</td>\n",
       "      <td>3.0</td>\n",
       "      <td>1.0</td>\n",
       "      <td>1.0</td>\n",
       "      <td>0.0</td>\n",
       "      <td>3.0</td>\n",
       "      <td>1.0</td>\n",
       "      <td>1.0</td>\n",
       "      <td>0.0</td>\n",
       "    </tr>\n",
       "    <tr>\n",
       "      <th>4</th>\n",
       "      <td>0.0</td>\n",
       "      <td>0.0</td>\n",
       "      <td>0.0</td>\n",
       "      <td>1.0</td>\n",
       "      <td>4.0</td>\n",
       "      <td>3.0</td>\n",
       "      <td>2.0</td>\n",
       "      <td>4.0</td>\n",
       "      <td>4.0</td>\n",
       "      <td>4.0</td>\n",
       "      <td>5.0</td>\n",
       "      <td>2.0</td>\n",
       "      <td>1.0</td>\n",
       "      <td>4.0</td>\n",
       "      <td>4.0</td>\n",
       "      <td>0.0</td>\n",
       "    </tr>\n",
       "    <tr>\n",
       "      <th>...</th>\n",
       "      <td>...</td>\n",
       "      <td>...</td>\n",
       "      <td>...</td>\n",
       "      <td>...</td>\n",
       "      <td>...</td>\n",
       "      <td>...</td>\n",
       "      <td>...</td>\n",
       "      <td>...</td>\n",
       "      <td>...</td>\n",
       "      <td>...</td>\n",
       "      <td>...</td>\n",
       "      <td>...</td>\n",
       "      <td>...</td>\n",
       "      <td>...</td>\n",
       "      <td>...</td>\n",
       "      <td>...</td>\n",
       "    </tr>\n",
       "    <tr>\n",
       "      <th>97405</th>\n",
       "      <td>1.0</td>\n",
       "      <td>1.0</td>\n",
       "      <td>0.0</td>\n",
       "      <td>1.0</td>\n",
       "      <td>1.0</td>\n",
       "      <td>5.0</td>\n",
       "      <td>1.0</td>\n",
       "      <td>1.0</td>\n",
       "      <td>3.0</td>\n",
       "      <td>5.0</td>\n",
       "      <td>1.0</td>\n",
       "      <td>2.0</td>\n",
       "      <td>4.0</td>\n",
       "      <td>4.0</td>\n",
       "      <td>3.0</td>\n",
       "      <td>0.0</td>\n",
       "    </tr>\n",
       "    <tr>\n",
       "      <th>97406</th>\n",
       "      <td>0.0</td>\n",
       "      <td>0.0</td>\n",
       "      <td>1.0</td>\n",
       "      <td>2.0</td>\n",
       "      <td>3.0</td>\n",
       "      <td>1.0</td>\n",
       "      <td>3.0</td>\n",
       "      <td>3.0</td>\n",
       "      <td>1.0</td>\n",
       "      <td>3.0</td>\n",
       "      <td>1.0</td>\n",
       "      <td>1.0</td>\n",
       "      <td>1.0</td>\n",
       "      <td>1.0</td>\n",
       "      <td>2.0</td>\n",
       "      <td>0.0</td>\n",
       "    </tr>\n",
       "    <tr>\n",
       "      <th>97407</th>\n",
       "      <td>1.0</td>\n",
       "      <td>0.0</td>\n",
       "      <td>0.0</td>\n",
       "      <td>0.0</td>\n",
       "      <td>1.0</td>\n",
       "      <td>1.0</td>\n",
       "      <td>1.0</td>\n",
       "      <td>4.0</td>\n",
       "      <td>4.0</td>\n",
       "      <td>5.0</td>\n",
       "      <td>5.0</td>\n",
       "      <td>4.0</td>\n",
       "      <td>3.0</td>\n",
       "      <td>3.0</td>\n",
       "      <td>5.0</td>\n",
       "      <td>1.0</td>\n",
       "    </tr>\n",
       "    <tr>\n",
       "      <th>97408</th>\n",
       "      <td>0.0</td>\n",
       "      <td>1.0</td>\n",
       "      <td>0.0</td>\n",
       "      <td>0.0</td>\n",
       "      <td>3.0</td>\n",
       "      <td>3.0</td>\n",
       "      <td>3.0</td>\n",
       "      <td>3.0</td>\n",
       "      <td>3.0</td>\n",
       "      <td>5.0</td>\n",
       "      <td>5.0</td>\n",
       "      <td>4.0</td>\n",
       "      <td>4.0</td>\n",
       "      <td>3.0</td>\n",
       "      <td>4.0</td>\n",
       "      <td>0.0</td>\n",
       "    </tr>\n",
       "    <tr>\n",
       "      <th>97409</th>\n",
       "      <td>1.0</td>\n",
       "      <td>0.0</td>\n",
       "      <td>0.0</td>\n",
       "      <td>0.0</td>\n",
       "      <td>4.0</td>\n",
       "      <td>4.0</td>\n",
       "      <td>4.0</td>\n",
       "      <td>4.0</td>\n",
       "      <td>5.0</td>\n",
       "      <td>4.0</td>\n",
       "      <td>4.0</td>\n",
       "      <td>3.0</td>\n",
       "      <td>5.0</td>\n",
       "      <td>1.0</td>\n",
       "      <td>4.0</td>\n",
       "      <td>1.0</td>\n",
       "    </tr>\n",
       "  </tbody>\n",
       "</table>\n",
       "<p>97410 rows × 16 columns</p>\n",
       "</div>"
      ],
      "text/plain": [
       "       Gender  Customer Type  Type of Travel  Class  Inflight wifi service  \\\n",
       "0         1.0            0.0             1.0    1.0                    3.0   \n",
       "1         1.0            1.0             0.0    1.0                    3.0   \n",
       "2         0.0            0.0             0.0    0.0                    3.0   \n",
       "3         0.0            0.0             0.0    0.0                    1.0   \n",
       "4         0.0            0.0             0.0    1.0                    4.0   \n",
       "...       ...            ...             ...    ...                    ...   \n",
       "97405     1.0            1.0             0.0    1.0                    1.0   \n",
       "97406     0.0            0.0             1.0    2.0                    3.0   \n",
       "97407     1.0            0.0             0.0    0.0                    1.0   \n",
       "97408     0.0            1.0             0.0    0.0                    3.0   \n",
       "97409     1.0            0.0             0.0    0.0                    4.0   \n",
       "\n",
       "       Departure/Arrival time convenient  Ease of Online booking  \\\n",
       "0                                    5.0                     3.0   \n",
       "1                                    2.0                     2.0   \n",
       "2                                    4.0                     4.0   \n",
       "3                                    4.0                     4.0   \n",
       "4                                    3.0                     2.0   \n",
       "...                                  ...                     ...   \n",
       "97405                                5.0                     1.0   \n",
       "97406                                1.0                     3.0   \n",
       "97407                                1.0                     1.0   \n",
       "97408                                3.0                     3.0   \n",
       "97409                                4.0                     4.0   \n",
       "\n",
       "       Online boarding  Seat comfort  On-board service  Leg room service  \\\n",
       "0                  3.0           3.0               4.0               2.0   \n",
       "1                  2.0           3.0               2.0               1.0   \n",
       "2                  3.0           3.0               3.0               3.0   \n",
       "3                  4.0           3.0               1.0               1.0   \n",
       "4                  4.0           4.0               4.0               5.0   \n",
       "...                ...           ...               ...               ...   \n",
       "97405              1.0           3.0               5.0               1.0   \n",
       "97406              3.0           1.0               3.0               1.0   \n",
       "97407              4.0           4.0               5.0               5.0   \n",
       "97408              3.0           3.0               5.0               5.0   \n",
       "97409              4.0           5.0               4.0               4.0   \n",
       "\n",
       "       Baggage handling  Checkin service  Cleanliness  Inflight service  \\\n",
       "0                   3.0              3.0          3.0               5.0   \n",
       "1                   0.0              2.0          3.0               1.0   \n",
       "2                   2.0              1.0          3.0               4.0   \n",
       "3                   0.0              3.0          1.0               1.0   \n",
       "4                   2.0              1.0          4.0               4.0   \n",
       "...                 ...              ...          ...               ...   \n",
       "97405               2.0              4.0          4.0               3.0   \n",
       "97406               1.0              1.0          1.0               2.0   \n",
       "97407               4.0              3.0          3.0               5.0   \n",
       "97408               4.0              4.0          3.0               4.0   \n",
       "97409               3.0              5.0          1.0               4.0   \n",
       "\n",
       "       satisfaction  \n",
       "0               0.0  \n",
       "1               0.0  \n",
       "2               0.0  \n",
       "3               0.0  \n",
       "4               0.0  \n",
       "...             ...  \n",
       "97405           0.0  \n",
       "97406           0.0  \n",
       "97407           1.0  \n",
       "97408           0.0  \n",
       "97409           1.0  \n",
       "\n",
       "[97410 rows x 16 columns]"
      ]
     },
     "execution_count": 5,
     "metadata": {},
     "output_type": "execute_result"
    }
   ],
   "source": [
    "trn=pd.read_csv(r\"C:\\Users\\Vineha\\Downloads\\sneha_project\\db\\train_16_cols.csv\")\n",
    "trn"
   ]
  },
  {
   "cell_type": "code",
   "execution_count": 6,
   "id": "31294ea0",
   "metadata": {},
   "outputs": [
    {
     "data": {
      "text/html": [
       "<div>\n",
       "<style scoped>\n",
       "    .dataframe tbody tr th:only-of-type {\n",
       "        vertical-align: middle;\n",
       "    }\n",
       "\n",
       "    .dataframe tbody tr th {\n",
       "        vertical-align: top;\n",
       "    }\n",
       "\n",
       "    .dataframe thead th {\n",
       "        text-align: right;\n",
       "    }\n",
       "</style>\n",
       "<table border=\"1\" class=\"dataframe\">\n",
       "  <thead>\n",
       "    <tr style=\"text-align: right;\">\n",
       "      <th></th>\n",
       "      <th>Gender</th>\n",
       "      <th>Customer Type</th>\n",
       "      <th>Type of Travel</th>\n",
       "      <th>Class</th>\n",
       "      <th>Inflight wifi service</th>\n",
       "      <th>Departure/Arrival time convenient</th>\n",
       "      <th>Ease of Online booking</th>\n",
       "      <th>Online boarding</th>\n",
       "      <th>Seat comfort</th>\n",
       "      <th>On-board service</th>\n",
       "      <th>Leg room service</th>\n",
       "      <th>Baggage handling</th>\n",
       "      <th>Checkin service</th>\n",
       "      <th>Cleanliness</th>\n",
       "      <th>Inflight service</th>\n",
       "      <th>satisfaction</th>\n",
       "    </tr>\n",
       "  </thead>\n",
       "  <tbody>\n",
       "    <tr>\n",
       "      <th>0</th>\n",
       "      <td>0.0</td>\n",
       "      <td>0.0</td>\n",
       "      <td>0.0</td>\n",
       "      <td>0.0</td>\n",
       "      <td>3.0</td>\n",
       "      <td>3.0</td>\n",
       "      <td>1.0</td>\n",
       "      <td>4.0</td>\n",
       "      <td>5.0</td>\n",
       "      <td>4.0</td>\n",
       "      <td>4.0</td>\n",
       "      <td>3.0</td>\n",
       "      <td>5.0</td>\n",
       "      <td>5.0</td>\n",
       "      <td>4.0</td>\n",
       "      <td>1.0</td>\n",
       "    </tr>\n",
       "    <tr>\n",
       "      <th>1</th>\n",
       "      <td>1.0</td>\n",
       "      <td>1.0</td>\n",
       "      <td>0.0</td>\n",
       "      <td>1.0</td>\n",
       "      <td>2.0</td>\n",
       "      <td>2.0</td>\n",
       "      <td>2.0</td>\n",
       "      <td>4.0</td>\n",
       "      <td>4.0</td>\n",
       "      <td>1.0</td>\n",
       "      <td>3.0</td>\n",
       "      <td>2.0</td>\n",
       "      <td>4.0</td>\n",
       "      <td>4.0</td>\n",
       "      <td>3.0</td>\n",
       "      <td>0.0</td>\n",
       "    </tr>\n",
       "    <tr>\n",
       "      <th>2</th>\n",
       "      <td>1.0</td>\n",
       "      <td>1.0</td>\n",
       "      <td>0.0</td>\n",
       "      <td>1.0</td>\n",
       "      <td>2.0</td>\n",
       "      <td>4.0</td>\n",
       "      <td>2.0</td>\n",
       "      <td>2.0</td>\n",
       "      <td>3.0</td>\n",
       "      <td>5.0</td>\n",
       "      <td>1.0</td>\n",
       "      <td>2.0</td>\n",
       "      <td>2.0</td>\n",
       "      <td>3.0</td>\n",
       "      <td>5.0</td>\n",
       "      <td>0.0</td>\n",
       "    </tr>\n",
       "    <tr>\n",
       "      <th>3</th>\n",
       "      <td>1.0</td>\n",
       "      <td>0.0</td>\n",
       "      <td>0.0</td>\n",
       "      <td>0.0</td>\n",
       "      <td>3.0</td>\n",
       "      <td>3.0</td>\n",
       "      <td>3.0</td>\n",
       "      <td>2.0</td>\n",
       "      <td>3.0</td>\n",
       "      <td>3.0</td>\n",
       "      <td>3.0</td>\n",
       "      <td>2.0</td>\n",
       "      <td>3.0</td>\n",
       "      <td>1.0</td>\n",
       "      <td>3.0</td>\n",
       "      <td>0.0</td>\n",
       "    </tr>\n",
       "    <tr>\n",
       "      <th>4</th>\n",
       "      <td>1.0</td>\n",
       "      <td>0.0</td>\n",
       "      <td>1.0</td>\n",
       "      <td>1.0</td>\n",
       "      <td>1.0</td>\n",
       "      <td>5.0</td>\n",
       "      <td>1.0</td>\n",
       "      <td>1.0</td>\n",
       "      <td>1.0</td>\n",
       "      <td>2.0</td>\n",
       "      <td>5.0</td>\n",
       "      <td>1.0</td>\n",
       "      <td>3.0</td>\n",
       "      <td>1.0</td>\n",
       "      <td>4.0</td>\n",
       "      <td>0.0</td>\n",
       "    </tr>\n",
       "    <tr>\n",
       "      <th>...</th>\n",
       "      <td>...</td>\n",
       "      <td>...</td>\n",
       "      <td>...</td>\n",
       "      <td>...</td>\n",
       "      <td>...</td>\n",
       "      <td>...</td>\n",
       "      <td>...</td>\n",
       "      <td>...</td>\n",
       "      <td>...</td>\n",
       "      <td>...</td>\n",
       "      <td>...</td>\n",
       "      <td>...</td>\n",
       "      <td>...</td>\n",
       "      <td>...</td>\n",
       "      <td>...</td>\n",
       "      <td>...</td>\n",
       "    </tr>\n",
       "    <tr>\n",
       "      <th>32465</th>\n",
       "      <td>0.0</td>\n",
       "      <td>0.0</td>\n",
       "      <td>1.0</td>\n",
       "      <td>1.0</td>\n",
       "      <td>4.0</td>\n",
       "      <td>4.0</td>\n",
       "      <td>4.0</td>\n",
       "      <td>3.0</td>\n",
       "      <td>4.0</td>\n",
       "      <td>1.0</td>\n",
       "      <td>4.0</td>\n",
       "      <td>0.0</td>\n",
       "      <td>5.0</td>\n",
       "      <td>4.0</td>\n",
       "      <td>1.0</td>\n",
       "      <td>0.0</td>\n",
       "    </tr>\n",
       "    <tr>\n",
       "      <th>32466</th>\n",
       "      <td>1.0</td>\n",
       "      <td>1.0</td>\n",
       "      <td>0.0</td>\n",
       "      <td>0.0</td>\n",
       "      <td>2.0</td>\n",
       "      <td>3.0</td>\n",
       "      <td>3.0</td>\n",
       "      <td>2.0</td>\n",
       "      <td>5.0</td>\n",
       "      <td>4.0</td>\n",
       "      <td>1.0</td>\n",
       "      <td>3.0</td>\n",
       "      <td>4.0</td>\n",
       "      <td>5.0</td>\n",
       "      <td>4.0</td>\n",
       "      <td>0.0</td>\n",
       "    </tr>\n",
       "    <tr>\n",
       "      <th>32467</th>\n",
       "      <td>1.0</td>\n",
       "      <td>0.0</td>\n",
       "      <td>1.0</td>\n",
       "      <td>0.0</td>\n",
       "      <td>2.0</td>\n",
       "      <td>4.0</td>\n",
       "      <td>2.0</td>\n",
       "      <td>2.0</td>\n",
       "      <td>3.0</td>\n",
       "      <td>5.0</td>\n",
       "      <td>5.0</td>\n",
       "      <td>3.0</td>\n",
       "      <td>4.0</td>\n",
       "      <td>3.0</td>\n",
       "      <td>4.0</td>\n",
       "      <td>0.0</td>\n",
       "    </tr>\n",
       "    <tr>\n",
       "      <th>32468</th>\n",
       "      <td>0.0</td>\n",
       "      <td>0.0</td>\n",
       "      <td>1.0</td>\n",
       "      <td>1.0</td>\n",
       "      <td>5.0</td>\n",
       "      <td>5.0</td>\n",
       "      <td>5.0</td>\n",
       "      <td>5.0</td>\n",
       "      <td>5.0</td>\n",
       "      <td>1.0</td>\n",
       "      <td>1.0</td>\n",
       "      <td>4.0</td>\n",
       "      <td>2.0</td>\n",
       "      <td>5.0</td>\n",
       "      <td>2.0</td>\n",
       "      <td>1.0</td>\n",
       "    </tr>\n",
       "    <tr>\n",
       "      <th>32469</th>\n",
       "      <td>1.0</td>\n",
       "      <td>1.0</td>\n",
       "      <td>0.0</td>\n",
       "      <td>1.0</td>\n",
       "      <td>1.0</td>\n",
       "      <td>5.0</td>\n",
       "      <td>2.0</td>\n",
       "      <td>2.0</td>\n",
       "      <td>4.0</td>\n",
       "      <td>4.0</td>\n",
       "      <td>5.0</td>\n",
       "      <td>4.0</td>\n",
       "      <td>3.0</td>\n",
       "      <td>4.0</td>\n",
       "      <td>5.0</td>\n",
       "      <td>0.0</td>\n",
       "    </tr>\n",
       "  </tbody>\n",
       "</table>\n",
       "<p>32470 rows × 16 columns</p>\n",
       "</div>"
      ],
      "text/plain": [
       "       Gender  Customer Type  Type of Travel  Class  Inflight wifi service  \\\n",
       "0         0.0            0.0             0.0    0.0                    3.0   \n",
       "1         1.0            1.0             0.0    1.0                    2.0   \n",
       "2         1.0            1.0             0.0    1.0                    2.0   \n",
       "3         1.0            0.0             0.0    0.0                    3.0   \n",
       "4         1.0            0.0             1.0    1.0                    1.0   \n",
       "...       ...            ...             ...    ...                    ...   \n",
       "32465     0.0            0.0             1.0    1.0                    4.0   \n",
       "32466     1.0            1.0             0.0    0.0                    2.0   \n",
       "32467     1.0            0.0             1.0    0.0                    2.0   \n",
       "32468     0.0            0.0             1.0    1.0                    5.0   \n",
       "32469     1.0            1.0             0.0    1.0                    1.0   \n",
       "\n",
       "       Departure/Arrival time convenient  Ease of Online booking  \\\n",
       "0                                    3.0                     1.0   \n",
       "1                                    2.0                     2.0   \n",
       "2                                    4.0                     2.0   \n",
       "3                                    3.0                     3.0   \n",
       "4                                    5.0                     1.0   \n",
       "...                                  ...                     ...   \n",
       "32465                                4.0                     4.0   \n",
       "32466                                3.0                     3.0   \n",
       "32467                                4.0                     2.0   \n",
       "32468                                5.0                     5.0   \n",
       "32469                                5.0                     2.0   \n",
       "\n",
       "       Online boarding  Seat comfort  On-board service  Leg room service  \\\n",
       "0                  4.0           5.0               4.0               4.0   \n",
       "1                  4.0           4.0               1.0               3.0   \n",
       "2                  2.0           3.0               5.0               1.0   \n",
       "3                  2.0           3.0               3.0               3.0   \n",
       "4                  1.0           1.0               2.0               5.0   \n",
       "...                ...           ...               ...               ...   \n",
       "32465              3.0           4.0               1.0               4.0   \n",
       "32466              2.0           5.0               4.0               1.0   \n",
       "32467              2.0           3.0               5.0               5.0   \n",
       "32468              5.0           5.0               1.0               1.0   \n",
       "32469              2.0           4.0               4.0               5.0   \n",
       "\n",
       "       Baggage handling  Checkin service  Cleanliness  Inflight service  \\\n",
       "0                   3.0              5.0          5.0               4.0   \n",
       "1                   2.0              4.0          4.0               3.0   \n",
       "2                   2.0              2.0          3.0               5.0   \n",
       "3                   2.0              3.0          1.0               3.0   \n",
       "4                   1.0              3.0          1.0               4.0   \n",
       "...                 ...              ...          ...               ...   \n",
       "32465               0.0              5.0          4.0               1.0   \n",
       "32466               3.0              4.0          5.0               4.0   \n",
       "32467               3.0              4.0          3.0               4.0   \n",
       "32468               4.0              2.0          5.0               2.0   \n",
       "32469               4.0              3.0          4.0               5.0   \n",
       "\n",
       "       satisfaction  \n",
       "0               1.0  \n",
       "1               0.0  \n",
       "2               0.0  \n",
       "3               0.0  \n",
       "4               0.0  \n",
       "...             ...  \n",
       "32465           0.0  \n",
       "32466           0.0  \n",
       "32467           0.0  \n",
       "32468           1.0  \n",
       "32469           0.0  \n",
       "\n",
       "[32470 rows x 16 columns]"
      ]
     },
     "execution_count": 6,
     "metadata": {},
     "output_type": "execute_result"
    }
   ],
   "source": [
    "tst=pd.read_csv(r\"C:\\Users\\Vineha\\Downloads\\sneha_project\\db\\test_16_cols.csv\")\n",
    "tst"
   ]
  },
  {
   "cell_type": "code",
   "execution_count": 7,
   "id": "345c88d7",
   "metadata": {
    "scrolled": false
   },
   "outputs": [
    {
     "data": {
      "text/plain": [
       "<Axes: >"
      ]
     },
     "execution_count": 7,
     "metadata": {},
     "output_type": "execute_result"
    },
    {
     "data": {
      "image/png": "[encoded data removed]",
      "text/plain": [
       "<Figure size 640x480 with 1 Axes>"
      ]
     },
     "metadata": {},
     "output_type": "display_data"
    }
   ],
   "source": [
    "trn.plot(kind='box')"
   ]
  },
  {
   "cell_type": "code",
   "execution_count": 8,
   "id": "ad411b93",
   "metadata": {},
   "outputs": [],
   "source": [
    "num=trn.select_dtypes(include=np.number)\n",
    "cat=trn.select_dtypes(exclude=np.number)"
   ]
  },
  {
   "cell_type": "code",
   "execution_count": 9,
   "id": "1c00727e",
   "metadata": {},
   "outputs": [],
   "source": [
    "ss=StandardScaler()\n",
    "scaled_trn=pd.DataFrame(ss.fit_transform(num),columns=[i    for i in num ])\n",
    "trn1=scaled_trn"
   ]
  },
  {
   "cell_type": "code",
   "execution_count": 10,
   "id": "35703c68",
   "metadata": {
    "scrolled": true
   },
   "outputs": [
    {
     "data": {
      "text/plain": [
       "Gender                               0.030350\n",
       "Customer Type                        1.633129\n",
       "Type of Travel                       0.821963\n",
       "Class                                0.547647\n",
       "Inflight wifi service                0.040180\n",
       "Departure/Arrival time convenient   -0.334632\n",
       "Ease of Online booking              -0.019157\n",
       "Online boarding                     -0.459328\n",
       "Seat comfort                        -0.486273\n",
       "On-board service                    -0.420098\n",
       "Leg room service                    -0.350784\n",
       "Baggage handling                    -0.676651\n",
       "Checkin service                     -0.367909\n",
       "Cleanliness                         -0.301372\n",
       "Inflight service                    -0.691241\n",
       "satisfaction                         0.265868\n",
       "dtype: float64"
      ]
     },
     "execution_count": 10,
     "metadata": {},
     "output_type": "execute_result"
    }
   ],
   "source": [
    "scaled_trn.skew()"
   ]
  },
  {
   "cell_type": "code",
   "execution_count": 11,
   "id": "f60c89fd",
   "metadata": {
    "scrolled": true
   },
   "outputs": [
    {
     "data": {
      "text/html": [
       "<div>\n",
       "<style scoped>\n",
       "    .dataframe tbody tr th:only-of-type {\n",
       "        vertical-align: middle;\n",
       "    }\n",
       "\n",
       "    .dataframe tbody tr th {\n",
       "        vertical-align: top;\n",
       "    }\n",
       "\n",
       "    .dataframe thead th {\n",
       "        text-align: right;\n",
       "    }\n",
       "</style>\n",
       "<table border=\"1\" class=\"dataframe\">\n",
       "  <thead>\n",
       "    <tr style=\"text-align: right;\">\n",
       "      <th></th>\n",
       "      <th>Gender</th>\n",
       "      <th>Customer Type</th>\n",
       "      <th>Type of Travel</th>\n",
       "      <th>Class</th>\n",
       "      <th>Inflight wifi service</th>\n",
       "      <th>Departure/Arrival time convenient</th>\n",
       "      <th>Ease of Online booking</th>\n",
       "      <th>Online boarding</th>\n",
       "      <th>Seat comfort</th>\n",
       "      <th>On-board service</th>\n",
       "      <th>Leg room service</th>\n",
       "      <th>Baggage handling</th>\n",
       "      <th>Checkin service</th>\n",
       "      <th>Cleanliness</th>\n",
       "      <th>Inflight service</th>\n",
       "      <th>satisfaction</th>\n",
       "    </tr>\n",
       "  </thead>\n",
       "  <tbody>\n",
       "    <tr>\n",
       "      <th>0</th>\n",
       "      <td>1.01529</td>\n",
       "      <td>-0.474478</td>\n",
       "      <td>1.492132</td>\n",
       "      <td>0.650017</td>\n",
       "      <td>0.203213</td>\n",
       "      <td>1.271660</td>\n",
       "      <td>0.175385</td>\n",
       "      <td>-0.187266</td>\n",
       "      <td>-0.336261</td>\n",
       "      <td>0.480922</td>\n",
       "      <td>-1.028514</td>\n",
       "      <td>0.312252</td>\n",
       "      <td>-0.243608</td>\n",
       "      <td>-0.218797</td>\n",
       "      <td>1.155170</td>\n",
       "      <td>-0.875865</td>\n",
       "    </tr>\n",
       "    <tr>\n",
       "      <th>1</th>\n",
       "      <td>1.01529</td>\n",
       "      <td>2.107581</td>\n",
       "      <td>-0.670182</td>\n",
       "      <td>0.650017</td>\n",
       "      <td>0.203213</td>\n",
       "      <td>-0.694860</td>\n",
       "      <td>-0.538153</td>\n",
       "      <td>-0.927289</td>\n",
       "      <td>-0.336261</td>\n",
       "      <td>-1.073147</td>\n",
       "      <td>-1.788916</td>\n",
       "      <td>-2.230789</td>\n",
       "      <td>-1.034101</td>\n",
       "      <td>-0.218797</td>\n",
       "      <td>-2.246075</td>\n",
       "      <td>-0.875865</td>\n",
       "    </tr>\n",
       "    <tr>\n",
       "      <th>2</th>\n",
       "      <td>-0.98494</td>\n",
       "      <td>-0.474478</td>\n",
       "      <td>-0.670182</td>\n",
       "      <td>-0.956228</td>\n",
       "      <td>0.203213</td>\n",
       "      <td>0.616153</td>\n",
       "      <td>0.888923</td>\n",
       "      <td>-0.187266</td>\n",
       "      <td>-0.336261</td>\n",
       "      <td>-0.296112</td>\n",
       "      <td>-0.268112</td>\n",
       "      <td>-0.535428</td>\n",
       "      <td>-1.824594</td>\n",
       "      <td>-0.218797</td>\n",
       "      <td>0.304859</td>\n",
       "      <td>-0.875865</td>\n",
       "    </tr>\n",
       "    <tr>\n",
       "      <th>3</th>\n",
       "      <td>-0.98494</td>\n",
       "      <td>-0.474478</td>\n",
       "      <td>-0.670182</td>\n",
       "      <td>-0.956228</td>\n",
       "      <td>-1.300794</td>\n",
       "      <td>0.616153</td>\n",
       "      <td>0.888923</td>\n",
       "      <td>0.552757</td>\n",
       "      <td>-0.336261</td>\n",
       "      <td>-1.850181</td>\n",
       "      <td>-1.788916</td>\n",
       "      <td>-2.230789</td>\n",
       "      <td>-0.243608</td>\n",
       "      <td>-1.743171</td>\n",
       "      <td>-2.246075</td>\n",
       "      <td>-0.875865</td>\n",
       "    </tr>\n",
       "    <tr>\n",
       "      <th>4</th>\n",
       "      <td>-0.98494</td>\n",
       "      <td>-0.474478</td>\n",
       "      <td>-0.670182</td>\n",
       "      <td>0.650017</td>\n",
       "      <td>0.955217</td>\n",
       "      <td>-0.039353</td>\n",
       "      <td>-0.538153</td>\n",
       "      <td>0.552757</td>\n",
       "      <td>0.422963</td>\n",
       "      <td>0.480922</td>\n",
       "      <td>1.252692</td>\n",
       "      <td>-0.535428</td>\n",
       "      <td>-1.824594</td>\n",
       "      <td>0.543390</td>\n",
       "      <td>0.304859</td>\n",
       "      <td>-0.875865</td>\n",
       "    </tr>\n",
       "    <tr>\n",
       "      <th>...</th>\n",
       "      <td>...</td>\n",
       "      <td>...</td>\n",
       "      <td>...</td>\n",
       "      <td>...</td>\n",
       "      <td>...</td>\n",
       "      <td>...</td>\n",
       "      <td>...</td>\n",
       "      <td>...</td>\n",
       "      <td>...</td>\n",
       "      <td>...</td>\n",
       "      <td>...</td>\n",
       "      <td>...</td>\n",
       "      <td>...</td>\n",
       "      <td>...</td>\n",
       "      <td>...</td>\n",
       "      <td>...</td>\n",
       "    </tr>\n",
       "    <tr>\n",
       "      <th>97405</th>\n",
       "      <td>1.01529</td>\n",
       "      <td>2.107581</td>\n",
       "      <td>-0.670182</td>\n",
       "      <td>0.650017</td>\n",
       "      <td>-1.300794</td>\n",
       "      <td>1.271660</td>\n",
       "      <td>-1.251691</td>\n",
       "      <td>-1.667312</td>\n",
       "      <td>-0.336261</td>\n",
       "      <td>1.257957</td>\n",
       "      <td>-1.788916</td>\n",
       "      <td>-0.535428</td>\n",
       "      <td>0.546886</td>\n",
       "      <td>0.543390</td>\n",
       "      <td>-0.545453</td>\n",
       "      <td>-0.875865</td>\n",
       "    </tr>\n",
       "    <tr>\n",
       "      <th>97406</th>\n",
       "      <td>-0.98494</td>\n",
       "      <td>-0.474478</td>\n",
       "      <td>1.492132</td>\n",
       "      <td>2.256263</td>\n",
       "      <td>0.203213</td>\n",
       "      <td>-1.350366</td>\n",
       "      <td>0.175385</td>\n",
       "      <td>-0.187266</td>\n",
       "      <td>-1.854710</td>\n",
       "      <td>-0.296112</td>\n",
       "      <td>-1.788916</td>\n",
       "      <td>-1.383108</td>\n",
       "      <td>-1.824594</td>\n",
       "      <td>-1.743171</td>\n",
       "      <td>-1.395764</td>\n",
       "      <td>-0.875865</td>\n",
       "    </tr>\n",
       "    <tr>\n",
       "      <th>97407</th>\n",
       "      <td>1.01529</td>\n",
       "      <td>-0.474478</td>\n",
       "      <td>-0.670182</td>\n",
       "      <td>-0.956228</td>\n",
       "      <td>-1.300794</td>\n",
       "      <td>-1.350366</td>\n",
       "      <td>-1.251691</td>\n",
       "      <td>0.552757</td>\n",
       "      <td>0.422963</td>\n",
       "      <td>1.257957</td>\n",
       "      <td>1.252692</td>\n",
       "      <td>1.159932</td>\n",
       "      <td>-0.243608</td>\n",
       "      <td>-0.218797</td>\n",
       "      <td>1.155170</td>\n",
       "      <td>1.141729</td>\n",
       "    </tr>\n",
       "    <tr>\n",
       "      <th>97408</th>\n",
       "      <td>-0.98494</td>\n",
       "      <td>2.107581</td>\n",
       "      <td>-0.670182</td>\n",
       "      <td>-0.956228</td>\n",
       "      <td>0.203213</td>\n",
       "      <td>-0.039353</td>\n",
       "      <td>0.175385</td>\n",
       "      <td>-0.187266</td>\n",
       "      <td>-0.336261</td>\n",
       "      <td>1.257957</td>\n",
       "      <td>1.252692</td>\n",
       "      <td>1.159932</td>\n",
       "      <td>0.546886</td>\n",
       "      <td>-0.218797</td>\n",
       "      <td>0.304859</td>\n",
       "      <td>-0.875865</td>\n",
       "    </tr>\n",
       "    <tr>\n",
       "      <th>97409</th>\n",
       "      <td>1.01529</td>\n",
       "      <td>-0.474478</td>\n",
       "      <td>-0.670182</td>\n",
       "      <td>-0.956228</td>\n",
       "      <td>0.955217</td>\n",
       "      <td>0.616153</td>\n",
       "      <td>0.888923</td>\n",
       "      <td>0.552757</td>\n",
       "      <td>1.182187</td>\n",
       "      <td>0.480922</td>\n",
       "      <td>0.492290</td>\n",
       "      <td>0.312252</td>\n",
       "      <td>1.337379</td>\n",
       "      <td>-1.743171</td>\n",
       "      <td>0.304859</td>\n",
       "      <td>1.141729</td>\n",
       "    </tr>\n",
       "  </tbody>\n",
       "</table>\n",
       "<p>97410 rows × 16 columns</p>\n",
       "</div>"
      ],
      "text/plain": [
       "        Gender  Customer Type  Type of Travel     Class  \\\n",
       "0      1.01529      -0.474478        1.492132  0.650017   \n",
       "1      1.01529       2.107581       -0.670182  0.650017   \n",
       "2     -0.98494      -0.474478       -0.670182 -0.956228   \n",
       "3     -0.98494      -0.474478       -0.670182 -0.956228   \n",
       "4     -0.98494      -0.474478       -0.670182  0.650017   \n",
       "...        ...            ...             ...       ...   \n",
       "97405  1.01529       2.107581       -0.670182  0.650017   \n",
       "97406 -0.98494      -0.474478        1.492132  2.256263   \n",
       "97407  1.01529      -0.474478       -0.670182 -0.956228   \n",
       "97408 -0.98494       2.107581       -0.670182 -0.956228   \n",
       "97409  1.01529      -0.474478       -0.670182 -0.956228   \n",
       "\n",
       "       Inflight wifi service  Departure/Arrival time convenient  \\\n",
       "0                   0.203213                           1.271660   \n",
       "1                   0.203213                          -0.694860   \n",
       "2                   0.203213                           0.616153   \n",
       "3                  -1.300794                           0.616153   \n",
       "4                   0.955217                          -0.039353   \n",
       "...                      ...                                ...   \n",
       "97405              -1.300794                           1.271660   \n",
       "97406               0.203213                          -1.350366   \n",
       "97407              -1.300794                          -1.350366   \n",
       "97408               0.203213                          -0.039353   \n",
       "97409               0.955217                           0.616153   \n",
       "\n",
       "       Ease of Online booking  Online boarding  Seat comfort  \\\n",
       "0                    0.175385        -0.187266     -0.336261   \n",
       "1                   -0.538153        -0.927289     -0.336261   \n",
       "2                    0.888923        -0.187266     -0.336261   \n",
       "3                    0.888923         0.552757     -0.336261   \n",
       "4                   -0.538153         0.552757      0.422963   \n",
       "...                       ...              ...           ...   \n",
       "97405               -1.251691        -1.667312     -0.336261   \n",
       "97406                0.175385        -0.187266     -1.854710   \n",
       "97407               -1.251691         0.552757      0.422963   \n",
       "97408                0.175385        -0.187266     -0.336261   \n",
       "97409                0.888923         0.552757      1.182187   \n",
       "\n",
       "       On-board service  Leg room service  Baggage handling  Checkin service  \\\n",
       "0              0.480922         -1.028514          0.312252        -0.243608   \n",
       "1             -1.073147         -1.788916         -2.230789        -1.034101   \n",
       "2             -0.296112         -0.268112         -0.535428        -1.824594   \n",
       "3             -1.850181         -1.788916         -2.230789        -0.243608   \n",
       "4              0.480922          1.252692         -0.535428        -1.824594   \n",
       "...                 ...               ...               ...              ...   \n",
       "97405          1.257957         -1.788916         -0.535428         0.546886   \n",
       "97406         -0.296112         -1.788916         -1.383108        -1.824594   \n",
       "97407          1.257957          1.252692          1.159932        -0.243608   \n",
       "97408          1.257957          1.252692          1.159932         0.546886   \n",
       "97409          0.480922          0.492290          0.312252         1.337379   \n",
       "\n",
       "       Cleanliness  Inflight service  satisfaction  \n",
       "0        -0.218797          1.155170     -0.875865  \n",
       "1        -0.218797         -2.246075     -0.875865  \n",
       "2        -0.218797          0.304859     -0.875865  \n",
       "3        -1.743171         -2.246075     -0.875865  \n",
       "4         0.543390          0.304859     -0.875865  \n",
       "...            ...               ...           ...  \n",
       "97405     0.543390         -0.545453     -0.875865  \n",
       "97406    -1.743171         -1.395764     -0.875865  \n",
       "97407    -0.218797          1.155170      1.141729  \n",
       "97408    -0.218797          0.304859     -0.875865  \n",
       "97409    -1.743171          0.304859      1.141729  \n",
       "\n",
       "[97410 rows x 16 columns]"
      ]
     },
     "execution_count": 11,
     "metadata": {},
     "output_type": "execute_result"
    }
   ],
   "source": [
    "trn1"
   ]
  },
  {
   "cell_type": "code",
   "execution_count": 12,
   "id": "0aa7ae85",
   "metadata": {},
   "outputs": [],
   "source": [
    "x=trn.drop('satisfaction',axis=1)\n",
    "y=trn['satisfaction']\n"
   ]
  },
  {
   "cell_type": "code",
   "execution_count": 13,
   "id": "8c9c3340",
   "metadata": {},
   "outputs": [],
   "source": [
    "ytrain=trn['satisfaction']"
   ]
  },
  {
   "cell_type": "code",
   "execution_count": 14,
   "id": "19581f0e",
   "metadata": {},
   "outputs": [],
   "source": [
    "xtest=tst.drop('satisfaction',axis=1)\n",
    "ytest=tst['satisfaction']"
   ]
  },
  {
   "cell_type": "code",
   "execution_count": 15,
   "id": "bae77b1d",
   "metadata": {},
   "outputs": [],
   "source": [
    "ss=StandardScaler()\n",
    "scaled_trn=pd.DataFrame(ss.fit_transform(x),columns=[i    for i in x.columns ])\n",
    "xtrain_scaled=scaled_trn"
   ]
  },
  {
   "cell_type": "code",
   "execution_count": 16,
   "id": "b7454efd",
   "metadata": {},
   "outputs": [
    {
     "data": {
      "text/html": [
       "<div>\n",
       "<style scoped>\n",
       "    .dataframe tbody tr th:only-of-type {\n",
       "        vertical-align: middle;\n",
       "    }\n",
       "\n",
       "    .dataframe tbody tr th {\n",
       "        vertical-align: top;\n",
       "    }\n",
       "\n",
       "    .dataframe thead th {\n",
       "        text-align: right;\n",
       "    }\n",
       "</style>\n",
       "<table border=\"1\" class=\"dataframe\">\n",
       "  <thead>\n",
       "    <tr style=\"text-align: right;\">\n",
       "      <th></th>\n",
       "      <th>Gender</th>\n",
       "      <th>Customer Type</th>\n",
       "      <th>Type of Travel</th>\n",
       "      <th>Class</th>\n",
       "      <th>Inflight wifi service</th>\n",
       "      <th>Departure/Arrival time convenient</th>\n",
       "      <th>Ease of Online booking</th>\n",
       "      <th>Online boarding</th>\n",
       "      <th>Seat comfort</th>\n",
       "      <th>On-board service</th>\n",
       "      <th>Leg room service</th>\n",
       "      <th>Baggage handling</th>\n",
       "      <th>Checkin service</th>\n",
       "      <th>Cleanliness</th>\n",
       "      <th>Inflight service</th>\n",
       "    </tr>\n",
       "  </thead>\n",
       "  <tbody>\n",
       "    <tr>\n",
       "      <th>0</th>\n",
       "      <td>1.01529</td>\n",
       "      <td>-0.474478</td>\n",
       "      <td>1.492132</td>\n",
       "      <td>0.650017</td>\n",
       "      <td>0.203213</td>\n",
       "      <td>1.271660</td>\n",
       "      <td>0.175385</td>\n",
       "      <td>-0.187266</td>\n",
       "      <td>-0.336261</td>\n",
       "      <td>0.480922</td>\n",
       "      <td>-1.028514</td>\n",
       "      <td>0.312252</td>\n",
       "      <td>-0.243608</td>\n",
       "      <td>-0.218797</td>\n",
       "      <td>1.155170</td>\n",
       "    </tr>\n",
       "    <tr>\n",
       "      <th>1</th>\n",
       "      <td>1.01529</td>\n",
       "      <td>2.107581</td>\n",
       "      <td>-0.670182</td>\n",
       "      <td>0.650017</td>\n",
       "      <td>0.203213</td>\n",
       "      <td>-0.694860</td>\n",
       "      <td>-0.538153</td>\n",
       "      <td>-0.927289</td>\n",
       "      <td>-0.336261</td>\n",
       "      <td>-1.073147</td>\n",
       "      <td>-1.788916</td>\n",
       "      <td>-2.230789</td>\n",
       "      <td>-1.034101</td>\n",
       "      <td>-0.218797</td>\n",
       "      <td>-2.246075</td>\n",
       "    </tr>\n",
       "    <tr>\n",
       "      <th>2</th>\n",
       "      <td>-0.98494</td>\n",
       "      <td>-0.474478</td>\n",
       "      <td>-0.670182</td>\n",
       "      <td>-0.956228</td>\n",
       "      <td>0.203213</td>\n",
       "      <td>0.616153</td>\n",
       "      <td>0.888923</td>\n",
       "      <td>-0.187266</td>\n",
       "      <td>-0.336261</td>\n",
       "      <td>-0.296112</td>\n",
       "      <td>-0.268112</td>\n",
       "      <td>-0.535428</td>\n",
       "      <td>-1.824594</td>\n",
       "      <td>-0.218797</td>\n",
       "      <td>0.304859</td>\n",
       "    </tr>\n",
       "    <tr>\n",
       "      <th>3</th>\n",
       "      <td>-0.98494</td>\n",
       "      <td>-0.474478</td>\n",
       "      <td>-0.670182</td>\n",
       "      <td>-0.956228</td>\n",
       "      <td>-1.300794</td>\n",
       "      <td>0.616153</td>\n",
       "      <td>0.888923</td>\n",
       "      <td>0.552757</td>\n",
       "      <td>-0.336261</td>\n",
       "      <td>-1.850181</td>\n",
       "      <td>-1.788916</td>\n",
       "      <td>-2.230789</td>\n",
       "      <td>-0.243608</td>\n",
       "      <td>-1.743171</td>\n",
       "      <td>-2.246075</td>\n",
       "    </tr>\n",
       "    <tr>\n",
       "      <th>4</th>\n",
       "      <td>-0.98494</td>\n",
       "      <td>-0.474478</td>\n",
       "      <td>-0.670182</td>\n",
       "      <td>0.650017</td>\n",
       "      <td>0.955217</td>\n",
       "      <td>-0.039353</td>\n",
       "      <td>-0.538153</td>\n",
       "      <td>0.552757</td>\n",
       "      <td>0.422963</td>\n",
       "      <td>0.480922</td>\n",
       "      <td>1.252692</td>\n",
       "      <td>-0.535428</td>\n",
       "      <td>-1.824594</td>\n",
       "      <td>0.543390</td>\n",
       "      <td>0.304859</td>\n",
       "    </tr>\n",
       "    <tr>\n",
       "      <th>...</th>\n",
       "      <td>...</td>\n",
       "      <td>...</td>\n",
       "      <td>...</td>\n",
       "      <td>...</td>\n",
       "      <td>...</td>\n",
       "      <td>...</td>\n",
       "      <td>...</td>\n",
       "      <td>...</td>\n",
       "      <td>...</td>\n",
       "      <td>...</td>\n",
       "      <td>...</td>\n",
       "      <td>...</td>\n",
       "      <td>...</td>\n",
       "      <td>...</td>\n",
       "      <td>...</td>\n",
       "    </tr>\n",
       "    <tr>\n",
       "      <th>97405</th>\n",
       "      <td>1.01529</td>\n",
       "      <td>2.107581</td>\n",
       "      <td>-0.670182</td>\n",
       "      <td>0.650017</td>\n",
       "      <td>-1.300794</td>\n",
       "      <td>1.271660</td>\n",
       "      <td>-1.251691</td>\n",
       "      <td>-1.667312</td>\n",
       "      <td>-0.336261</td>\n",
       "      <td>1.257957</td>\n",
       "      <td>-1.788916</td>\n",
       "      <td>-0.535428</td>\n",
       "      <td>0.546886</td>\n",
       "      <td>0.543390</td>\n",
       "      <td>-0.545453</td>\n",
       "    </tr>\n",
       "    <tr>\n",
       "      <th>97406</th>\n",
       "      <td>-0.98494</td>\n",
       "      <td>-0.474478</td>\n",
       "      <td>1.492132</td>\n",
       "      <td>2.256263</td>\n",
       "      <td>0.203213</td>\n",
       "      <td>-1.350366</td>\n",
       "      <td>0.175385</td>\n",
       "      <td>-0.187266</td>\n",
       "      <td>-1.854710</td>\n",
       "      <td>-0.296112</td>\n",
       "      <td>-1.788916</td>\n",
       "      <td>-1.383108</td>\n",
       "      <td>-1.824594</td>\n",
       "      <td>-1.743171</td>\n",
       "      <td>-1.395764</td>\n",
       "    </tr>\n",
       "    <tr>\n",
       "      <th>97407</th>\n",
       "      <td>1.01529</td>\n",
       "      <td>-0.474478</td>\n",
       "      <td>-0.670182</td>\n",
       "      <td>-0.956228</td>\n",
       "      <td>-1.300794</td>\n",
       "      <td>-1.350366</td>\n",
       "      <td>-1.251691</td>\n",
       "      <td>0.552757</td>\n",
       "      <td>0.422963</td>\n",
       "      <td>1.257957</td>\n",
       "      <td>1.252692</td>\n",
       "      <td>1.159932</td>\n",
       "      <td>-0.243608</td>\n",
       "      <td>-0.218797</td>\n",
       "      <td>1.155170</td>\n",
       "    </tr>\n",
       "    <tr>\n",
       "      <th>97408</th>\n",
       "      <td>-0.98494</td>\n",
       "      <td>2.107581</td>\n",
       "      <td>-0.670182</td>\n",
       "      <td>-0.956228</td>\n",
       "      <td>0.203213</td>\n",
       "      <td>-0.039353</td>\n",
       "      <td>0.175385</td>\n",
       "      <td>-0.187266</td>\n",
       "      <td>-0.336261</td>\n",
       "      <td>1.257957</td>\n",
       "      <td>1.252692</td>\n",
       "      <td>1.159932</td>\n",
       "      <td>0.546886</td>\n",
       "      <td>-0.218797</td>\n",
       "      <td>0.304859</td>\n",
       "    </tr>\n",
       "    <tr>\n",
       "      <th>97409</th>\n",
       "      <td>1.01529</td>\n",
       "      <td>-0.474478</td>\n",
       "      <td>-0.670182</td>\n",
       "      <td>-0.956228</td>\n",
       "      <td>0.955217</td>\n",
       "      <td>0.616153</td>\n",
       "      <td>0.888923</td>\n",
       "      <td>0.552757</td>\n",
       "      <td>1.182187</td>\n",
       "      <td>0.480922</td>\n",
       "      <td>0.492290</td>\n",
       "      <td>0.312252</td>\n",
       "      <td>1.337379</td>\n",
       "      <td>-1.743171</td>\n",
       "      <td>0.304859</td>\n",
       "    </tr>\n",
       "  </tbody>\n",
       "</table>\n",
       "<p>97410 rows × 15 columns</p>\n",
       "</div>"
      ],
      "text/plain": [
       "        Gender  Customer Type  Type of Travel     Class  \\\n",
       "0      1.01529      -0.474478        1.492132  0.650017   \n",
       "1      1.01529       2.107581       -0.670182  0.650017   \n",
       "2     -0.98494      -0.474478       -0.670182 -0.956228   \n",
       "3     -0.98494      -0.474478       -0.670182 -0.956228   \n",
       "4     -0.98494      -0.474478       -0.670182  0.650017   \n",
       "...        ...            ...             ...       ...   \n",
       "97405  1.01529       2.107581       -0.670182  0.650017   \n",
       "97406 -0.98494      -0.474478        1.492132  2.256263   \n",
       "97407  1.01529      -0.474478       -0.670182 -0.956228   \n",
       "97408 -0.98494       2.107581       -0.670182 -0.956228   \n",
       "97409  1.01529      -0.474478       -0.670182 -0.956228   \n",
       "\n",
       "       Inflight wifi service  Departure/Arrival time convenient  \\\n",
       "0                   0.203213                           1.271660   \n",
       "1                   0.203213                          -0.694860   \n",
       "2                   0.203213                           0.616153   \n",
       "3                  -1.300794                           0.616153   \n",
       "4                   0.955217                          -0.039353   \n",
       "...                      ...                                ...   \n",
       "97405              -1.300794                           1.271660   \n",
       "97406               0.203213                          -1.350366   \n",
       "97407              -1.300794                          -1.350366   \n",
       "97408               0.203213                          -0.039353   \n",
       "97409               0.955217                           0.616153   \n",
       "\n",
       "       Ease of Online booking  Online boarding  Seat comfort  \\\n",
       "0                    0.175385        -0.187266     -0.336261   \n",
       "1                   -0.538153        -0.927289     -0.336261   \n",
       "2                    0.888923        -0.187266     -0.336261   \n",
       "3                    0.888923         0.552757     -0.336261   \n",
       "4                   -0.538153         0.552757      0.422963   \n",
       "...                       ...              ...           ...   \n",
       "97405               -1.251691        -1.667312     -0.336261   \n",
       "97406                0.175385        -0.187266     -1.854710   \n",
       "97407               -1.251691         0.552757      0.422963   \n",
       "97408                0.175385        -0.187266     -0.336261   \n",
       "97409                0.888923         0.552757      1.182187   \n",
       "\n",
       "       On-board service  Leg room service  Baggage handling  Checkin service  \\\n",
       "0              0.480922         -1.028514          0.312252        -0.243608   \n",
       "1             -1.073147         -1.788916         -2.230789        -1.034101   \n",
       "2             -0.296112         -0.268112         -0.535428        -1.824594   \n",
       "3             -1.850181         -1.788916         -2.230789        -0.243608   \n",
       "4              0.480922          1.252692         -0.535428        -1.824594   \n",
       "...                 ...               ...               ...              ...   \n",
       "97405          1.257957         -1.788916         -0.535428         0.546886   \n",
       "97406         -0.296112         -1.788916         -1.383108        -1.824594   \n",
       "97407          1.257957          1.252692          1.159932        -0.243608   \n",
       "97408          1.257957          1.252692          1.159932         0.546886   \n",
       "97409          0.480922          0.492290          0.312252         1.337379   \n",
       "\n",
       "       Cleanliness  Inflight service  \n",
       "0        -0.218797          1.155170  \n",
       "1        -0.218797         -2.246075  \n",
       "2        -0.218797          0.304859  \n",
       "3        -1.743171         -2.246075  \n",
       "4         0.543390          0.304859  \n",
       "...            ...               ...  \n",
       "97405     0.543390         -0.545453  \n",
       "97406    -1.743171         -1.395764  \n",
       "97407    -0.218797          1.155170  \n",
       "97408    -0.218797          0.304859  \n",
       "97409    -1.743171          0.304859  \n",
       "\n",
       "[97410 rows x 15 columns]"
      ]
     },
     "execution_count": 16,
     "metadata": {},
     "output_type": "execute_result"
    }
   ],
   "source": [
    "xtrain_scaled"
   ]
  },
  {
   "cell_type": "code",
   "execution_count": 17,
   "id": "8e3d1a24",
   "metadata": {},
   "outputs": [],
   "source": [
    "ss=StandardScaler()\n",
    "scaled_tst=pd.DataFrame(ss.fit_transform(xtest),columns=[i    for i in xtest.columns ])\n",
    "xtest_scaled=scaled_tst"
   ]
  },
  {
   "cell_type": "code",
   "execution_count": 18,
   "id": "7c104853",
   "metadata": {
    "scrolled": true
   },
   "outputs": [
    {
     "data": {
      "text/html": [
       "<div>\n",
       "<style scoped>\n",
       "    .dataframe tbody tr th:only-of-type {\n",
       "        vertical-align: middle;\n",
       "    }\n",
       "\n",
       "    .dataframe tbody tr th {\n",
       "        vertical-align: top;\n",
       "    }\n",
       "\n",
       "    .dataframe thead th {\n",
       "        text-align: right;\n",
       "    }\n",
       "</style>\n",
       "<table border=\"1\" class=\"dataframe\">\n",
       "  <thead>\n",
       "    <tr style=\"text-align: right;\">\n",
       "      <th></th>\n",
       "      <th>Gender</th>\n",
       "      <th>Customer Type</th>\n",
       "      <th>Type of Travel</th>\n",
       "      <th>Class</th>\n",
       "      <th>Inflight wifi service</th>\n",
       "      <th>Departure/Arrival time convenient</th>\n",
       "      <th>Ease of Online booking</th>\n",
       "      <th>Online boarding</th>\n",
       "      <th>Seat comfort</th>\n",
       "      <th>On-board service</th>\n",
       "      <th>Leg room service</th>\n",
       "      <th>Baggage handling</th>\n",
       "      <th>Checkin service</th>\n",
       "      <th>Cleanliness</th>\n",
       "      <th>Inflight service</th>\n",
       "    </tr>\n",
       "  </thead>\n",
       "  <tbody>\n",
       "    <tr>\n",
       "      <th>0</th>\n",
       "      <td>-0.986540</td>\n",
       "      <td>-0.470251</td>\n",
       "      <td>-0.666919</td>\n",
       "      <td>-0.954252</td>\n",
       "      <td>0.206726</td>\n",
       "      <td>-0.032865</td>\n",
       "      <td>-1.258384</td>\n",
       "      <td>0.554983</td>\n",
       "      <td>1.179193</td>\n",
       "      <td>0.474669</td>\n",
       "      <td>0.495774</td>\n",
       "      <td>0.310295</td>\n",
       "      <td>1.338568</td>\n",
       "      <td>1.301248</td>\n",
       "      <td>0.301774</td>\n",
       "    </tr>\n",
       "    <tr>\n",
       "      <th>1</th>\n",
       "      <td>1.013644</td>\n",
       "      <td>2.126525</td>\n",
       "      <td>-0.666919</td>\n",
       "      <td>0.664501</td>\n",
       "      <td>-0.546291</td>\n",
       "      <td>-0.686331</td>\n",
       "      <td>-0.545375</td>\n",
       "      <td>0.554983</td>\n",
       "      <td>0.424876</td>\n",
       "      <td>-1.855379</td>\n",
       "      <td>-0.261982</td>\n",
       "      <td>-0.536439</td>\n",
       "      <td>0.550918</td>\n",
       "      <td>0.542897</td>\n",
       "      <td>-0.546738</td>\n",
       "    </tr>\n",
       "    <tr>\n",
       "      <th>2</th>\n",
       "      <td>1.013644</td>\n",
       "      <td>2.126525</td>\n",
       "      <td>-0.666919</td>\n",
       "      <td>0.664501</td>\n",
       "      <td>-0.546291</td>\n",
       "      <td>0.620602</td>\n",
       "      <td>-0.545375</td>\n",
       "      <td>-0.927680</td>\n",
       "      <td>-0.329442</td>\n",
       "      <td>1.251351</td>\n",
       "      <td>-1.777495</td>\n",
       "      <td>-0.536439</td>\n",
       "      <td>-1.024381</td>\n",
       "      <td>-0.215454</td>\n",
       "      <td>1.150286</td>\n",
       "    </tr>\n",
       "    <tr>\n",
       "      <th>3</th>\n",
       "      <td>1.013644</td>\n",
       "      <td>-0.470251</td>\n",
       "      <td>-0.666919</td>\n",
       "      <td>-0.954252</td>\n",
       "      <td>0.206726</td>\n",
       "      <td>-0.032865</td>\n",
       "      <td>0.167635</td>\n",
       "      <td>-0.927680</td>\n",
       "      <td>-0.329442</td>\n",
       "      <td>-0.302014</td>\n",
       "      <td>-0.261982</td>\n",
       "      <td>-0.536439</td>\n",
       "      <td>-0.236732</td>\n",
       "      <td>-1.732156</td>\n",
       "      <td>-0.546738</td>\n",
       "    </tr>\n",
       "    <tr>\n",
       "      <th>4</th>\n",
       "      <td>1.013644</td>\n",
       "      <td>-0.470251</td>\n",
       "      <td>1.499433</td>\n",
       "      <td>0.664501</td>\n",
       "      <td>-1.299308</td>\n",
       "      <td>1.274068</td>\n",
       "      <td>-1.258384</td>\n",
       "      <td>-1.669012</td>\n",
       "      <td>-1.838076</td>\n",
       "      <td>-1.078697</td>\n",
       "      <td>1.253530</td>\n",
       "      <td>-1.383174</td>\n",
       "      <td>-0.236732</td>\n",
       "      <td>-1.732156</td>\n",
       "      <td>0.301774</td>\n",
       "    </tr>\n",
       "    <tr>\n",
       "      <th>...</th>\n",
       "      <td>...</td>\n",
       "      <td>...</td>\n",
       "      <td>...</td>\n",
       "      <td>...</td>\n",
       "      <td>...</td>\n",
       "      <td>...</td>\n",
       "      <td>...</td>\n",
       "      <td>...</td>\n",
       "      <td>...</td>\n",
       "      <td>...</td>\n",
       "      <td>...</td>\n",
       "      <td>...</td>\n",
       "      <td>...</td>\n",
       "      <td>...</td>\n",
       "      <td>...</td>\n",
       "    </tr>\n",
       "    <tr>\n",
       "      <th>32465</th>\n",
       "      <td>-0.986540</td>\n",
       "      <td>-0.470251</td>\n",
       "      <td>1.499433</td>\n",
       "      <td>0.664501</td>\n",
       "      <td>0.959743</td>\n",
       "      <td>0.620602</td>\n",
       "      <td>0.880645</td>\n",
       "      <td>-0.186349</td>\n",
       "      <td>0.424876</td>\n",
       "      <td>-1.855379</td>\n",
       "      <td>0.495774</td>\n",
       "      <td>-2.229908</td>\n",
       "      <td>1.338568</td>\n",
       "      <td>0.542897</td>\n",
       "      <td>-2.243762</td>\n",
       "    </tr>\n",
       "    <tr>\n",
       "      <th>32466</th>\n",
       "      <td>1.013644</td>\n",
       "      <td>2.126525</td>\n",
       "      <td>-0.666919</td>\n",
       "      <td>-0.954252</td>\n",
       "      <td>-0.546291</td>\n",
       "      <td>-0.032865</td>\n",
       "      <td>0.167635</td>\n",
       "      <td>-0.927680</td>\n",
       "      <td>1.179193</td>\n",
       "      <td>0.474669</td>\n",
       "      <td>-1.777495</td>\n",
       "      <td>0.310295</td>\n",
       "      <td>0.550918</td>\n",
       "      <td>1.301248</td>\n",
       "      <td>0.301774</td>\n",
       "    </tr>\n",
       "    <tr>\n",
       "      <th>32467</th>\n",
       "      <td>1.013644</td>\n",
       "      <td>-0.470251</td>\n",
       "      <td>1.499433</td>\n",
       "      <td>-0.954252</td>\n",
       "      <td>-0.546291</td>\n",
       "      <td>0.620602</td>\n",
       "      <td>-0.545375</td>\n",
       "      <td>-0.927680</td>\n",
       "      <td>-0.329442</td>\n",
       "      <td>1.251351</td>\n",
       "      <td>1.253530</td>\n",
       "      <td>0.310295</td>\n",
       "      <td>0.550918</td>\n",
       "      <td>-0.215454</td>\n",
       "      <td>0.301774</td>\n",
       "    </tr>\n",
       "    <tr>\n",
       "      <th>32468</th>\n",
       "      <td>-0.986540</td>\n",
       "      <td>-0.470251</td>\n",
       "      <td>1.499433</td>\n",
       "      <td>0.664501</td>\n",
       "      <td>1.712760</td>\n",
       "      <td>1.274068</td>\n",
       "      <td>1.593655</td>\n",
       "      <td>1.296314</td>\n",
       "      <td>1.179193</td>\n",
       "      <td>-1.855379</td>\n",
       "      <td>-1.777495</td>\n",
       "      <td>1.157030</td>\n",
       "      <td>-1.024381</td>\n",
       "      <td>1.301248</td>\n",
       "      <td>-1.395250</td>\n",
       "    </tr>\n",
       "    <tr>\n",
       "      <th>32469</th>\n",
       "      <td>1.013644</td>\n",
       "      <td>2.126525</td>\n",
       "      <td>-0.666919</td>\n",
       "      <td>0.664501</td>\n",
       "      <td>-1.299308</td>\n",
       "      <td>1.274068</td>\n",
       "      <td>-0.545375</td>\n",
       "      <td>-0.927680</td>\n",
       "      <td>0.424876</td>\n",
       "      <td>0.474669</td>\n",
       "      <td>1.253530</td>\n",
       "      <td>1.157030</td>\n",
       "      <td>-0.236732</td>\n",
       "      <td>0.542897</td>\n",
       "      <td>1.150286</td>\n",
       "    </tr>\n",
       "  </tbody>\n",
       "</table>\n",
       "<p>32470 rows × 15 columns</p>\n",
       "</div>"
      ],
      "text/plain": [
       "         Gender  Customer Type  Type of Travel     Class  \\\n",
       "0     -0.986540      -0.470251       -0.666919 -0.954252   \n",
       "1      1.013644       2.126525       -0.666919  0.664501   \n",
       "2      1.013644       2.126525       -0.666919  0.664501   \n",
       "3      1.013644      -0.470251       -0.666919 -0.954252   \n",
       "4      1.013644      -0.470251        1.499433  0.664501   \n",
       "...         ...            ...             ...       ...   \n",
       "32465 -0.986540      -0.470251        1.499433  0.664501   \n",
       "32466  1.013644       2.126525       -0.666919 -0.954252   \n",
       "32467  1.013644      -0.470251        1.499433 -0.954252   \n",
       "32468 -0.986540      -0.470251        1.499433  0.664501   \n",
       "32469  1.013644       2.126525       -0.666919  0.664501   \n",
       "\n",
       "       Inflight wifi service  Departure/Arrival time convenient  \\\n",
       "0                   0.206726                          -0.032865   \n",
       "1                  -0.546291                          -0.686331   \n",
       "2                  -0.546291                           0.620602   \n",
       "3                   0.206726                          -0.032865   \n",
       "4                  -1.299308                           1.274068   \n",
       "...                      ...                                ...   \n",
       "32465               0.959743                           0.620602   \n",
       "32466              -0.546291                          -0.032865   \n",
       "32467              -0.546291                           0.620602   \n",
       "32468               1.712760                           1.274068   \n",
       "32469              -1.299308                           1.274068   \n",
       "\n",
       "       Ease of Online booking  Online boarding  Seat comfort  \\\n",
       "0                   -1.258384         0.554983      1.179193   \n",
       "1                   -0.545375         0.554983      0.424876   \n",
       "2                   -0.545375        -0.927680     -0.329442   \n",
       "3                    0.167635        -0.927680     -0.329442   \n",
       "4                   -1.258384        -1.669012     -1.838076   \n",
       "...                       ...              ...           ...   \n",
       "32465                0.880645        -0.186349      0.424876   \n",
       "32466                0.167635        -0.927680      1.179193   \n",
       "32467               -0.545375        -0.927680     -0.329442   \n",
       "32468                1.593655         1.296314      1.179193   \n",
       "32469               -0.545375        -0.927680      0.424876   \n",
       "\n",
       "       On-board service  Leg room service  Baggage handling  Checkin service  \\\n",
       "0              0.474669          0.495774          0.310295         1.338568   \n",
       "1             -1.855379         -0.261982         -0.536439         0.550918   \n",
       "2              1.251351         -1.777495         -0.536439        -1.024381   \n",
       "3             -0.302014         -0.261982         -0.536439        -0.236732   \n",
       "4             -1.078697          1.253530         -1.383174        -0.236732   \n",
       "...                 ...               ...               ...              ...   \n",
       "32465         -1.855379          0.495774         -2.229908         1.338568   \n",
       "32466          0.474669         -1.777495          0.310295         0.550918   \n",
       "32467          1.251351          1.253530          0.310295         0.550918   \n",
       "32468         -1.855379         -1.777495          1.157030        -1.024381   \n",
       "32469          0.474669          1.253530          1.157030        -0.236732   \n",
       "\n",
       "       Cleanliness  Inflight service  \n",
       "0         1.301248          0.301774  \n",
       "1         0.542897         -0.546738  \n",
       "2        -0.215454          1.150286  \n",
       "3        -1.732156         -0.546738  \n",
       "4        -1.732156          0.301774  \n",
       "...            ...               ...  \n",
       "32465     0.542897         -2.243762  \n",
       "32466     1.301248          0.301774  \n",
       "32467    -0.215454          0.301774  \n",
       "32468     1.301248         -1.395250  \n",
       "32469     0.542897          1.150286  \n",
       "\n",
       "[32470 rows x 15 columns]"
      ]
     },
     "execution_count": 18,
     "metadata": {},
     "output_type": "execute_result"
    }
   ],
   "source": [
    "xtest_scaled"
   ]
  },
  {
   "cell_type": "code",
   "execution_count": 19,
   "id": "13817a60",
   "metadata": {},
   "outputs": [],
   "source": [
    "def per_measures(model,test,pred):\n",
    "    accuracy=accuracy_score(test,pred)\n",
    "    f1score=f1_score(test,pred)\n",
    "    recall=recall_score(test,pred)\n",
    "    precision=precision_score(test,pred)\n",
    "    return(accuracy,recall,precision,f1score)"
   ]
  },
  {
   "cell_type": "code",
   "execution_count": null,
   "id": "d11d0f3b",
   "metadata": {},
   "outputs": [],
   "source": []
  },
  {
   "cell_type": "code",
   "execution_count": 20,
   "id": "34ae1c01",
   "metadata": {},
   "outputs": [],
   "source": [
    "import pandas as pd\n",
    "\n",
    "# Initialize an empty DataFrame\n",
    "perf_score = pd.DataFrame(columns=['Model', 'Accuracy', 'Recall', 'Precision', 'F1 Score'])\n",
    "\n",
    "def update_performance(name, model, test, pred):\n",
    "    # Assign 'perf_score' as a global variable\n",
    "    global perf_score\n",
    "\n",
    "    # Ensure 'perf_score' is a DataFrame\n",
    "    if not isinstance(perf_score, pd.DataFrame):\n",
    "        perf_score = pd.DataFrame(columns=['Model', 'Accuracy', 'Recall', 'Precision', 'F1 Score'])\n",
    "\n",
    "    # Append the results to the dataframe 'perf_score'\n",
    "    # 'ignore_index=True' does not consider the index labels\n",
    "    perf_score = perf_score.append({\n",
    "        'Model': name,\n",
    "        'Accuracy': per_measures(model, test, pred)[0],\n",
    "        'Recall': per_measures(model, test, pred)[1],\n",
    "        'Precision': per_measures(model, test, pred)[2],\n",
    "        'F1 Score': per_measures(model, test, pred)[3]\n",
    "    },\n",
    "    ignore_index=True)"
   ]
  },
  {
   "cell_type": "code",
   "execution_count": 21,
   "id": "68208863",
   "metadata": {},
   "outputs": [],
   "source": [
    "perf_score_training=pd.DataFrame(columns=['Model','Accuracy','Recall','Precision','F1 Score'])\n",
    "def update_performances_train(name, model,train,pred):\n",
    "    # assign 'comp_perf' as global variable\n",
    "    global perf_score_training\n",
    "\n",
    "    # append the results to the dataframe 'score_card'\n",
    "    # 'ignore_index = True' do not consider the index labels\n",
    "    perf_score_training = perf_score_training.append({'Model'       : name,\n",
    "                                    'Accuracy'    : per_measures(model,train,pred)[0],\n",
    "                                    'Recall'      : per_measures(model,train,pred)[1],\n",
    "                                    'Precision'   : per_measures(model,train,pred)[2],\n",
    "                                    'F1 Score'    : per_measures(model,train,pred)[3]\n",
    "                                    # 'AIC'         : per_measures(model,ytest,ypred)[4],\n",
    "                                    # 'Reliability' : per_measures(model,ytest,ypred)[5]\n",
    "\n",
    "                                     },\n",
    "                                   ignore_index=True)"
   ]
  },
  {
   "cell_type": "markdown",
   "id": "2e0ca4fd",
   "metadata": {},
   "source": [
    "## Logistic Regression"
   ]
  },
  {
   "cell_type": "code",
   "execution_count": 22,
   "id": "27d79cfd",
   "metadata": {},
   "outputs": [
    {
     "name": "stdout",
     "output_type": "stream",
     "text": [
      "[[16575  1754]\n",
      " [ 2347 11794]]\n",
      "              precision    recall  f1-score   support\n",
      "\n",
      "         0.0       0.88      0.90      0.89     18329\n",
      "         1.0       0.87      0.83      0.85     14141\n",
      "\n",
      "    accuracy                           0.87     32470\n",
      "   macro avg       0.87      0.87      0.87     32470\n",
      "weighted avg       0.87      0.87      0.87     32470\n",
      "\n"
     ]
    }
   ],
   "source": [
    "lr=LogisticRegression()\n",
    "lr.fit(xtrain_scaled,ytrain)\n",
    "ypred_lr=lr.predict(xtest_scaled)\n",
    "print(confusion_matrix(ytest,ypred_lr))\n",
    "print(classification_report(ytest,ypred_lr))"
   ]
  },
  {
   "cell_type": "code",
   "execution_count": 23,
   "id": "0d7dedff",
   "metadata": {
    "scrolled": true
   },
   "outputs": [
    {
     "name": "stdout",
     "output_type": "stream",
     "text": [
      "\n",
      "Training data\n",
      "[[49739  5384]\n",
      " [ 6963 35324]]\n",
      "f1_score:  0.8512320019278269\n",
      "              precision    recall  f1-score   support\n",
      "\n",
      "         0.0       0.88      0.90      0.89     55123\n",
      "         1.0       0.87      0.84      0.85     42287\n",
      "\n",
      "    accuracy                           0.87     97410\n",
      "   macro avg       0.87      0.87      0.87     97410\n",
      "weighted avg       0.87      0.87      0.87     97410\n",
      "\n"
     ]
    }
   ],
   "source": [
    "predicted_xtrain_lr=lr.predict(xtrain_scaled)\n",
    "print('\\nTraining data')\n",
    "matrix=confusion_matrix(ytrain,predicted_xtrain_lr)\n",
    "print(matrix)\n",
    "measure_train=classification_report(ytrain,predicted_xtrain_lr)\n",
    "print('f1_score: ',metrics.f1_score(ytrain,predicted_xtrain_lr))\n",
    "print(measure_train)"
   ]
  },
  {
   "cell_type": "raw",
   "id": "e1aa9118",
   "metadata": {},
   "source": [
    "print('\\nTraining Data ')\n",
    "update_performances_train(name='LogisticReg-Base_train',\n",
    "                  model=lr,\n",
    "                  train=ytrain,\n",
    "                  pred=predicted_xtrain_lr)\n",
    "perf_score_training"
   ]
  },
  {
   "cell_type": "raw",
   "id": "f0541779",
   "metadata": {},
   "source": [
    "print('\\n Test Data')\n",
    "update_performance(name='LogisticReg-Base',\n",
    "                  model=lr,\n",
    "                  test=ytest,\n",
    "                  pred=ypred_lr)\n",
    "perf_score"
   ]
  },
  {
   "cell_type": "markdown",
   "id": "27e0d620",
   "metadata": {},
   "source": [
    "# Tuned base model"
   ]
  },
  {
   "cell_type": "code",
   "execution_count": 34,
   "id": "eb8bcfb1",
   "metadata": {},
   "outputs": [
    {
     "data": {
      "text/html": [
       "<style>#sk-container-id-2 {color: black;}#sk-container-id-2 pre{padding: 0;}#sk-container-id-2 div.sk-toggleable {background-color: white;}#sk-container-id-2 label.sk-toggleable__label {cursor: pointer;display: block;width: 100%;margin-bottom: 0;padding: 0.3em;box-sizing: border-box;text-align: center;}#sk-container-id-2 label.sk-toggleable__label-arrow:before {content: \"▸\";float: left;margin-right: 0.25em;color: #696969;}#sk-container-id-2 label.sk-toggleable__label-arrow:hover:before {color: black;}#sk-container-id-2 div.sk-estimator:hover label.sk-toggleable__label-arrow:before {color: black;}#sk-container-id-2 div.sk-toggleable__content {max-height: 0;max-width: 0;overflow: hidden;text-align: left;background-color: #f0f8ff;}#sk-container-id-2 div.sk-toggleable__content pre {margin: 0.2em;color: black;border-radius: 0.25em;background-color: #f0f8ff;}#sk-container-id-2 input.sk-toggleable__control:checked~div.sk-toggleable__content {max-height: 200px;max-width: 100%;overflow: auto;}#sk-container-id-2 input.sk-toggleable__control:checked~label.sk-toggleable__label-arrow:before {content: \"▾\";}#sk-container-id-2 div.sk-estimator input.sk-toggleable__control:checked~label.sk-toggleable__label {background-color: #d4ebff;}#sk-container-id-2 div.sk-label input.sk-toggleable__control:checked~label.sk-toggleable__label {background-color: #d4ebff;}#sk-container-id-2 input.sk-hidden--visually {border: 0;clip: rect(1px 1px 1px 1px);clip: rect(1px, 1px, 1px, 1px);height: 1px;margin: -1px;overflow: hidden;padding: 0;position: absolute;width: 1px;}#sk-container-id-2 div.sk-estimator {font-family: monospace;background-color: #f0f8ff;border: 1px dotted black;border-radius: 0.25em;box-sizing: border-box;margin-bottom: 0.5em;}#sk-container-id-2 div.sk-estimator:hover {background-color: #d4ebff;}#sk-container-id-2 div.sk-parallel-item::after {content: \"\";width: 100%;border-bottom: 1px solid gray;flex-grow: 1;}#sk-container-id-2 div.sk-label:hover label.sk-toggleable__label {background-color: #d4ebff;}#sk-container-id-2 div.sk-serial::before {content: \"\";position: absolute;border-left: 1px solid gray;box-sizing: border-box;top: 0;bottom: 0;left: 50%;z-index: 0;}#sk-container-id-2 div.sk-serial {display: flex;flex-direction: column;align-items: center;background-color: white;padding-right: 0.2em;padding-left: 0.2em;position: relative;}#sk-container-id-2 div.sk-item {position: relative;z-index: 1;}#sk-container-id-2 div.sk-parallel {display: flex;align-items: stretch;justify-content: center;background-color: white;position: relative;}#sk-container-id-2 div.sk-item::before, #sk-container-id-2 div.sk-parallel-item::before {content: \"\";position: absolute;border-left: 1px solid gray;box-sizing: border-box;top: 0;bottom: 0;left: 50%;z-index: -1;}#sk-container-id-2 div.sk-parallel-item {display: flex;flex-direction: column;z-index: 1;position: relative;background-color: white;}#sk-container-id-2 div.sk-parallel-item:first-child::after {align-self: flex-end;width: 50%;}#sk-container-id-2 div.sk-parallel-item:last-child::after {align-self: flex-start;width: 50%;}#sk-container-id-2 div.sk-parallel-item:only-child::after {width: 0;}#sk-container-id-2 div.sk-dashed-wrapped {border: 1px dashed gray;margin: 0 0.4em 0.5em 0.4em;box-sizing: border-box;padding-bottom: 0.4em;background-color: white;}#sk-container-id-2 div.sk-label label {font-family: monospace;font-weight: bold;display: inline-block;line-height: 1.2em;}#sk-container-id-2 div.sk-label-container {text-align: center;}#sk-container-id-2 div.sk-container {/* jupyter's `normalize.less` sets `[hidden] { display: none; }` but bootstrap.min.css set `[hidden] { display: none !important; }` so we also need the `!important` here to be able to override the default hidden behavior on the sphinx rendered scikit-learn.org. See: https://github.com/scikit-learn/scikit-learn/issues/21755 */display: inline-block !important;position: relative;}#sk-container-id-2 div.sk-text-repr-fallback {display: none;}</style><div id=\"sk-container-id-2\" class=\"sk-top-container\"><div class=\"sk-text-repr-fallback\"><pre>GridSearchCV(cv=5, estimator=LogisticRegression(),\n",
       "             param_grid={&#x27;C&#x27;: [0.001, 0.01, 0.1, 1, 10, 100],\n",
       "                         &#x27;penalty&#x27;: [&#x27;l1&#x27;, &#x27;l2&#x27;],\n",
       "                         &#x27;solver&#x27;: [&#x27;liblinear&#x27;, &#x27;lbfgs&#x27;, &#x27;saga&#x27;]},\n",
       "             scoring=&#x27;f1_macro&#x27;)</pre><b>In a Jupyter environment, please rerun this cell to show the HTML representation or trust the notebook. <br />On GitHub, the HTML representation is unable to render, please try loading this page with nbviewer.org.</b></div><div class=\"sk-container\" hidden><div class=\"sk-item sk-dashed-wrapped\"><div class=\"sk-label-container\"><div class=\"sk-label sk-toggleable\"><input class=\"sk-toggleable__control sk-hidden--visually\" id=\"sk-estimator-id-4\" type=\"checkbox\" ><label for=\"sk-estimator-id-4\" class=\"sk-toggleable__label sk-toggleable__label-arrow\">GridSearchCV</label><div class=\"sk-toggleable__content\"><pre>GridSearchCV(cv=5, estimator=LogisticRegression(),\n",
       "             param_grid={&#x27;C&#x27;: [0.001, 0.01, 0.1, 1, 10, 100],\n",
       "                         &#x27;penalty&#x27;: [&#x27;l1&#x27;, &#x27;l2&#x27;],\n",
       "                         &#x27;solver&#x27;: [&#x27;liblinear&#x27;, &#x27;lbfgs&#x27;, &#x27;saga&#x27;]},\n",
       "             scoring=&#x27;f1_macro&#x27;)</pre></div></div></div><div class=\"sk-parallel\"><div class=\"sk-parallel-item\"><div class=\"sk-item\"><div class=\"sk-label-container\"><div class=\"sk-label sk-toggleable\"><input class=\"sk-toggleable__control sk-hidden--visually\" id=\"sk-estimator-id-5\" type=\"checkbox\" ><label for=\"sk-estimator-id-5\" class=\"sk-toggleable__label sk-toggleable__label-arrow\">estimator: LogisticRegression</label><div class=\"sk-toggleable__content\"><pre>LogisticRegression()</pre></div></div></div><div class=\"sk-serial\"><div class=\"sk-item\"><div class=\"sk-estimator sk-toggleable\"><input class=\"sk-toggleable__control sk-hidden--visually\" id=\"sk-estimator-id-6\" type=\"checkbox\" ><label for=\"sk-estimator-id-6\" class=\"sk-toggleable__label sk-toggleable__label-arrow\">LogisticRegression</label><div class=\"sk-toggleable__content\"><pre>LogisticRegression()</pre></div></div></div></div></div></div></div></div></div></div>"
      ],
      "text/plain": [
       "GridSearchCV(cv=5, estimator=LogisticRegression(),\n",
       "             param_grid={'C': [0.001, 0.01, 0.1, 1, 10, 100],\n",
       "                         'penalty': ['l1', 'l2'],\n",
       "                         'solver': ['liblinear', 'lbfgs', 'saga']},\n",
       "             scoring='f1_macro')"
      ]
     },
     "execution_count": 34,
     "metadata": {},
     "output_type": "execute_result"
    }
   ],
   "source": [
    "\n",
    "logistic_regression = LogisticRegression()\n",
    "param_grid = {\n",
    "    'C': [0.001, 0.01, 0.1, 1, 10, 100],  # Regularization strength\n",
    "    'penalty': ['l1', 'l2'],               # Regularization type\n",
    "    'solver': ['liblinear', 'lbfgs', 'saga']  # Solver type\n",
    "}\n",
    "\n",
    "# Create the GridSearchCV object\n",
    "grid_search_log = GridSearchCV(logistic_regression, param_grid, cv=5,  scoring='f1_macro')\n",
    "\n",
    "# Fit the model to the training data\n",
    "grid_search_log.fit(xtrain_scaled,ytrain)\n",
    "\n"
   ]
  },
  {
   "cell_type": "code",
   "execution_count": 35,
   "id": "729e4af1",
   "metadata": {},
   "outputs": [
    {
     "name": "stdout",
     "output_type": "stream",
     "text": [
      "{'C': 0.01, 'penalty': 'l1', 'solver': 'saga'} LogisticRegression(C=0.01, penalty='l1', solver='saga')\n"
     ]
    }
   ],
   "source": [
    "# Get the best parameters and the best estimator\n",
    "best_params =grid_search_log.best_params_\n",
    "best_estimator = grid_search_log.best_estimator_\n",
    "print(best_params,best_estimator)"
   ]
  },
  {
   "cell_type": "code",
   "execution_count": null,
   "id": "ed907d19",
   "metadata": {},
   "outputs": [],
   "source": []
  },
  {
   "cell_type": "code",
   "execution_count": 37,
   "id": "e98e74fc",
   "metadata": {},
   "outputs": [
    {
     "name": "stdout",
     "output_type": "stream",
     "text": [
      "              precision    recall  f1-score   support\n",
      "\n",
      "         0.0       0.88      0.91      0.89     18329\n",
      "         1.0       0.87      0.83      0.85     14141\n",
      "\n",
      "    accuracy                           0.87     32470\n",
      "   macro avg       0.87      0.87      0.87     32470\n",
      "weighted avg       0.87      0.87      0.87     32470\n",
      "\n"
     ]
    }
   ],
   "source": [
    "ypred_tuned=grid_search_log.predict(xtest_scaled)\n",
    "print(classification_report(ytest,ypred_tuned))"
   ]
  },
  {
   "cell_type": "code",
   "execution_count": 38,
   "id": "8d6b10cb",
   "metadata": {},
   "outputs": [
    {
     "name": "stdout",
     "output_type": "stream",
     "text": [
      "\n",
      "Training data\n",
      "[[49756  5367]\n",
      " [ 6957 35330]]\n",
      "f1_score:  0.8514894437481924\n",
      "              precision    recall  f1-score   support\n",
      "\n",
      "         0.0       0.88      0.90      0.89     55123\n",
      "         1.0       0.87      0.84      0.85     42287\n",
      "\n",
      "    accuracy                           0.87     97410\n",
      "   macro avg       0.87      0.87      0.87     97410\n",
      "weighted avg       0.87      0.87      0.87     97410\n",
      "\n"
     ]
    }
   ],
   "source": [
    "predicted_xtrain_logt=grid_search_log.predict(xtrain_scaled)\n",
    "print('\\nTraining data')\n",
    "matrix=confusion_matrix(ytrain,predicted_xtrain_logt)\n",
    "print(matrix)\n",
    "measure_train=classification_report(ytrain,predicted_xtrain_logt)\n",
    "print('f1_score: ',metrics.f1_score(ytrain,predicted_xtrain_logt))\n",
    "print(measure_train)"
   ]
  },
  {
   "cell_type": "markdown",
   "id": "3894d491",
   "metadata": {},
   "source": [
    "## K nearest neighbour Model "
   ]
  },
  {
   "cell_type": "code",
   "execution_count": null,
   "id": "5d40c43a",
   "metadata": {},
   "outputs": [],
   "source": []
  },
  {
   "cell_type": "code",
   "execution_count": 21,
   "id": "44d5a4c3",
   "metadata": {
    "scrolled": true
   },
   "outputs": [
    {
     "name": "stdout",
     "output_type": "stream",
     "text": [
      "              precision    recall  f1-score   support\n",
      "\n",
      "         0.0       0.92      0.97      0.94     18329\n",
      "         1.0       0.95      0.89      0.92     14141\n",
      "\n",
      "    accuracy                           0.93     32470\n",
      "   macro avg       0.94      0.93      0.93     32470\n",
      "weighted avg       0.93      0.93      0.93     32470\n",
      "\n"
     ]
    }
   ],
   "source": [
    "knn=KNeighborsClassifier()\n",
    "knn.fit(xtrain_scaled,ytrain)\n",
    "ypred_knn=knn.predict(xtest_scaled)\n",
    "print(classification_report(ytest,ypred_knn))"
   ]
  },
  {
   "cell_type": "code",
   "execution_count": 22,
   "id": "e9854e2e",
   "metadata": {
    "scrolled": false
   },
   "outputs": [
    {
     "name": "stdout",
     "output_type": "stream",
     "text": [
      "\n",
      "Training data\n",
      "[[53991  1132]\n",
      " [ 3306 38981]]\n",
      "              precision    recall  f1-score   support\n",
      "\n",
      "         0.0       0.94      0.98      0.96     55123\n",
      "         1.0       0.97      0.92      0.95     42287\n",
      "\n",
      "    accuracy                           0.95     97410\n",
      "   macro avg       0.96      0.95      0.95     97410\n",
      "weighted avg       0.96      0.95      0.95     97410\n",
      "\n"
     ]
    }
   ],
   "source": [
    "predicted_xtrain_knn=knn.predict(xtrain_scaled)\n",
    "print('\\nTraining data')\n",
    "matrix=confusion_matrix(ytrain,predicted_xtrain_knn)\n",
    "print(matrix)\n",
    "measure_train=classification_report(ytrain,predicted_xtrain_knn)\n",
    "print(measure_train)"
   ]
  },
  {
   "cell_type": "raw",
   "id": "ceebe701",
   "metadata": {},
   "source": [
    "print('\\nTraining Data ')\n",
    "update_performances_train(name='KNeighborsClassifier',\n",
    "                  model=knn,\n",
    "                  train=ytrain,\n",
    "                  pred=predicted_xtrain_knn)\n",
    "perf_score_training"
   ]
  },
  {
   "cell_type": "raw",
   "id": "4d029d48",
   "metadata": {},
   "source": [
    "update_performance(name='KNeighborsClassifier',\n",
    "                  model=knn,\n",
    "                  test=ytest,\n",
    "                  pred=ypred_knn)\n",
    "perf_score"
   ]
  },
  {
   "cell_type": "markdown",
   "id": "06ebc15a",
   "metadata": {},
   "source": [
    "# Tuned knn "
   ]
  },
  {
   "cell_type": "code",
   "execution_count": null,
   "id": "74c5aa5a",
   "metadata": {},
   "outputs": [],
   "source": [
    "knn=KNeighborsClassifier()\n",
    "# Define the parameter grid to search\n",
    "param_grid = {\n",
    "    'n_neighbors': [3, 5, 7,311,313],\n",
    "    'weights': ['uniform', 'distance', None],  # None added for weights parameter\n",
    "    'p': [1, 2],  # 1 for Manhattan distance, 2 for Euclidean distance  # None added for leaf_size parameter\n",
    "}\n",
    "\n",
    "# Create the GridSearchCV object with 'f1_macro' as the scoring metric\n",
    "grid_search_knn = GridSearchCV(knn, param_grid, cv=5, scoring='f1_macro')\n",
    "\n",
    "# Fit the model to the training data\n",
    "grid_search_knn.fit(xtrain_scaled,ytrain)\n",
    "\n",
    "# Get the best parameters and the best estimator\n",
    "best_params = grid_search_knn.best_params_\n",
    "best_estimator =grid_search_knn.best_estimator_\n",
    "print(best_params,best_estimator)"
   ]
  },
  {
   "cell_type": "code",
   "execution_count": null,
   "id": "3cb05e48",
   "metadata": {},
   "outputs": [],
   "source": [
    "ypred_tuned=grid_search_knn.predict(xtest_scaled)\n",
    "print(classification_report(ytest,ypred_tuned))"
   ]
  },
  {
   "cell_type": "code",
   "execution_count": null,
   "id": "a139d676",
   "metadata": {},
   "outputs": [],
   "source": [
    "predicted_xtrain_knnt=grid_search_knn.predict(xtrain_scaled)\n",
    "print('\\nTraining data')\n",
    "matrix=confusion_matrix(ytrain,predicted_xtrain_knnt)\n",
    "print(matrix)\n",
    "measure_train=classification_report(ytrain,predicted_xtrain_knnt)\n",
    "print('f1_score: ',metrics.f1_score(ytrain,predicted_xtrain_knnt))\n",
    "print(measure_train)"
   ]
  },
  {
   "cell_type": "markdown",
   "id": "c4b35659",
   "metadata": {},
   "source": [
    "## Gaussian Naive Bayes Model"
   ]
  },
  {
   "cell_type": "code",
   "execution_count": 26,
   "id": "01c9cf0a",
   "metadata": {
    "scrolled": true
   },
   "outputs": [
    {
     "name": "stdout",
     "output_type": "stream",
     "text": [
      "              precision    recall  f1-score   support\n",
      "\n",
      "         0.0       0.87      0.92      0.89     18329\n",
      "         1.0       0.88      0.82      0.85     14141\n",
      "\n",
      "    accuracy                           0.88     32470\n",
      "   macro avg       0.88      0.87      0.87     32470\n",
      "weighted avg       0.88      0.88      0.87     32470\n",
      "\n"
     ]
    }
   ],
   "source": [
    "gnb=GaussianNB()\n",
    "gnb_model=gnb.fit(xtrain_scaled,ytrain)\n",
    "ypred_gnb=gnb_model.predict(xtest_scaled)\n",
    "print(classification_report(ytest,ypred_gnb))"
   ]
  },
  {
   "cell_type": "code",
   "execution_count": 27,
   "id": "45cc7245",
   "metadata": {
    "scrolled": true
   },
   "outputs": [
    {
     "name": "stdout",
     "output_type": "stream",
     "text": [
      "\n",
      "Training data\n",
      "[[50470  4653]\n",
      " [ 7417 34870]]\n",
      "f1_score:  0.8524630240801858\n",
      "              precision    recall  f1-score   support\n",
      "\n",
      "         0.0       0.87      0.92      0.89     55123\n",
      "         1.0       0.88      0.82      0.85     42287\n",
      "\n",
      "    accuracy                           0.88     97410\n",
      "   macro avg       0.88      0.87      0.87     97410\n",
      "weighted avg       0.88      0.88      0.88     97410\n",
      "\n"
     ]
    }
   ],
   "source": [
    "predicted_xtrain_gnb=gnb.predict(xtrain_scaled)\n",
    "print('\\nTraining data')\n",
    "matrix=confusion_matrix(ytrain,predicted_xtrain_gnb)\n",
    "print(matrix)\n",
    "measure_train=classification_report(ytrain,predicted_xtrain_gnb)\n",
    "print('f1_score: ',metrics.f1_score(ytrain,predicted_xtrain_gnb))\n",
    "print(measure_train)"
   ]
  },
  {
   "cell_type": "raw",
   "id": "fcf0d21b",
   "metadata": {},
   "source": [
    "print('\\nTraining Data ')\n",
    "update_performances_train(name='Gaussian Naive Bayes',\n",
    "                  model=gnb,\n",
    "                  train=ytrain,\n",
    "                  pred=predicted_xtrain_gnb)\n",
    "perf_score_training"
   ]
  },
  {
   "cell_type": "raw",
   "id": "ee3dfc1d",
   "metadata": {},
   "source": [
    "update_performance(name='Gaussian Naive Bayes',\n",
    "                  model=gnb,\n",
    "                  test=ytest,\n",
    "                  pred=ypred_gnb)\n",
    "perf_score"
   ]
  },
  {
   "cell_type": "markdown",
   "id": "cf9c4696",
   "metadata": {},
   "source": [
    "## Bernoulli Naive Bayes Model"
   ]
  },
  {
   "cell_type": "code",
   "execution_count": 28,
   "id": "d76940ee",
   "metadata": {
    "scrolled": true
   },
   "outputs": [
    {
     "name": "stdout",
     "output_type": "stream",
     "text": [
      "              precision    recall  f1-score   support\n",
      "\n",
      "         0.0       0.86      0.90      0.88     18329\n",
      "         1.0       0.86      0.81      0.83     14141\n",
      "\n",
      "    accuracy                           0.86     32470\n",
      "   macro avg       0.86      0.85      0.86     32470\n",
      "weighted avg       0.86      0.86      0.86     32470\n",
      "\n"
     ]
    }
   ],
   "source": [
    "bnb=BernoulliNB()\n",
    "bnb_model=bnb.fit(xtrain_scaled,ytrain)\n",
    "ypred_bnb=bnb_model.predict(xtest_scaled)\n",
    "print(classification_report(ytest,ypred_bnb))"
   ]
  },
  {
   "cell_type": "code",
   "execution_count": 29,
   "id": "1b2cfe59",
   "metadata": {
    "scrolled": false
   },
   "outputs": [
    {
     "name": "stdout",
     "output_type": "stream",
     "text": [
      "\n",
      "Training data\n",
      "[[49419  5704]\n",
      " [ 8116 34171]]\n",
      "f1_score:  0.8317957206494486\n",
      "              precision    recall  f1-score   support\n",
      "\n",
      "         0.0       0.86      0.90      0.88     55123\n",
      "         1.0       0.86      0.81      0.83     42287\n",
      "\n",
      "    accuracy                           0.86     97410\n",
      "   macro avg       0.86      0.85      0.85     97410\n",
      "weighted avg       0.86      0.86      0.86     97410\n",
      "\n"
     ]
    }
   ],
   "source": [
    "predicted_xtrain_bnb=bnb.predict(xtrain_scaled)\n",
    "print('\\nTraining data')\n",
    "matrix=confusion_matrix(ytrain,predicted_xtrain_bnb)\n",
    "print(matrix)\n",
    "measure_train=classification_report(ytrain,predicted_xtrain_bnb)\n",
    "print('f1_score: ',metrics.f1_score(ytrain,predicted_xtrain_bnb))\n",
    "print(measure_train)"
   ]
  },
  {
   "cell_type": "raw",
   "id": "293515a7",
   "metadata": {},
   "source": [
    "print('\\nTraining Data ')\n",
    "update_performances_train(name='Bernoulli Naive Bayes',\n",
    "                  model=bnb,\n",
    "                  train=ytrain,\n",
    "                  pred=predicted_xtrain_bnb)\n",
    "perf_score_training"
   ]
  },
  {
   "cell_type": "raw",
   "id": "9e799d57",
   "metadata": {},
   "source": [
    "update_performance(name='Bernoulli Naive Bayes',\n",
    "                  model=bnb,\n",
    "                  test=ytest,\n",
    "                  pred=ypred_bnb)\n",
    "perf_score"
   ]
  },
  {
   "cell_type": "markdown",
   "id": "25d39852",
   "metadata": {},
   "source": [
    "## Decision Tree"
   ]
  },
  {
   "cell_type": "code",
   "execution_count": 30,
   "id": "c6e17df9",
   "metadata": {
    "scrolled": false
   },
   "outputs": [
    {
     "name": "stdout",
     "output_type": "stream",
     "text": [
      "[[17426   903]\n",
      " [  906 13235]]\n",
      "              precision    recall  f1-score   support\n",
      "\n",
      "         0.0       0.95      0.95      0.95     18329\n",
      "         1.0       0.94      0.94      0.94     14141\n",
      "\n",
      "    accuracy                           0.94     32470\n",
      "   macro avg       0.94      0.94      0.94     32470\n",
      "weighted avg       0.94      0.94      0.94     32470\n",
      "\n"
     ]
    }
   ],
   "source": [
    "dt=DecisionTreeClassifier()\n",
    "dt_model=dt.fit(xtrain_scaled,ytrain)\n",
    "ypred_dt=dt_model.predict(xtest_scaled)\n",
    "print(confusion_matrix(ytest,ypred_dt))\n",
    "print(classification_report(ytest,ypred_dt))"
   ]
  },
  {
   "cell_type": "code",
   "execution_count": 31,
   "id": "a6da2602",
   "metadata": {},
   "outputs": [
    {
     "name": "stdout",
     "output_type": "stream",
     "text": [
      "\n",
      "Training data\n",
      "[[55104    19]\n",
      " [  291 41996]]\n",
      "f1_score:  0.9963227444188749\n",
      "              precision    recall  f1-score   support\n",
      "\n",
      "         0.0       0.99      1.00      1.00     55123\n",
      "         1.0       1.00      0.99      1.00     42287\n",
      "\n",
      "    accuracy                           1.00     97410\n",
      "   macro avg       1.00      1.00      1.00     97410\n",
      "weighted avg       1.00      1.00      1.00     97410\n",
      "\n"
     ]
    }
   ],
   "source": [
    "predicted_xtrain_dt=dt.predict(xtrain_scaled)\n",
    "print('\\nTraining data')\n",
    "matrix=confusion_matrix(ytrain,predicted_xtrain_dt)\n",
    "print(matrix)\n",
    "measure_train=classification_report(ytrain,predicted_xtrain_dt)\n",
    "print('f1_score: ',metrics.f1_score(ytrain,predicted_xtrain_dt))\n",
    "print(measure_train)"
   ]
  },
  {
   "cell_type": "raw",
   "id": "f8b50e36",
   "metadata": {},
   "source": [
    "print('\\nTraining Data ')\n",
    "update_performances_train(name='Decision Tress ',\n",
    "                  model=dt,\n",
    "                  train=ytrain,\n",
    "                  pred=predicted_xtrain_dt)\n",
    "perf_score_training"
   ]
  },
  {
   "cell_type": "raw",
   "id": "2939f5e4",
   "metadata": {},
   "source": [
    "update_performance(name='Decision Tress ',\n",
    "                  model=dt,\n",
    "                  test=ytest,\n",
    "                  pred=ypred_dt)\n",
    "perf_score"
   ]
  },
  {
   "cell_type": "markdown",
   "id": "26ac9359",
   "metadata": {},
   "source": [
    "## Tuned Decision Tree "
   ]
  },
  {
   "cell_type": "code",
   "execution_count": 32,
   "id": "0b647c0f",
   "metadata": {},
   "outputs": [],
   "source": [
    "turned_parameters=[{\"criterion\":[\"entropy\",\"gini\"],\n",
    "                   \"max_depth\":[3,5,6,7,9,10,15]}]"
   ]
  },
  {
   "cell_type": "code",
   "execution_count": 33,
   "id": "aa34196a",
   "metadata": {},
   "outputs": [],
   "source": [
    "dt2=DecisionTreeClassifier(random_state=10)\n",
    "tree_grid=GridSearchCV(estimator=dt2,\n",
    "                      param_grid=turned_parameters,\n",
    "                      cv=5)"
   ]
  },
  {
   "cell_type": "code",
   "execution_count": 34,
   "id": "e4d83f2e",
   "metadata": {
    "scrolled": true
   },
   "outputs": [
    {
     "data": {
      "text/plain": [
       "{'criterion': 'entropy', 'max_depth': 15}"
      ]
     },
     "execution_count": 34,
     "metadata": {},
     "output_type": "execute_result"
    }
   ],
   "source": [
    "tree_grid_model=tree_grid.fit(xtrain_scaled,ytrain)\n",
    "tree_grid_model.best_params_"
   ]
  },
  {
   "cell_type": "code",
   "execution_count": 35,
   "id": "37f423bc",
   "metadata": {},
   "outputs": [],
   "source": [
    "ypred_dt2=tree_grid_model.predict(xtest_scaled)"
   ]
  },
  {
   "cell_type": "code",
   "execution_count": 36,
   "id": "8b30422d",
   "metadata": {},
   "outputs": [
    {
     "name": "stdout",
     "output_type": "stream",
     "text": [
      "\n",
      "Training data\n",
      "[[53750  1373]\n",
      " [ 2088 40199]]\n",
      "f1_score:  0.9587283416210545\n",
      "              precision    recall  f1-score   support\n",
      "\n",
      "         0.0       0.96      0.98      0.97     55123\n",
      "         1.0       0.97      0.95      0.96     42287\n",
      "\n",
      "    accuracy                           0.96     97410\n",
      "   macro avg       0.96      0.96      0.96     97410\n",
      "weighted avg       0.96      0.96      0.96     97410\n",
      "\n"
     ]
    }
   ],
   "source": [
    "predicted_xtrain_dt2=tree_grid_model.predict(xtrain_scaled)\n",
    "print('\\nTraining data')\n",
    "matrix=confusion_matrix(ytrain,predicted_xtrain_dt2)\n",
    "print(matrix)\n",
    "measure_train=classification_report(ytrain,predicted_xtrain_dt2)\n",
    "print('f1_score: ',metrics.f1_score(ytrain,predicted_xtrain_dt2))\n",
    "print(measure_train)"
   ]
  },
  {
   "cell_type": "raw",
   "id": "c36a6bc4",
   "metadata": {},
   "source": [
    "print('\\nTraining Data ')\n",
    "update_performances_train(name='Tuned Decision Tress ',\n",
    "                  model=dt2,\n",
    "                  train=ytrain,\n",
    "                  pred=predicted_xtrain_dt2)\n",
    "perf_score_training"
   ]
  },
  {
   "cell_type": "raw",
   "id": "4473aa11",
   "metadata": {},
   "source": [
    "update_performance(name='Tuned Decision Tress ',\n",
    "                  model=dt2,\n",
    "                  test=ytest,\n",
    "                  pred=ypred_dt2)\n",
    "perf_score"
   ]
  },
  {
   "cell_type": "markdown",
   "id": "03bab5c7",
   "metadata": {},
   "source": [
    "## Random Forest Model "
   ]
  },
  {
   "cell_type": "code",
   "execution_count": 37,
   "id": "b9693ee3",
   "metadata": {
    "scrolled": true
   },
   "outputs": [
    {
     "name": "stdout",
     "output_type": "stream",
     "text": [
      "              precision    recall  f1-score   support\n",
      "\n",
      "         0.0       0.95      0.97      0.96     18329\n",
      "         1.0       0.97      0.94      0.95     14141\n",
      "\n",
      "    accuracy                           0.96     32470\n",
      "   macro avg       0.96      0.96      0.96     32470\n",
      "weighted avg       0.96      0.96      0.96     32470\n",
      "\n"
     ]
    }
   ],
   "source": [
    "rf=RandomForestClassifier()\n",
    "rf.fit(xtrain_scaled,ytrain)\n",
    "ypred_rf=rf.predict(xtest_scaled)\n",
    "print(classification_report(ytest,ypred_rf))"
   ]
  },
  {
   "cell_type": "code",
   "execution_count": 38,
   "id": "f8011214",
   "metadata": {
    "scrolled": true
   },
   "outputs": [
    {
     "name": "stdout",
     "output_type": "stream",
     "text": [
      "\n",
      "Training data\n",
      "[[55012   111]\n",
      " [  200 42087]]\n",
      "f1_score:  0.9963188731727525\n",
      "              precision    recall  f1-score   support\n",
      "\n",
      "         0.0       1.00      1.00      1.00     55123\n",
      "         1.0       1.00      1.00      1.00     42287\n",
      "\n",
      "    accuracy                           1.00     97410\n",
      "   macro avg       1.00      1.00      1.00     97410\n",
      "weighted avg       1.00      1.00      1.00     97410\n",
      "\n"
     ]
    }
   ],
   "source": [
    "predicted_xtrain_rf=rf.predict(xtrain_scaled)\n",
    "print('\\nTraining data')\n",
    "matrix=confusion_matrix(ytrain,predicted_xtrain_rf)\n",
    "print(matrix)\n",
    "measure_train=classification_report(ytrain,predicted_xtrain_rf)\n",
    "print('f1_score: ',metrics.f1_score(ytrain,predicted_xtrain_rf))\n",
    "print(measure_train)"
   ]
  },
  {
   "cell_type": "raw",
   "id": "1d42191b",
   "metadata": {},
   "source": [
    "print('\\nTraining Data ')\n",
    "update_performances_train(name='Random Forest ',\n",
    "                  model=rf,\n",
    "                  train=ytrain,\n",
    "                  pred=predicted_xtrain_rf)\n",
    "perf_score_training"
   ]
  },
  {
   "cell_type": "raw",
   "id": "3b80b9f3",
   "metadata": {},
   "source": [
    "update_performance(name='Random Forest',\n",
    "                  model=rf,\n",
    "                  test=ytest,\n",
    "                  pred=ypred_rf)\n",
    "perf_score"
   ]
  },
  {
   "cell_type": "markdown",
   "id": "c494cdcf",
   "metadata": {},
   "source": [
    "## Tuned Random Forest"
   ]
  },
  {
   "cell_type": "code",
   "execution_count": 39,
   "id": "0460c0ee",
   "metadata": {},
   "outputs": [
    {
     "data": {
      "text/plain": [
       "{'max_depth': 7, 'max_features': 'sqrt', 'n_estimators': 30}"
      ]
     },
     "execution_count": 39,
     "metadata": {},
     "output_type": "execute_result"
    }
   ],
   "source": [
    "params={'n_estimators': [10,15,20,25,30],\n",
    "        'max_features': ['sqrt','log2'],\n",
    "       'max_depth': [5,6,7]}\n",
    "\n",
    "rf1=RandomForestClassifier(random_state=10)\n",
    "rf1_cv=GridSearchCV(rf1,param_grid=params,cv=5,scoring='f1_macro')\n",
    "rf1_cv.fit(xtrain_scaled,ytrain)\n",
    "rf1_cv.best_params_"
   ]
  },
  {
   "cell_type": "code",
   "execution_count": 40,
   "id": "997d5907",
   "metadata": {},
   "outputs": [
    {
     "data": {
      "text/plain": [
       "0.927258478198917"
      ]
     },
     "execution_count": 40,
     "metadata": {},
     "output_type": "execute_result"
    }
   ],
   "source": [
    "rfnew=RandomForestClassifier(**rf1_cv.best_params_,random_state=10)\n",
    "rfnew.fit(xtrain_scaled,ytrain)\n",
    "ypred_rfnew=rfnew.predict(xtest_scaled)\n",
    "f1_score(ytest,ypred_rfnew)"
   ]
  },
  {
   "cell_type": "code",
   "execution_count": 41,
   "id": "29869488",
   "metadata": {},
   "outputs": [
    {
     "name": "stdout",
     "output_type": "stream",
     "text": [
      "\n",
      "Training data\n",
      "[[52318  2805]\n",
      " [ 3410 38877]]\n",
      "f1_score:  0.9259845895509057\n",
      "              precision    recall  f1-score   support\n",
      "\n",
      "         0.0       0.94      0.95      0.94     55123\n",
      "         1.0       0.93      0.92      0.93     42287\n",
      "\n",
      "    accuracy                           0.94     97410\n",
      "   macro avg       0.94      0.93      0.93     97410\n",
      "weighted avg       0.94      0.94      0.94     97410\n",
      "\n"
     ]
    }
   ],
   "source": [
    "predicted_xtrain_rfnew=rfnew.predict(xtrain_scaled)\n",
    "print('\\nTraining data')\n",
    "matrix=confusion_matrix(ytrain,predicted_xtrain_rfnew)\n",
    "print(matrix)\n",
    "measure_train=classification_report(ytrain,predicted_xtrain_rfnew)\n",
    "print('f1_score: ',metrics.f1_score(ytrain,predicted_xtrain_rfnew))\n",
    "print(measure_train)"
   ]
  },
  {
   "cell_type": "raw",
   "id": "b4fe28dc",
   "metadata": {},
   "source": [
    "print('\\nTraining Data ')\n",
    "update_performances_train(name='Random Forest after finding best param',\n",
    "                  model=rfnew,\n",
    "                  train=ytrain,\n",
    "                  pred=predicted_xtrain_rfnew)\n",
    "perf_score_training"
   ]
  },
  {
   "cell_type": "raw",
   "id": "16e67ccb",
   "metadata": {},
   "source": [
    "update_performance(name='Random Forest after finding best param',\n",
    "                  model=rfnew,\n",
    "                  test=ytest,\n",
    "                  pred=ypred_rfnew)\n",
    "perf_score"
   ]
  },
  {
   "cell_type": "markdown",
   "id": "babd5ed4",
   "metadata": {},
   "source": [
    "## Random Forest with Out of Bag"
   ]
  },
  {
   "cell_type": "code",
   "execution_count": 42,
   "id": "58f37c3b",
   "metadata": {},
   "outputs": [
    {
     "data": {
      "text/plain": [
       "0.927258478198917"
      ]
     },
     "execution_count": 42,
     "metadata": {},
     "output_type": "execute_result"
    }
   ],
   "source": [
    "rfoob=RandomForestClassifier(**rf1_cv.best_params_,oob_score=True,random_state=10)\n",
    "rfoob.fit(xtrain_scaled,ytrain)\n",
    "ypred_rfoob=rfoob.predict(xtest_scaled)\n",
    "f1_score(ytest,ypred_rfoob)"
   ]
  },
  {
   "cell_type": "code",
   "execution_count": 43,
   "id": "c361d8c0",
   "metadata": {},
   "outputs": [
    {
     "name": "stdout",
     "output_type": "stream",
     "text": [
      "\n",
      "Training data\n",
      "[[52318  2805]\n",
      " [ 3410 38877]]\n",
      "f1_score:  0.9259845895509057\n",
      "              precision    recall  f1-score   support\n",
      "\n",
      "         0.0       0.94      0.95      0.94     55123\n",
      "         1.0       0.93      0.92      0.93     42287\n",
      "\n",
      "    accuracy                           0.94     97410\n",
      "   macro avg       0.94      0.93      0.93     97410\n",
      "weighted avg       0.94      0.94      0.94     97410\n",
      "\n"
     ]
    }
   ],
   "source": [
    "predicted_xtrain_rfoob=rfoob.predict(xtrain_scaled)\n",
    "print('\\nTraining data')\n",
    "matrix=confusion_matrix(ytrain,predicted_xtrain_rfoob)\n",
    "print(matrix)\n",
    "measure_train=classification_report(ytrain,predicted_xtrain_rfoob)\n",
    "print('f1_score: ',metrics.f1_score(ytrain,predicted_xtrain_rfoob))\n",
    "print(measure_train)"
   ]
  },
  {
   "cell_type": "raw",
   "id": "bdbaeb9b",
   "metadata": {},
   "source": [
    "print('\\nTraining Data ')\n",
    "update_performances_train(name='Random Forest with out of bag',\n",
    "                  model=rfoob,\n",
    "                  train=ytrain,\n",
    "                  pred=predicted_xtrain_rfoob)\n",
    "perf_score_training"
   ]
  },
  {
   "cell_type": "raw",
   "id": "faa552d5",
   "metadata": {},
   "source": [
    "update_performance(name='Random Forest with out of bag',\n",
    "                  model=rfoob,\n",
    "                  test=ytest,\n",
    "                  pred=ypred_rfoob)\n",
    "perf_score"
   ]
  },
  {
   "cell_type": "markdown",
   "id": "c14e7575",
   "metadata": {},
   "source": [
    "## Bagging Knn"
   ]
  },
  {
   "cell_type": "code",
   "execution_count": null,
   "id": "c352bb3b",
   "metadata": {},
   "outputs": [],
   "source": [
    "knn=KNeighborsClassifier(n_neighbors=311)\n",
    "bc_knn=BaggingClassifier(base_estimator=knn,random_state=10)\n",
    "knn_model=bc_knn.fit(xtrain_scaled,ytrain)\n",
    "ypred_bc_knn=knn_model.predict(xtest_scaled)"
   ]
  },
  {
   "cell_type": "code",
   "execution_count": null,
   "id": "11b057cb",
   "metadata": {},
   "outputs": [],
   "source": [
    "predicted_xtrain_bc_knn=knn_model.predict(xtrain_scaled)\n",
    "print('\\nTraining data')\n",
    "matrix=confusion_matrix(ytrain,predicted_xtrain_bc_knn)\n",
    "print(matrix)\n",
    "measure_train=classification_report(ytrain,predicted_xtrain_bc_knn)\n",
    "print('f1_score: ',metrics.f1_score(ytrain,predicted_xtrain_bc_knn))\n",
    "print(measure_train)"
   ]
  },
  {
   "cell_type": "raw",
   "id": "8998ef41",
   "metadata": {},
   "source": [
    "print('\\nTraining Data ')\n",
    "update_performances_train(name='bagged knn',\n",
    "                  model=knn,\n",
    "                  train=ytrain,\n",
    "                  pred=predicted_xtrain_bc_knn)\n",
    "perf_score_training"
   ]
  },
  {
   "cell_type": "raw",
   "id": "e8dc92ae",
   "metadata": {},
   "source": [
    "update_performance(name='bagged knn',\n",
    "                  model=knn,\n",
    "                  test=ytest,\n",
    "                  pred=ypred_bc_knn)\n",
    "perf_score"
   ]
  },
  {
   "cell_type": "markdown",
   "id": "d073425a",
   "metadata": {},
   "source": [
    "## Ada Boosting "
   ]
  },
  {
   "cell_type": "code",
   "execution_count": null,
   "id": "6883551f",
   "metadata": {
    "scrolled": true
   },
   "outputs": [],
   "source": [
    "ada=AdaBoostClassifier(dt,random_state=10)\n",
    "ada.fit(xtrain_scaled,ytrain)\n",
    "ypred_ada=ada.predict(xtest_scaled)\n",
    "print(classification_report(ytest,ypred_ada))"
   ]
  },
  {
   "cell_type": "code",
   "execution_count": null,
   "id": "d8748ede",
   "metadata": {},
   "outputs": [],
   "source": [
    "predicted_xtrain_ada=ada.predict(xtrain_scaled)\n",
    "print('\\nTraining data')\n",
    "matrix=confusion_matrix(ytrain,predicted_xtrain_ada)\n",
    "print(matrix)\n",
    "measure_train=classification_report(ytrain,predicted_xtrain_ada)\n",
    "print('f1_score: ',metrics.f1_score(ytrain,predicted_xtrain_ada))\n",
    "print(measure_train)"
   ]
  },
  {
   "cell_type": "raw",
   "id": "ceb95823",
   "metadata": {},
   "source": [
    "print('\\nTraining Data ')\n",
    "update_performances_train(name='Adaboost Classifier',\n",
    "                  model=ada,\n",
    "                  train=ytrain,\n",
    "                  pred=predicted_xtrain_ada)\n",
    "perf_score_training"
   ]
  },
  {
   "cell_type": "raw",
   "id": "186d222f",
   "metadata": {},
   "source": [
    "update_performance(name='Adaboost Classifier',\n",
    "                  model=ada,\n",
    "                  test=ytest,\n",
    "                  pred=ypred_ada)\n",
    "perf_score"
   ]
  },
  {
   "cell_type": "markdown",
   "id": "5dd039b3",
   "metadata": {},
   "source": [
    "## Gradient Boost Classifier "
   ]
  },
  {
   "cell_type": "code",
   "execution_count": null,
   "id": "243f214b",
   "metadata": {
    "scrolled": true
   },
   "outputs": [],
   "source": [
    "gbc=GradientBoostingClassifier()\n",
    "gbc.fit(xtrain_scaled,ytrain)\n",
    "ypred_gbc=rf.predict(xtest_scaled)\n",
    "print(classification_report(ytest,ypred_gbc))"
   ]
  },
  {
   "cell_type": "code",
   "execution_count": null,
   "id": "62207a56",
   "metadata": {},
   "outputs": [],
   "source": [
    "predicted_xtrain_gbc=gbc.predict(xtrain_scaled)\n",
    "print('\\nTraining data')\n",
    "matrix=confusion_matrix(ytrain,predicted_xtrain_gbc)\n",
    "print(matrix)\n",
    "measure_train=classification_report(ytrain,predicted_xtrain_gbc)\n",
    "print('f1_score: ',metrics.f1_score(ytrain,predicted_xtrain_gbc))\n",
    "print(measure_train)"
   ]
  },
  {
   "cell_type": "raw",
   "id": "80d7b7f9",
   "metadata": {},
   "source": [
    "print('\\nTraining Data ')\n",
    "update_performances_train(name='Gradient Boost Classifier',\n",
    "                  model=gbc,\n",
    "                  train=ytrain,\n",
    "                  pred=predicted_xtrain_gbc)\n",
    "perf_score_training"
   ]
  },
  {
   "cell_type": "raw",
   "id": "c98fac88",
   "metadata": {},
   "source": [
    "update_performance(name='Gradient Boost Classifier',\n",
    "                  model=gbc,\n",
    "                  test=ytest,\n",
    "                  pred=ypred_gbc)\n",
    "perf_score"
   ]
  },
  {
   "cell_type": "markdown",
   "id": "bf764d85",
   "metadata": {},
   "source": [
    "## XG Boost Classifier "
   ]
  },
  {
   "cell_type": "code",
   "execution_count": null,
   "id": "ca6b16cb",
   "metadata": {
    "scrolled": true
   },
   "outputs": [],
   "source": [
    "xg=XGBClassifier()\n",
    "xg.fit(xtrain_scaled,ytrain)\n",
    "ypred_xg=xg.predict(xtest_scaled)\n",
    "print(classification_report(ytest,ypred_xg))"
   ]
  },
  {
   "cell_type": "code",
   "execution_count": null,
   "id": "acff8702",
   "metadata": {},
   "outputs": [],
   "source": [
    "predicted_xtrain_xg=xg.predict(xtrain_scaled)\n",
    "print('\\nTraining data')\n",
    "matrix=confusion_matrix(ytrain,predicted_xtrain_xg)\n",
    "print(matrix)\n",
    "measure_train=classification_report(ytrain,predicted_xtrain_xg)\n",
    "print('f1_score: ',metrics.f1_score(ytrain,predicted_xtrain_xg))\n",
    "print(measure_train)"
   ]
  },
  {
   "cell_type": "raw",
   "id": "c8c6f5e0",
   "metadata": {},
   "source": [
    "print('\\nTraining Data ')\n",
    "update_performances_train(name='XGBoost Classifier',\n",
    "                  model=xg,\n",
    "                  train=ytrain,\n",
    "                  pred=predicted_xtrain_xg)\n",
    "perf_score_training"
   ]
  },
  {
   "cell_type": "raw",
   "id": "828fb1b4",
   "metadata": {},
   "source": [
    "update_performance(name='XGBoost Classifier',\n",
    "                  model=xg,\n",
    "                  test=ytest,\n",
    "                  pred=ypred_xg)\n",
    "perf_score"
   ]
  },
  {
   "cell_type": "markdown",
   "id": "b8e61ebd",
   "metadata": {},
   "source": [
    "## Stacking "
   ]
  },
  {
   "cell_type": "code",
   "execution_count": null,
   "id": "aca1931d",
   "metadata": {},
   "outputs": [],
   "source": [
    "lr=LogisticRegression()\n",
    "knn=KNeighborsClassifier()\n",
    "dt=DecisionTreeClassifier()\n",
    "base_learner=[('lr_model', lr ),('knn_model', knn),('dt_model', dt)]\n",
    "stack=StackingClassifier(estimators=base_learner, final_estimator=GaussianNB())\n",
    "stack.fit(xtrain_scaled,ytrain)\n",
    "ypred_stack=stack.predict(xtest_scaled)"
   ]
  },
  {
   "cell_type": "code",
   "execution_count": null,
   "id": "9262cf36",
   "metadata": {},
   "outputs": [],
   "source": [
    "predicted_xtrain_stack=stack.predict(xtrain_scaled)\n",
    "print('\\nTraining data')\n",
    "matrix=confusion_matrix(ytrain,predicted_xtrain_stack)\n",
    "print(matrix)\n",
    "measure_train=classification_report(ytrain,predicted_xtrain_stack)\n",
    "print('f1_score: ',metrics.f1_score(ytrain,predicted_xtrain_stack))\n",
    "print(measure_train)"
   ]
  },
  {
   "cell_type": "raw",
   "id": "fea81038",
   "metadata": {},
   "source": [
    "print('\\nTraining Data ')\n",
    "update_performances_train(name='Stacking',\n",
    "                  model=stack,\n",
    "                  train=ytrain,\n",
    "                  pred=predicted_xtrain_stack)\n",
    "perf_score_training"
   ]
  },
  {
   "cell_type": "raw",
   "id": "a813bd46",
   "metadata": {},
   "source": [
    "update_performance(name='Stacking',\n",
    "                  model=stack,\n",
    "                  test=ytest,\n",
    "                  pred=ypred_stack)\n",
    "perf_score"
   ]
  },
  {
   "cell_type": "code",
   "execution_count": null,
   "id": "76aefa20",
   "metadata": {},
   "outputs": [],
   "source": [
    "# here random forest and gradien boost is giving better model "
   ]
  },
  {
   "cell_type": "markdown",
   "id": "b0095faa",
   "metadata": {},
   "source": [
    "## Variable Importance plot of decision Tree"
   ]
  },
  {
   "cell_type": "code",
   "execution_count": null,
   "id": "992a5de6",
   "metadata": {},
   "outputs": [],
   "source": [
    "plot_vimp(0, x, y, feature_names)"
   ]
  },
  {
   "cell_type": "markdown",
   "id": "72c7dbb4",
   "metadata": {},
   "source": [
    "## Variable Importance plot of Random Forest"
   ]
  },
  {
   "cell_type": "code",
   "execution_count": null,
   "id": "90af5752",
   "metadata": {},
   "outputs": [],
   "source": [
    "plot_vimp(1,x,y,feature_names)"
   ]
  },
  {
   "cell_type": "markdown",
   "id": "b5d80636",
   "metadata": {},
   "source": [
    "## Variable Importance plot of GradientBoost"
   ]
  },
  {
   "cell_type": "code",
   "execution_count": null,
   "id": "751d1ef3",
   "metadata": {},
   "outputs": [],
   "source": [
    "plot_vimp(2,x,y,feature_names)"
   ]
  },
  {
   "cell_type": "markdown",
   "id": "77cd8421",
   "metadata": {},
   "source": [
    "## Variable Importance plot of AdaBoost"
   ]
  },
  {
   "cell_type": "code",
   "execution_count": null,
   "id": "53b6745b",
   "metadata": {},
   "outputs": [],
   "source": [
    "plot_vimp(3,x,y,feature_names)"
   ]
  },
  {
   "cell_type": "markdown",
   "id": "e15a8f6d",
   "metadata": {},
   "source": [
    "## Variable Importance plot of XGBoost"
   ]
  },
  {
   "cell_type": "code",
   "execution_count": null,
   "id": "b9491963",
   "metadata": {
    "scrolled": false
   },
   "outputs": [],
   "source": [
    "plot_vimp(4,x,y,feature_names)"
   ]
  },
  {
   "cell_type": "markdown",
   "id": "445e099f",
   "metadata": {},
   "source": [
    "## Confusion Matrix and ROC curve of Logistic Regression"
   ]
  },
  {
   "cell_type": "code",
   "execution_count": null,
   "id": "d1bec98c",
   "metadata": {
    "scrolled": false
   },
   "outputs": [],
   "source": [
    "con_lr=confusion_matrix(ytest,ypred_lr)\n",
    "conf_matrix = pd.DataFrame(data = con_lr,columns = ['Predicted:0','Predicted:1'], index = ['Actual:0','Actual:1'])\n",
    "sns.heatmap(conf_matrix, annot = True, fmt = 'd', cmap = ListedColormap(['lightskyblue']), cbar = False, \n",
    "            linewidths = 0.1, annot_kws = {'size':25})\n",
    "# set the font size of x-axis ticks using 'fontsize'\n",
    "plt.xticks(fontsize = 10)\n",
    "# set the font size of y-axis ticks using 'fontsize'\n",
    "plt.yticks(fontsize = 10)\n",
    "# display the plot\n",
    "plt.show()\n",
    "draw_roc(ytest,ypred_lr)"
   ]
  },
  {
   "cell_type": "markdown",
   "id": "40cc2404",
   "metadata": {},
   "source": [
    "## Confusion Matrix and ROC curve of KNeighbour "
   ]
  },
  {
   "cell_type": "code",
   "execution_count": null,
   "id": "05476db0",
   "metadata": {
    "scrolled": false
   },
   "outputs": [],
   "source": [
    "con_knn=confusion_matrix(ytest,ypred_knn)\n",
    "conf_matrix = pd.DataFrame(data = con_knn,columns = ['Predicted:0','Predicted:1'], index = ['Actual:0','Actual:1'])\n",
    "sns.heatmap(conf_matrix, annot = True, fmt = 'd', cmap = ListedColormap(['lightskyblue']), cbar = False, \n",
    "            linewidths = 0.1, annot_kws = {'size':25})\n",
    "# set the font size of x-axis ticks using 'fontsize'\n",
    "plt.xticks(fontsize = 10)\n",
    "# set the font size of y-axis ticks using 'fontsize'\n",
    "plt.yticks(fontsize = 10)\n",
    "# display the plot\n",
    "plt.show()\n",
    "draw_roc(ytest,ypred_knn)"
   ]
  },
  {
   "cell_type": "markdown",
   "id": "3a01499e",
   "metadata": {},
   "source": [
    "## Confusion Matrix and ROC curve of Gaussian Naive Bayes"
   ]
  },
  {
   "cell_type": "code",
   "execution_count": null,
   "id": "576fdb16",
   "metadata": {
    "scrolled": false
   },
   "outputs": [],
   "source": [
    "con_knn=confusion_matrix(ytest,ypred_gnb)\n",
    "conf_matrix = pd.DataFrame(data = con_knn,columns = ['Predicted:0','Predicted:1'], index = ['Actual:0','Actual:1'])\n",
    "sns.heatmap(conf_matrix, annot = True, fmt = 'd', cmap = ListedColormap(['lightskyblue']), cbar = False, \n",
    "            linewidths = 0.1, annot_kws = {'size':25})\n",
    "# set the font size of x-axis ticks using 'fontsize'\n",
    "plt.xticks(fontsize = 10)\n",
    "# set the font size of y-axis ticks using 'fontsize'\n",
    "plt.yticks(fontsize = 10)\n",
    "# display the plot\n",
    "plt.show()\n",
    "draw_roc(ytest,ypred_gnb)"
   ]
  },
  {
   "cell_type": "markdown",
   "id": "444b6b55",
   "metadata": {},
   "source": [
    "## Confusion Matrix and ROC curve of Decision Tree"
   ]
  },
  {
   "cell_type": "code",
   "execution_count": null,
   "id": "318e7360",
   "metadata": {
    "scrolled": false
   },
   "outputs": [],
   "source": [
    "con_knn=confusion_matrix(ytest,ypred_dt)\n",
    "conf_matrix = pd.DataFrame(data = con_knn,columns = ['Predicted:0','Predicted:1'], index = ['Actual:0','Actual:1'])\n",
    "sns.heatmap(conf_matrix, annot = True, fmt = 'd', cmap = ListedColormap(['lightskyblue']), cbar = False, \n",
    "            linewidths = 0.1, annot_kws = {'size':25})\n",
    "# set the font size of x-axis ticks using 'fontsize'\n",
    "plt.xticks(fontsize = 10)\n",
    "# set the font size of y-axis ticks using 'fontsize'\n",
    "plt.yticks(fontsize = 10)\n",
    "# display the plot\n",
    "plt.show()\n",
    "draw_roc(ytest,ypred_dt)"
   ]
  },
  {
   "cell_type": "markdown",
   "id": "cb054e25",
   "metadata": {},
   "source": [
    "## Confusion Matrix and ROC curve of Random Forest"
   ]
  },
  {
   "cell_type": "code",
   "execution_count": null,
   "id": "098e2d12",
   "metadata": {
    "scrolled": false
   },
   "outputs": [],
   "source": [
    "con_knn=confusion_matrix(ytest,ypred_rf)\n",
    "conf_matrix = pd.DataFrame(data = con_knn,columns = ['Predicted:0','Predicted:1'], index = ['Actual:0','Actual:1'])\n",
    "sns.heatmap(conf_matrix, annot = True, fmt = 'd', cmap = ListedColormap(['lightskyblue']), cbar = False, \n",
    "            linewidths = 0.1, annot_kws = {'size':25})\n",
    "# set the font size of x-axis ticks using 'fontsize'\n",
    "plt.xticks(fontsize = 10)\n",
    "# set the font size of y-axis ticks using 'fontsize'\n",
    "plt.yticks(fontsize = 10)\n",
    "# display the plot\n",
    "plt.show()\n",
    "draw_roc(ytest,ypred_rf)"
   ]
  },
  {
   "cell_type": "markdown",
   "id": "1026140f",
   "metadata": {},
   "source": [
    "## Confusion Matrix and ROC curve of Gradient Boost"
   ]
  },
  {
   "cell_type": "code",
   "execution_count": null,
   "id": "611de783",
   "metadata": {
    "scrolled": false
   },
   "outputs": [],
   "source": [
    "con_knn=confusion_matrix(ytest,ypred_gbc)\n",
    "conf_matrix = pd.DataFrame(data = con_knn,columns = ['Predicted:0','Predicted:1'], index = ['Actual:0','Actual:1'])\n",
    "sns.heatmap(conf_matrix, annot = True, fmt = 'd', cmap = ListedColormap(['lightskyblue']), cbar = False, \n",
    "            linewidths = 0.1, annot_kws = {'size':25})\n",
    "# set the font size of x-axis ticks using 'fontsize'\n",
    "plt.xticks(fontsize = 10)\n",
    "# set the font size of y-axis ticks using 'fontsize'\n",
    "plt.yticks(fontsize = 10)\n",
    "# display the plot\n",
    "plt.show()\n",
    "draw_roc(ytest,ypred_gbc)"
   ]
  },
  {
   "cell_type": "markdown",
   "id": "a2c27795",
   "metadata": {},
   "source": [
    "## Confusion Matrix and ROC curve of AdaBoost"
   ]
  },
  {
   "cell_type": "code",
   "execution_count": null,
   "id": "b87c38b5",
   "metadata": {
    "scrolled": false
   },
   "outputs": [],
   "source": [
    "con_knn=confusion_matrix(ytest,ypred_ada)\n",
    "conf_matrix = pd.DataFrame(data = con_knn,columns = ['Predicted:0','Predicted:1'], index = ['Actual:0','Actual:1'])\n",
    "sns.heatmap(conf_matrix, annot = True, fmt = 'd', cmap = ListedColormap(['lightskyblue']), cbar = False, \n",
    "            linewidths = 0.1, annot_kws = {'size':25})\n",
    "# set the font size of x-axis ticks using 'fontsize'\n",
    "plt.xticks(fontsize = 10)\n",
    "# set the font size of y-axis ticks using 'fontsize'\n",
    "plt.yticks(fontsize = 10)\n",
    "# display the plot\n",
    "plt.show()\n",
    "draw_roc(ytest,ypred_ada)"
   ]
  },
  {
   "cell_type": "markdown",
   "id": "1b3ed0fd",
   "metadata": {},
   "source": [
    "## Confusion Matrix and ROC curve of XGBoost"
   ]
  },
  {
   "cell_type": "code",
   "execution_count": null,
   "id": "a0872ed7",
   "metadata": {},
   "outputs": [],
   "source": [
    "con_knn=confusion_matrix(ytest,ypred_xg)\n",
    "conf_matrix = pd.DataFrame(data = con_knn,columns = ['Predicted:0','Predicted:1'], index = ['Actual:0','Actual:1'])\n",
    "sns.heatmap(conf_matrix, annot = True, fmt = 'd', cmap = ListedColormap(['lightskyblue']), cbar = False, \n",
    "            linewidths = 0.1, annot_kws = {'size':25})\n",
    "# set the font size of x-axis ticks using 'fontsize'\n",
    "plt.xticks(fontsize = 10)\n",
    "# set the font size of y-axis ticks using 'fontsize'\n",
    "plt.yticks(fontsize = 10)\n",
    "# display the plot\n",
    "plt.show()\n",
    "draw_roc(ytest,ypred_xg)"
   ]
  },
  {
   "cell_type": "code",
   "execution_count": null,
   "id": "10bf568f",
   "metadata": {},
   "outputs": [],
   "source": []
  }
 ],
 "metadata": {
  "kernelspec": {
   "display_name": "Python 3 (ipykernel)",
   "language": "python",
   "name": "python3"
  },
  "language_info": {
   "codemirror_mode": {
    "name": "ipython",
    "version": 3
   },
   "file_extension": ".py",
   "mimetype": "text/x-python",
   "name": "python",
   "nbconvert_exporter": "python",
   "pygments_lexer": "ipython3",
   "version": "3.11.5"
  }
 },
 "nbformat": 4,
 "nbformat_minor": 5
}
